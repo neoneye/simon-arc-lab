{
 "cells": [
  {
   "cell_type": "code",
   "execution_count": 18,
   "id": "91abe9ed-a114-4639-9a34-5b1d5bfc1929",
   "metadata": {},
   "outputs": [
    {
     "name": "stderr",
     "output_type": "stream",
     "text": [
      "Special tokens have been added in the vocabulary, make sure the associated word embeddings are fine-tuned or trained.\n"
     ]
    }
   ],
   "source": [
    "model_directory = '/Users/neoneye/nobackup/git/simon-arc-lab-model78'\n",
    "\n",
    "from transformers import T5ForConditionalGeneration, RobertaTokenizer\n",
    "model = T5ForConditionalGeneration.from_pretrained(model_directory)\n",
    "tokenizer = RobertaTokenizer.from_pretrained(model_directory)"
   ]
  },
  {
   "cell_type": "code",
   "execution_count": 19,
   "id": "7af04db9-2ade-4110-bf21-3d3bd55819f4",
   "metadata": {},
   "outputs": [
    {
     "name": "stdout",
     "output_type": "stream",
     "text": [
      "response: 2 12 12,,,2,,,2,,,,\n"
     ]
    }
   ],
   "source": [
    "#s = \"transform SIMONARCRLEROW to symbols\\na4y6q7y3o5\"\n",
    "#s = \"Histogram after deserializing SimonsRLERow\\nc5\"\n",
    "#s = \"Convert string to Simon-ARC-RLE-Image\\n494411344,244423242,444334224,803294472,480442407\"\n",
    "s = \"SIMONARCRLEIMAGE from Json\\n[[6,9],[3,9],[6,9],[9,3],[9,3],[4,3],[4,4],[0,4],[3,4]]\"\n",
    "#s = \"SimonsRLEImage, 3x3 area, how many neighbors have the same color as center\\n9 9 917a918a1,c9681a9,c981b9,a918d9,978791a79,929a1a907,9291b907,b5b9240,b9a52a90\"\n",
    "#s = \"Histogram of SimonsRLEImage\\n7 9 a671717,1701015,b7a107,a51a715,0a15a15,a101b0,b10515,5b0a17,51751a5\"\n",
    "#s = \"Flipx SimonsRLEImage\\n7 9 a671717,1701015,b7a107,a51a715,0a15a15,a101b0,b10515,5b0a17,51751a5\"\n",
    "#s = \"Rotate CCW Simon-ARC-RLE-Image\\n6 2 18c0,8d0\"\n",
    "#s = \"Transform pixels to Simon-ARC-RLE-Image\\n6 2 18c0,8d0\"\n",
    "#s = \"histogram after deserializing SIMONARCRLEIMAGE\\n3 3 a75,7a2,a92\"\n",
    "#s = \"This is simon-arc-rle-task data. Extract 'Input 3 Example'\\nInput 0 Example\\n5 8 c80,08501,08a18,81a08,0a850,b858,80b8,c80\\nOutput 0 Example\\n8 10 6256a2a5,c1c7,6b762a6,6765b61,275b6a5,27165252,6a952561,56162a56,652a5651,a65626a5\\nInput 1 Example\\n8 7 b2a5b2,a2172a52,b27c2,a2a7c2,a27d2,,\\nOutput 1 Example\\n10 5 08a9c6a8,1b681c8,861b89b8,068a19a818,a1c81a81\\nInput 2 Example\\n7 9 0804a04,0870a40,078a0a4,0780a20,d1a0,7808a04,70b804,7b0840,7b0484\\nOutput 2 Example\\n5 8 45454,42a74,a7214,75414,74214,70514,1a614,5a410\\nInput 3 Example\\n9 5 96936c9,b93a6a90,b9396a96,a693c96,b606a909\\nOutput 3 Example\\n8 8 292d9,92e4,a2a94b9,94a9a429,e949,a92c92,4a24c9,4a9492a9\\nInput 4 Example\\n5 6 46141,46b4,16b4,46b4,4,14141\\nOutput 4 Example\\n8 8 19139191,a194c6,1b64191,16a14b1,16b9141,96139a14,96b1491,9a19a1a9\\nInput 5 Test\\n6 7 6a25a6,62c6,,2d6,2b656,,c656\\nOutput 5 Test\\nNone\"\n",
    "\n",
    "input_ids = tokenizer(s, return_tensors='pt').input_ids\n",
    "outputs = model.generate(input_ids)\n",
    "print(\"response:\", tokenizer.decode(outputs[0], skip_special_tokens=True))"
   ]
  },
  {
   "cell_type": "code",
   "execution_count": null,
   "id": "47ebbf7b-2ca7-4723-a1f5-ba3235c733b6",
   "metadata": {},
   "outputs": [],
   "source": []
  }
 ],
 "metadata": {
  "kernelspec": {
   "display_name": "Python (Simons CLI env)",
   "language": "python",
   "name": "myenv"
  },
  "language_info": {
   "codemirror_mode": {
    "name": "ipython",
    "version": 3
   },
   "file_extension": ".py",
   "mimetype": "text/x-python",
   "name": "python",
   "nbconvert_exporter": "python",
   "pygments_lexer": "ipython3",
   "version": "3.11.8"
  }
 },
 "nbformat": 4,
 "nbformat_minor": 5
}
