{
 "cells": [
  {
   "cell_type": "code",
   "execution_count": null,
   "metadata": {},
   "outputs": [],
   "source": [
    "from transformer_classifier_util import MyDataset\n",
    "from transformer_classifier import TransformerClassifier\n",
    "import torch\n",
    "import torch.nn as nn\n",
    "from torch.utils.data import DataLoader\n",
    "import torch.optim as optim\n",
    "import numpy as np\n",
    "\n",
    "# Check if 'mps' is available\n",
    "if torch.backends.mps.is_available():\n",
    "    device = torch.device('mps')\n",
    "    print(\"Using 'mps' device\")\n",
    "else:\n",
    "    device = torch.device('cpu')\n",
    "    print(\"Using 'cpu' device\")\n",
    "\n",
    "dataset_dir = '/Users/neoneye/git/python_arc/run_tasks_result/20241119_151040_jsonl_trainingdata'\n",
    "\n",
    "dataset = MyDataset.load_jsonl_files(dataset_dir, 3)\n",
    "dataloader = DataLoader(dataset, batch_size=32, shuffle=True)\n",
    "\n",
    "# Initialize the model, loss function, and optimizer\n",
    "model = TransformerClassifier(src_vocab_size=528, num_classes=10)\n",
    "model.to(device)  # Move model to 'mps' device\n",
    "\n",
    "criterion = nn.CrossEntropyLoss()\n",
    "optimizer = optim.Adam(model.parameters(), lr=0.0001)\n",
    "\n",
    "num_epochs = 10\n",
    "\n",
    "# Training loop\n",
    "for epoch in range(num_epochs):\n",
    "    print(f'Epoch {epoch+1}/{num_epochs}')\n",
    "    count_limit = 60000\n",
    "    count = 0\n",
    "    for batch_idx, (src, ys) in enumerate(dataloader):\n",
    "        # Move data to 'mps' device\n",
    "        src = src.to(device)\n",
    "        ys = ys.to(device)\n",
    "\n",
    "        optimizer.zero_grad()\n",
    "        output = model(src)\n",
    "        loss = criterion(output, ys)\n",
    "        loss.backward()\n",
    "        optimizer.step()\n",
    "        print(f'Epoch [{epoch+1}/{num_epochs}], Batch [{batch_idx+1}], Loss: {loss.item():.4f}')\n",
    "\n",
    "        count += 1\n",
    "        if count >= count_limit:\n",
    "            break\n"
   ]
  },
  {
   "cell_type": "code",
   "execution_count": null,
   "metadata": {},
   "outputs": [],
   "source": [
    "# After training\n",
    "torch.save(model.state_dict(), '/Users/neoneye/git/python_arc/run_tasks_result/transformer_classifier.pth')\n"
   ]
  }
 ],
 "metadata": {
  "accelerator": "GPU",
  "colab": {
   "provenance": []
  },
  "gpuClass": "standard",
  "kernelspec": {
   "display_name": "venv",
   "language": "python",
   "name": "python3"
  },
  "language_info": {
   "codemirror_mode": {
    "name": "ipython",
    "version": 3
   },
   "file_extension": ".py",
   "mimetype": "text/x-python",
   "name": "python",
   "nbconvert_exporter": "python",
   "pygments_lexer": "ipython3",
   "version": "3.12.4"
  }
 },
 "nbformat": 4,
 "nbformat_minor": 0
}
