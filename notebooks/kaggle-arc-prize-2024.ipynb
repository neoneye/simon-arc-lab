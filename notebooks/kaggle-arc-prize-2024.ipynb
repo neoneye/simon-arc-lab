{
 "cells": [
  {
   "cell_type": "markdown",
   "metadata": {},
   "source": [
    "# ARC Prize 2024 - Offline Mode - by Simon Strandgaard\n"
   ]
  },
  {
   "cell_type": "code",
   "execution_count": null,
   "metadata": {},
   "outputs": [],
   "source": [
    "class cfg:\n",
    "    #model_path = '/kaggle/input/simon-arc-lab-model184/transformers/default/6/simon-arc-lab-model240/simon-arc-lab-model240'\n",
    "    #model_path = '/kaggle/input/simon-arc-lab-model184/transformers/default/7/simon-arc-lab-model256/simon-arc-lab-model256'\n",
    "    #model_path = '/kaggle/input/simon-arc-lab-model184/transformers/default/8/simon-arc-lab-model289'\n",
    "    #model_path = '/kaggle/input/simon-arc-lab-model184/transformers/default/9/simon-arc-lab-model309'\n",
    "    #model_path = '/kaggle/input/simon-arc-lab-model184/transformers/default/10/simon-arc-lab-model351'\n",
    "    #model_path = '/kaggle/input/simon-arc-lab-model184/transformers/default/11/simon-arc-lab-model460'\n",
    "    #model_path = '/kaggle/input/simon-arc-lab-model184/transformers/default/12/simon-arc-lab-model471'\n",
    "    #model_path = '/kaggle/input/simon-arc-lab-model184/transformers/default/14/simon-arc-lab-model533'\n",
    "    #model_path = '/kaggle/input/simon-arc-lab-model184/transformers/default/15/simon-arc-lab-model538'\n",
    "    model_path = '/kaggle/input/simon-arc-lab-model184/transformers/default/16/simon-arc-lab-model625'\n",
    "    #repo_path = '/kaggle/input/slug-simon-arc-lab/transformers/default/1'\n",
    "    repo_path = '/kaggle/input/simon-arc-lab'\n",
    "    #repo_path = '/kaggle/working/simon-arc-lab'"
   ]
  },
  {
   "cell_type": "code",
   "execution_count": null,
   "metadata": {},
   "outputs": [],
   "source": [
    "#!ls -la /kaggle/input/simon-arc-lab-model184/transformers/default/7\n",
    "#!whoami\n",
    "#!uname -a\n",
    "#!rm -r *\n",
    "#!git clone https://github.com/neoneye/simon-arc-lab.git\n",
    "#!pip install -r /kaggle/working/simon-arc-lab/requirements_kaggle.txt"
   ]
  },
  {
   "cell_type": "code",
   "execution_count": null,
   "metadata": {},
   "outputs": [],
   "source": [
    "!cd {cfg.repo_path} && sh test.sh"
   ]
  },
  {
   "cell_type": "code",
   "execution_count": null,
   "metadata": {},
   "outputs": [],
   "source": [
    "import sys\n",
    "sys.path.append(cfg.repo_path)"
   ]
  },
  {
   "cell_type": "code",
   "execution_count": null,
   "metadata": {},
   "outputs": [],
   "source": [
    "from simon_arc_lab.taskset import TaskSet\n",
    "from simon_arc_lab.task import Task\n",
    "from simon_arc_model.model import Model\n",
    "from simon_arc_model.work_manager_simple import WorkManagerSimple\n",
    "from simon_arc_model.work_manager_decision_tree import WorkManagerDecisionTree\n",
    "\n",
    "#work_manager_class = WorkManagerSimple\n",
    "work_manager_class = WorkManagerDecisionTree\n",
    "print(f\"Using WorkManager of type: {work_manager_class.__name__}\")\n",
    "\n",
    "taskset = TaskSet.load_kaggle_arcprize2024_json('/kaggle/input/arc-prize-2024/arc-agi_test_challenges.json')\n",
    "print(taskset)\n",
    "taskset.show_random_tasks()"
   ]
  },
  {
   "cell_type": "code",
   "execution_count": null,
   "metadata": {},
   "outputs": [],
   "source": [
    "#model = Model(cfg.model_path, 512)\n",
    "model = Model(cfg.model_path, 1024)\n"
   ]
  },
  {
   "cell_type": "code",
   "execution_count": null,
   "metadata": {},
   "outputs": [],
   "source": [
    "wm = work_manager_class(model, taskset)\n",
    "#wm.discard_items_with_too_long_prompts(500)\n",
    "#wm.discard_items_with_too_long_prompts(1000)\n",
    "wm.process_all_work_items()\n",
    "# wm.process_all_work_items(save_dir='run_tasks_result')\n",
    "# wm.process_all_work_items(show=True)\n",
    "wm.discard_items_where_predicted_output_is_identical_to_the_input()"
   ]
  },
  {
   "cell_type": "code",
   "execution_count": null,
   "metadata": {},
   "outputs": [],
   "source": [
    "wm.summary()\n",
    "wm.save_arcprize2024_submission_file('submission.json')\n"
   ]
  }
 ],
 "metadata": {
  "kaggle": {
   "accelerator": "none",
   "dataSources": [
    {
     "databundleVersionId": 8951125,
     "sourceId": 67357,
     "sourceType": "competition"
    },
    {
     "datasetId": 5526165,
     "sourceId": 9670184,
     "sourceType": "datasetVersion"
    },
    {
     "modelId": 102250,
     "modelInstanceId": 77620,
     "sourceId": 132571,
     "sourceType": "modelInstanceVersion"
    }
   ],
   "isGpuEnabled": false,
   "isInternetEnabled": false,
   "language": "python",
   "sourceType": "notebook"
  },
  "kernelspec": {
   "display_name": "Python 3",
   "language": "python",
   "name": "python3"
  },
  "language_info": {
   "codemirror_mode": {
    "name": "ipython",
    "version": 3
   },
   "file_extension": ".py",
   "mimetype": "text/x-python",
   "name": "python",
   "nbconvert_exporter": "python",
   "pygments_lexer": "ipython3",
   "version": "3.10.14"
  }
 },
 "nbformat": 4,
 "nbformat_minor": 4
}
