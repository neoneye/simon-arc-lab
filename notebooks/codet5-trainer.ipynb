{
 "cells": [
  {
   "cell_type": "markdown",
   "metadata": {
    "id": "h-7bq0hWR3ny"
   },
   "source": [
    "## Set-up environment\n",
    "\n",
    "Let's first install the required libraries:\n",
    "* HuggingFace Transformers (for the CodeT5 model)\n",
    "* HuggingFace Datasets (for loading the dataset + preprocessing it)\n",
    "* PyTorch Lightning (for training)\n",
    "* Weights and Biases (for logging training metrics)."
   ]
  },
  {
   "cell_type": "code",
   "execution_count": null,
   "metadata": {
    "colab": {
     "base_uri": "https://localhost:8080/"
    },
    "executionInfo": {
     "elapsed": 13262,
     "status": "ok",
     "timestamp": 1728680795729,
     "user": {
      "displayName": "Simon Strandgaard",
      "userId": "00369037028151231486"
     },
     "user_tz": -120
    },
    "id": "1PQBSCdVJhgY",
    "outputId": "2d1efb9c-172d-4596-a728-c324e796c783"
   },
   "outputs": [],
   "source": [
    "!pip install --upgrade pip"
   ]
  },
  {
   "cell_type": "code",
   "execution_count": null,
   "metadata": {
    "colab": {
     "base_uri": "https://localhost:8080/"
    },
    "executionInfo": {
     "elapsed": 19991,
     "status": "ok",
     "timestamp": 1728680815716,
     "user": {
      "displayName": "Simon Strandgaard",
      "userId": "00369037028151231486"
     },
     "user_tz": -120
    },
    "id": "i8n4pEe2RXFB",
    "outputId": "57b86a48-d98c-4ddb-836e-c9e71707f5b6"
   },
   "outputs": [],
   "source": [
    "!pip install -q huggingface_hub transformers datasets pytorch-lightning wandb"
   ]
  },
  {
   "cell_type": "code",
   "execution_count": null,
   "metadata": {
    "colab": {
     "base_uri": "https://localhost:8080/"
    },
    "executionInfo": {
     "elapsed": 644,
     "status": "ok",
     "timestamp": 1728680816356,
     "user": {
      "displayName": "Simon Strandgaard",
      "userId": "00369037028151231486"
     },
     "user_tz": -120
    },
    "id": "0haOHyP1bDOH",
    "outputId": "396f5107-1542-4694-eac4-7d034bd546c7"
   },
   "outputs": [],
   "source": [
    "from huggingface_hub import login\n",
    "\n",
    "login(token='SECRET')"
   ]
  },
  {
   "cell_type": "code",
   "execution_count": null,
   "metadata": {
    "colab": {
     "base_uri": "https://localhost:8080/"
    },
    "executionInfo": {
     "elapsed": 4130,
     "status": "ok",
     "timestamp": 1728680820481,
     "user": {
      "displayName": "Simon Strandgaard",
      "userId": "00369037028151231486"
     },
     "user_tz": -120
    },
    "id": "HKDavW52ZuKv",
    "outputId": "948ea7c0-ece4-445a-c899-38f684e1188f"
   },
   "outputs": [],
   "source": [
    "import wandb\n",
    "\n",
    "wandb.login(key='SECRET')"
   ]
  },
  {
   "cell_type": "code",
   "execution_count": null,
   "metadata": {
    "executionInfo": {
     "elapsed": 4,
     "status": "ok",
     "timestamp": 1728680820481,
     "user": {
      "displayName": "Simon Strandgaard",
      "userId": "00369037028151231486"
     },
     "user_tz": -120
    },
    "id": "qiYH64ujthmx"
   },
   "outputs": [],
   "source": [
    "base_model_name = \"simon-arc-lab-model681\"\n",
    "result_model_name = \"simon-arc-lab-model682\"\n",
    "dataset_path = \"neoneye/simon-arc-combine-v161\"\n",
    "base_model_path = f\"neoneye/{base_model_name}\"\n",
    "\n",
    "max_input_length = 1024\n",
    "max_target_length = 128\n",
    "my_learning_rate = 1e-6"
   ]
  },
  {
   "cell_type": "markdown",
   "metadata": {
    "id": "8x-xYVZfR5ji"
   },
   "source": [
    "## Preprocess data\n"
   ]
  },
  {
   "cell_type": "code",
   "execution_count": null,
   "metadata": {
    "colab": {
     "base_uri": "https://localhost:8080/",
     "height": 333,
     "referenced_widgets": [
      "3be235f037da4bdf8294b72f8554f568",
      "b27ff4d5da634401997b2f54bca2cd56",
      "396db7f612b1454296fb1d7612969b8a",
      "d5fe2452f4de44e3ae1488e3db8bb2e8",
      "83034ed5471c452e8343324eeeb1ca73",
      "4e090dbaf7a549778469ed765d0ce615",
      "64f52ad86c02465187bce8ca9c7f4503",
      "bebfd2d2aeec4eafa32d14137abd4123",
      "fb6b26b0c9044f06b2358aaab4fa2fbb",
      "7a697e2b9be04ba69e43370e22cb915f",
      "afcc36f1a504442a8ee04e93506fa5ba",
      "3099184e6a3d4471b37f7a831ddf3acf",
      "bc1489c76212487aa48b04fb6a379658",
      "5094fa1a6d0d449c893ca6c0cb2d1d5c",
      "49fccdda079142c0b66bca4524112d34",
      "889e2535c50144f6865f981295a36055",
      "a35287b0acf948d98a9220c480939d45",
      "7ad16fd86cd045478ad9f7e8702bf255",
      "8ea83b2bcda14ad9b12129cb86f4d239",
      "437d1fec9ab645238822cd491ca87a6d",
      "4eb37463f47b4684a70fab2095da874e",
      "a2871663623849b792cf9ac060b2be36",
      "100dc0b137e54e4091dc82d6be6e320e",
      "cc8f52df4ced4e8aa20de602476b62d3",
      "0a754e3faa3e468d948c3178c8982bba",
      "566c64ffb9d646d0b5addcd1be7ad86d",
      "e320f3b544f7404098f6c8f236600931",
      "0450147753d54155a66777edaa0fdcab",
      "8a45f1a26c2346fca5fd7c07f20f7f69",
      "189f95346b8547b1992b14b5036fb74d",
      "a47faccc5c43452eb27712306ddce288",
      "4aad7e6ccde348088495f0701e4b105a",
      "2fdbb8d606f24b6ba20377a9d8b4609a"
     ]
    },
    "executionInfo": {
     "elapsed": 7239,
     "status": "ok",
     "timestamp": 1728680827717,
     "user": {
      "displayName": "Simon Strandgaard",
      "userId": "00369037028151231486"
     },
     "user_tz": -120
    },
    "id": "wUT9392IR3MZ",
    "outputId": "866e4b31-541c-4321-ca21-ffc299756e48"
   },
   "outputs": [],
   "source": [
    "from datasets import load_dataset\n",
    "\n",
    "dataset = load_dataset(dataset_path)\n",
    "print(dataset)"
   ]
  },
  {
   "cell_type": "markdown",
   "metadata": {
    "id": "1UAZ7UPCU-uk"
   },
   "source": [
    "As you can see, the \"code-to-text/ruby\" split consists of a training, validation and test set. Let's look at one particular example:"
   ]
  },
  {
   "cell_type": "code",
   "execution_count": null,
   "metadata": {
    "colab": {
     "base_uri": "https://localhost:8080/"
    },
    "executionInfo": {
     "elapsed": 8,
     "status": "ok",
     "timestamp": 1728680827718,
     "user": {
      "displayName": "Simon Strandgaard",
      "userId": "00369037028151231486"
     },
     "user_tz": -120
    },
    "id": "cdpm7pHoU7t1",
    "outputId": "fff06b14-49ca-4671-e8c0-2f1645054c30"
   },
   "outputs": [],
   "source": [
    "example = dataset['train'][0]\n",
    "\n",
    "print(\"instruction:\", example[\"instruction\"])\n",
    "print(\"input:\", example[\"input\"])\n",
    "print(\"output:\", example[\"output\"])"
   ]
  },
  {
   "cell_type": "markdown",
   "metadata": {
    "id": "56tFfwcdn4A_"
   },
   "source": [
    "The goal for the model is to generate a docstring based on the provided code.\n",
    "\n",
    "Let's now prepare the examples (i.e. code-docstring pairs) for the model. As you might know, Transformer models like BERT, BART, T5 etc. don't expect text as direct input, but rather integers which are called `input_ids` in HuggingFace Transformers. These represent tokens of a certain vocabulary. The model will learn rich contextual embedding vectors for each token, allowing it to get good results.\n",
    "\n",
    "In other words, we need to turn the \"Code\" input from above into `input_ids`, and similarly, we need to turn the \"Docstring\" output from above into `input_ids`, which will serve as the `labels` for the model.\n",
    "\n",
    "In addition, as these models are trained on batches of examples rather than one example at a time, we'll need to pad/truncate both the inputs and labels, such that they are all of the same length. That's why we also will add an `attention_mask` input to the model, such that it knows not to take into account padding tokens when computing attention scores.\n",
    "\n",
    "To summarize:\n",
    "* input: code, which is turned into `input_ids` + `attention_mask`\n",
    "* output: docstrings, which are turned into `labels` (which are the `input_ids` of the docstrings).\n",
    "\n",
    "Below, we define a `preprocess_examples` function, which we can apply on the entire dataset."
   ]
  },
  {
   "cell_type": "code",
   "execution_count": null,
   "metadata": {
    "colab": {
     "base_uri": "https://localhost:8080/",
     "height": 215,
     "referenced_widgets": [
      "cfc2706f374741b7926b55d41697c484",
      "f05f73136edf406597f572384406ab06",
      "7f2ee5e2b109470a89fe3fcc3598963a",
      "2f63258627fa45c982aae0a66bd6e6bf",
      "81c1eb2cdbe44b19bbece945e44b3a82",
      "1b9a9962fd664f9a8d15cb018e8193d1",
      "1639f24fed00462e9e9c42ef7ca4ce7b",
      "b16a59bc36cb477e9b01fc70c5f6d102",
      "3aec2db5f9774ce28bd5f4947f607cb9",
      "f1d41f294ffe4e3eb663c34a1ab80ee2",
      "3d150498dee541c5910a274fef75ad01",
      "5be171405d8c4f3c9b5c90604122d7a4",
      "d2b14f0d06184e00b46395e0209044cf",
      "52702cb4edba49049dd0d2d995d781bc",
      "b263ce1600254060b63736bcb141015f",
      "b2f1fc8f614d4010833f0b16229e2a75",
      "d05280468ecd49dba1988645d361a88d",
      "cfc14450084645a492e0271133adad62",
      "71ab466702934ff5adab58373ef401d3",
      "7c860c670af54ffaba05c114edb4dcd8",
      "183ca2150b27470c9a8d62e99b2ed052",
      "2b95c64bbe614fb78522cb9602151c2f",
      "5618514d5ebe43f08444399722c654a1",
      "e193471d7efe4573bd6c02a405c68909",
      "ce187a0f54824db98ec37be9f7e80746",
      "a3b6589922954582a2b96f08fd890261",
      "dfa42b8ad0134992bd992446f3e72c81",
      "f298434937914d389288d32723953445",
      "65b934be405140a1b20965fe5aeb8bc4",
      "9f60a2a7b9d848dd8fd2f551dc041844",
      "20378bdc28e74eccbd68bf7735b46f6b",
      "7899a772689b40feb4d1c00910b192f4",
      "6b67043f30794776abb0caa7302b451b",
      "c201855ea45f48f7b755dd9230d595e4",
      "00d8b35a1d2d4b259ae845da1216fbc5",
      "3b26e304df4b44ea992cba37a09b4dd8",
      "0e10272413ab4031a2cb343fc539f8bb",
      "09adb49814fc4a3f8c6b68550000e429",
      "32398f7142714abe98b8a19ff6049d1b",
      "0910b6d73fec4904a7a46cc3e62ded1a",
      "e25f7e08662c45ce86a25caf7026c50c",
      "822f66f218fd43899990b220f2ddb32f",
      "c00376fb591c4743ab054e11595d8f9c",
      "464454184bf8480aa8e2cb979a095c6e",
      "934ec5dc81b0475eb27c9a92da1dfab9",
      "3c15f0a616414fab9228e82702fcaf78",
      "457de69d649e40f48beb3b2ea3463b12",
      "2b1eece9ce214388990b25a8d919d56e",
      "8346819f591845f48a4e9249ec08af08",
      "1c7c8001e9fa4a5e9f6c825ca8165467",
      "aef1fb4afb2c432b8462b81e33f34e05",
      "efe1b654843e4cdc86c6c9cf86734593",
      "fd20b97ba523420ebe41506c3ca025ee",
      "875be8fe711449279bd1f450aa01ce79",
      "0ee031fb78dc4ba2b07682dd87aa1e57"
     ]
    },
    "executionInfo": {
     "elapsed": 10038,
     "status": "ok",
     "timestamp": 1728680837750,
     "user": {
      "displayName": "Simon Strandgaard",
      "userId": "00369037028151231486"
     },
     "user_tz": -120
    },
    "id": "wvRHDkCIS91f",
    "outputId": "1875c291-b85a-4769-eb84-c12ad5df0583"
   },
   "outputs": [],
   "source": [
    "from transformers import RobertaTokenizer\n",
    "\n",
    "tokenizer = RobertaTokenizer.from_pretrained(base_model_path)\n",
    "\n",
    "def preprocess_examples(examples):\n",
    "  # concatenate \"instruction\" and \"input\" with a newline\n",
    "  instructions = examples['instruction']\n",
    "  inputs = examples['input']\n",
    "\n",
    "  concatenated_inputs = [f\"{instruction}\\n{input_data}\" for instruction, input_data in zip(instructions, inputs)]\n",
    "  model_inputs = tokenizer(concatenated_inputs, max_length=max_input_length, padding=\"max_length\", truncation=True)\n",
    "\n",
    "  # encode the outputs\n",
    "  outputs = examples['output']\n",
    "  labels = tokenizer(outputs, max_length=max_target_length, padding=\"max_length\", truncation=True).input_ids\n",
    "\n",
    "  # replace the index of the padding tokens by -100\n",
    "  labels_with_ignore_index = []\n",
    "  for labels_example in labels:\n",
    "    labels_example = [label if label != 0 else -100 for label in labels_example]\n",
    "    labels_with_ignore_index.append(labels_example)\n",
    "\n",
    "  model_inputs[\"labels\"] = labels_with_ignore_index\n",
    "\n",
    "  return model_inputs"
   ]
  },
  {
   "cell_type": "code",
   "execution_count": null,
   "metadata": {
    "colab": {
     "base_uri": "https://localhost:8080/",
     "height": 389,
     "referenced_widgets": [
      "36b7f9ae67ff4c1bbc803e22f95d5163",
      "31da5de667614133a18e0fc8dc2d5532",
      "e2ac1c9c143f4bc9bcce85820c317aae",
      "8bee6f845bc64856b8c140ea93a88930",
      "fcc5dbf03da348708ce30f0cfba85390",
      "a5a48c53abda4f289274b3069ae10308",
      "3696073602f04b4b81c966e04fb3ab2d",
      "e608071fa49e44528ed6d685ae046659",
      "fc3ed36bfab34f838138cb30ce3d23f9",
      "97e4e891c38e41eb93075823abd690db",
      "142f6147acc24e8eacf824ccbe3d2c53",
      "f2987dd18ddd43a7a9dd47d075a57284",
      "116a43497eb5462e8ca10b543f25a53f",
      "9f5fcb85f15549fc8e1d4e96e853c838",
      "a361ed7b2c3544ae80717683f30c5eec",
      "3b73f801876347a1a8110f69077d7ed1",
      "2deb212e116e43dba67fb9b57d8fe999",
      "2834f4346bcd4bf6adfe22cde3947427",
      "5a1da228c3124d8eb06b1e7e3f393579",
      "2d2e00786e0f4911bb34138744c0bdc2",
      "0a872f6169924e13aac1d758bf5cef63",
      "4b9fd35ca81f40f8989e496bb2a3b1ac",
      "792016d507d14b0c9cb04ef4146835e2",
      "176a8d97dc704f759a54a7dcd2a15a42",
      "7b8a8f645225474190aec58b463022f8",
      "d84dbd5f54784db49ff6993896e2ee52",
      "188a5deacf2c40af998a0f556a71c51c",
      "fe75ea61711c450c8609998a6847c16a",
      "d12b229e9300466a96b9efadb055032b",
      "04986622293842c68e0270c9b7b535fb",
      "ce0edead4b384fb7b6499e14ef4e85f5",
      "80ae12ad584e4a2db55690a915b565b7",
      "675e756ae64c4a5a977883fe9287d8d7"
     ]
    },
    "executionInfo": {
     "elapsed": 10674,
     "status": "ok",
     "timestamp": 1728680848419,
     "user": {
      "displayName": "Simon Strandgaard",
      "userId": "00369037028151231486"
     },
     "user_tz": -120
    },
    "id": "gCeZqiJ1Fj9x",
    "outputId": "c5c11fa9-a474-4198-8e43-2d2ba97a2865"
   },
   "outputs": [],
   "source": [
    "from datasets import DatasetDict\n",
    "\n",
    "# Split the dataset into train and test (80% train, 20% test)\n",
    "train_testvalid = dataset['train'].train_test_split(test_size=0.2)\n",
    "train_test = DatasetDict({\n",
    "    'train': train_testvalid['train'],\n",
    "    'test': train_testvalid['test']\n",
    "})\n",
    "\n",
    "# Split the training set again to create a validation set (10% of the original train set)\n",
    "train_valid = train_test['train'].train_test_split(test_size=0.1)\n",
    "\n",
    "# Combine to create a final dataset dictionary\n",
    "final_datasets = DatasetDict({\n",
    "    'train': train_valid['train'],\n",
    "    'validation': train_valid['test'],\n",
    "    'test': train_test['test']\n",
    "})\n",
    "\n",
    "# Print the dataset splits\n",
    "print(final_datasets)\n",
    "\n",
    "# Apply the preprocessing function to all splits\n",
    "final_datasets = final_datasets.map(preprocess_examples, batched=True)\n",
    "\n",
    "# Set format for PyTorch DataLoader\n",
    "final_datasets.set_format(type=\"torch\", columns=['input_ids', 'attention_mask', 'labels'])\n",
    "\n",
    "# Create DataLoaders\n",
    "from torch.utils.data import DataLoader\n",
    "\n",
    "train_dataloader = DataLoader(final_datasets['train'], shuffle=True, batch_size=8)\n",
    "valid_dataloader = DataLoader(final_datasets['validation'], batch_size=4)\n",
    "test_dataloader = DataLoader(final_datasets['test'], batch_size=4)\n",
    "\n",
    "print(\"DataLoaders created successfully.\")"
   ]
  },
  {
   "cell_type": "markdown",
   "metadata": {
    "id": "SP2fCGi5quHg"
   },
   "source": [
    "Now that we have defined the function, let's call `.map()` on the HuggingFace Dataset object, which allows us to apply this function in batches (by default a batch size of 1,000 is used!) - hence super fast."
   ]
  },
  {
   "cell_type": "markdown",
   "metadata": {
    "id": "9mSM2_eDalx-"
   },
   "source": [
    "Next, let's set the format to \"torch\" and create PyTorch dataloaders."
   ]
  },
  {
   "cell_type": "code",
   "execution_count": null,
   "metadata": {
    "colab": {
     "base_uri": "https://localhost:8080/"
    },
    "executionInfo": {
     "elapsed": 7,
     "status": "ok",
     "timestamp": 1728680848419,
     "user": {
      "displayName": "Simon Strandgaard",
      "userId": "00369037028151231486"
     },
     "user_tz": -120
    },
    "id": "6y0l7v8obmml",
    "outputId": "1ba15963-7f8a-480c-fbf4-c8505edde624"
   },
   "outputs": [],
   "source": [
    "batch = next(iter(train_dataloader))\n",
    "print(\"batch.keys:\\n\", batch.keys())\n",
    "\n",
    "print(\"\\ninput_ids:\\n\", tokenizer.decode(batch['input_ids'][0]))\n",
    "\n",
    "labels = batch['labels'][0]\n",
    "decoded = tokenizer.decode([label for label in labels if label != -100])\n",
    "print(\"\\ndecoded\\n\", decoded)"
   ]
  },
  {
   "cell_type": "markdown",
   "metadata": {
    "id": "MOxapqxzS0PO"
   },
   "source": [
    "## Fine-tune using PyTorch Lightning\n",
    "\n",
    "As we will train the model using PyTorch Lightning, we first need to define a `LightningModule`, which is an `nn.Module` with some additional functionalities. We just need to define the `forward` pass, `training_step` (and optionally `validation_step` and `test_step`), and the corresponding dataloaders. PyTorch Lightning will then automate the training for us, handling device placement (i.e. we don't need to type `.to(device)` anywhere), etc. It also comes with support for loggers (such as Tensorboard, Weights and Biases) and callbacks.\n",
    "\n",
    "Of course, you could also train the model in other ways:\n",
    "* using regular PyTorch\n",
    "* using the HuggingFace Trainer (in this case, the Seq2SeqTrainer)\n",
    "* using HuggingFace Accelerate\n",
    "* etc."
   ]
  },
  {
   "cell_type": "code",
   "execution_count": null,
   "metadata": {
    "executionInfo": {
     "elapsed": 3060,
     "status": "ok",
     "timestamp": 1728680851474,
     "user": {
      "displayName": "Simon Strandgaard",
      "userId": "00369037028151231486"
     },
     "user_tz": -120
    },
    "id": "RuHlP1MuR_tJ"
   },
   "outputs": [],
   "source": [
    "from transformers import T5ForConditionalGeneration, AdamW, get_linear_schedule_with_warmup\n",
    "import pytorch_lightning as pl\n",
    "\n",
    "class CodeT5(pl.LightningModule):\n",
    "    def __init__(self, lr=1e-5, num_train_epochs=5, warmup_steps=2000):\n",
    "        super().__init__()\n",
    "        self.model = T5ForConditionalGeneration.from_pretrained(base_model_path)\n",
    "        self.save_hyperparameters()\n",
    "\n",
    "    def forward(self, input_ids, attention_mask, labels=None):\n",
    "        outputs = self.model(input_ids=input_ids, attention_mask=attention_mask, labels=labels)\n",
    "        return outputs\n",
    "\n",
    "    def common_step(self, batch, batch_idx):\n",
    "        outputs = self(**batch)\n",
    "        loss = outputs.loss\n",
    "\n",
    "        return loss\n",
    "\n",
    "    def training_step(self, batch, batch_idx):\n",
    "        loss = self.common_step(batch, batch_idx)\n",
    "        # logs metrics for each training_step,\n",
    "        # and the average across the epoch\n",
    "        self.log(\"training_loss\", loss)\n",
    "\n",
    "        return loss\n",
    "\n",
    "    def validation_step(self, batch, batch_idx):\n",
    "        loss = self.common_step(batch, batch_idx)\n",
    "        self.log(\"validation_loss\", loss, on_epoch=True)\n",
    "\n",
    "        return loss\n",
    "\n",
    "    def test_step(self, batch, batch_idx):\n",
    "        loss = self.common_step(batch, batch_idx)\n",
    "\n",
    "        return loss\n",
    "\n",
    "    def configure_optimizers(self):\n",
    "        # create optimizer\n",
    "        optimizer = AdamW(self.parameters(), lr=self.hparams.lr)\n",
    "        # create learning rate scheduler\n",
    "        num_train_optimization_steps = self.hparams.num_train_epochs * len(train_dataloader)\n",
    "        lr_scheduler = {'scheduler': get_linear_schedule_with_warmup(optimizer,\n",
    "                                                    num_warmup_steps=self.hparams.warmup_steps,\n",
    "                                                    num_training_steps=num_train_optimization_steps),\n",
    "                        'name': 'learning_rate',\n",
    "                        'interval':'step',\n",
    "                        'frequency': 1}\n",
    "\n",
    "        return {\"optimizer\": optimizer, \"lr_scheduler\": lr_scheduler}\n",
    "\n",
    "    def train_dataloader(self):\n",
    "        return train_dataloader\n",
    "\n",
    "    def val_dataloader(self):\n",
    "        return valid_dataloader\n",
    "\n",
    "    def test_dataloader(self):\n",
    "        return test_dataloader"
   ]
  },
  {
   "cell_type": "markdown",
   "metadata": {
    "id": "CuYF6-tYZuuN"
   },
   "source": [
    "Let's start up Weights and Biases!"
   ]
  },
  {
   "cell_type": "markdown",
   "metadata": {
    "id": "sAxLx7_Td1G-"
   },
   "source": [
    "Next, we initialize the model."
   ]
  },
  {
   "cell_type": "code",
   "execution_count": null,
   "metadata": {
    "colab": {
     "base_uri": "https://localhost:8080/",
     "height": 113,
     "referenced_widgets": [
      "a45362aad6984939a05e7bb2647d15f5",
      "340c407289aa4f41b9574c6f2a16cd1c",
      "2e264026f8944439ade4068c9b00c316",
      "c2fbc27c2c914a4baad6caeaa0160eb3",
      "fa7158f7333b48ed9f8a3ca96878dc3b",
      "770810b242c84418899aae66bd087927",
      "e7c641a3450f45629bedf3170c3a8234",
      "2229976c4dc84defac46f7ee0f7a7080",
      "c2fc7261a1c948bfbeca9f40bf19a719",
      "53d5d9de10d74a519e206205059db158",
      "b5078de7a1d64648858c9e82d1cdf1c3",
      "932a0b6c3a574c8d9d50b9dff89db4de",
      "de94bdf34578434eb41be0deebc082f9",
      "270a7cc5429d41c6b7917a039cc9bf3f",
      "de46504444ea45e3a6be24bd5ce5cb07",
      "4268b68068a148d1a40c05d08042141a",
      "cf20f871f69c448982560034f19fe620",
      "37799049b9694da69e2d9db5d102a1da",
      "ba2e3423b47149298856f6f05128cbcd",
      "924f15d95fbe42baa6b272c9b497ac48",
      "b92cbb5d2eda44a7bd214a8f48506694",
      "f95db5a0735845288f1bc919d3494476",
      "f3151bdc54d442debda7e057aac796e0",
      "ace1d94959c6454a9d97c237b85354db",
      "6bb3c4796cea45e9807efd0b599962b8",
      "7deb6a5340c64663adc867d893f83111",
      "da8738a57d164192b3048c017a5ae2e8",
      "1a5a2f69c413404d8e69adc75e2dd4b2",
      "7643fb57bdfa49e7b051e56206903a3b",
      "912472cefcf3446a92d09cff1dfe3f06",
      "d0cbdd4cf0e6420a8c821af0188d4dd6",
      "1c64837c090947f68584cee2b50fb46a",
      "bcc88f46b968495d9689f85c084223d9"
     ]
    },
    "executionInfo": {
     "elapsed": 9186,
     "status": "ok",
     "timestamp": 1728680860651,
     "user": {
      "displayName": "Simon Strandgaard",
      "userId": "00369037028151231486"
     },
     "user_tz": -120
    },
    "id": "ZtDmLYzEc9uP",
    "outputId": "5ca8f8a3-0fab-4fe0-a274-d8a559b1c952"
   },
   "outputs": [],
   "source": [
    "model = CodeT5(lr=my_learning_rate)"
   ]
  },
  {
   "cell_type": "code",
   "execution_count": null,
   "metadata": {
    "colab": {
     "base_uri": "https://localhost:8080/"
    },
    "executionInfo": {
     "elapsed": 14,
     "status": "ok",
     "timestamp": 1728680860651,
     "user": {
      "displayName": "Simon Strandgaard",
      "userId": "00369037028151231486"
     },
     "user_tz": -120
    },
    "id": "OKFrSPWSh93d",
    "outputId": "5f1db266-0083-408b-9d9e-de65d1a03b2c"
   },
   "outputs": [],
   "source": [
    "def interpolate(value, from_start, from_end, to_start, to_end):\n",
    "    return to_start + ((to_end - to_start) / (from_end - from_start)) * (value - from_start)\n",
    "\n",
    "number_of_rows_in_dataset_train = dataset['train'].num_rows\n",
    "interval_10k_rows = 0.2  # when the dataset jsonl file has 10k rows.\n",
    "#interval_100k_rows = 0.05  # when the dataset jsonl file has 100k rows.\n",
    "interval_300k_rows = 0.01  # when the dataset jsonl file has 300k rows.\n",
    "validation_check_interval = interpolate(number_of_rows_in_dataset_train, 10000, 300000, interval_10k_rows, interval_300k_rows)\n",
    "if validation_check_interval < 0.01:\n",
    "  validation_check_interval = 0.01\n",
    "if validation_check_interval > 0.25:\n",
    "  validation_check_interval = 0.25\n",
    "print(\"validation check interval: \", validation_check_interval)"
   ]
  },
  {
   "cell_type": "markdown",
   "metadata": {
    "id": "KPzgguodd2uS"
   },
   "source": [
    "We can now simply start training on Colab's GPU."
   ]
  },
  {
   "cell_type": "code",
   "execution_count": null,
   "metadata": {
    "colab": {
     "base_uri": "https://localhost:8080/",
     "height": 506,
     "referenced_widgets": [
      "7264dcb0996c417cb5cde6cdd832830f",
      "f516bc3144d54312b40a580fb176dfb8",
      "1aabab6d1b5242468f9b0b101c66f0bb",
      "ab4c62560b5b40bf928594731d877ad5",
      "cd2d0e9662834701a132ace55aebff2e",
      "cb3111d9c61f400bb5c2f2015dccd571",
      "9d8c64f8fad6426c98b017b03b9943eb",
      "b230695a1d874512a0afeeb1942c85f4",
      "0448a374f2af4dc08fcb50f9b515e1df",
      "b0ba4d5ba1f4492a93ee4f0ab3c9dae1",
      "f89c2ab7e8a042fa85fad4d840823172",
      "f3926c1ce33a424fbb50418dba1496af",
      "1261b4baa94c4dcf85aaae4c9f20afeb",
      "2ff967167510413582047de049192e6e",
      "5b1b61ab25fa4363b7a46af3d17aa77e",
      "e985cdf43d8b47c684ee8b035f114317",
      "f585d4e257aa4ee3a93b422eb3f1273e",
      "9cf2a82960154a3a9717f58e70ff6e62",
      "b8fbb246acd040698be03731b68babc6",
      "a3bde585b9fe43f7b0c11800ed8b1d9d",
      "6f17958319df4938be842126933c46f8",
      "f5c9659b60534dc0a892594e82d6363f",
      "dd0265e06ba049b88b9a86c6d5c5dd7a",
      "876fefe8e0ad4df49fb7e5b1f9303da4",
      "c05d35a539c4442f91c66a6841bab527",
      "386ea8e93ea94babb98b8b10d36b3e46",
      "13d6f486e3984205868ace2be8d6ef13",
      "3e6f335bbd904891ac4bc6dc55967c72",
      "9bb57dd44ed04004bfe724193c0f302b",
      "fd10ddc358814f9bbc7ee6423f23457a",
      "724cbe77d0f44c1d8c66cee9320b8467",
      "3cc4ca0554694a8d9ac5a6b1266da5bc",
      "1aae2fbf9f744907b4d579ce40afaab1",
      "f1a99b23d3ac4208b11123003c47f658",
      "f026a9821c0c4fbdb9abc7685dfa6f7d",
      "2d50e95ad07d433caba378b38874e2d2",
      "bbbe3117d1f34fe0918bbd47825be346",
      "bdbec02bba72475191ee102260358a11",
      "c155065e4f424b0280dde0ac5984c4e7",
      "eaab92f76ad24d9a9fd95a3726276d90",
      "cc99e57c1d014186baf8d34a3ca2b05d",
      "3102d935b39344be83bb3d5aba1b2c37",
      "ae1c787134be43a7872cfa3574142e40",
      "d1c4059b795c4f31903558425c937865",
      "60877c43eac14486a5e39f91f0946f57",
      "09655aa1da104515ba4b4495248c6759",
      "c258c19f7d8f4ae7b2fe907d95aa9f16",
      "6249d0fbea8f4f67983fa51097d4fd62",
      "90546b55d05d42ed9825067460638e96",
      "ebeff3408412488180c793ed5309ccb4",
      "9e2854163ee9408ca78dbf95b8d0875b",
      "cb6670b56b7a4698a316b2de42f92301",
      "5c47d3163363423195e53a19de6d4311",
      "885c871c19874f3988dcabaf1997df5b",
      "f3eb6ec36040441c86d18a51245befde",
      "63a6635964f349fa8e2dcad6b7286913",
      "e09c6766cb07422b88de5286bba2f61d",
      "64b4cf64397642428121cdcee5ff62f2",
      "4fb2f7c65d65463ca591a883bd82b20f",
      "c61f4855127a43b4a60e23b621c7287b",
      "31243f6778924213afb0c2f57387b408",
      "5d0c25a6b6da4c469e8e731347c49f2c",
      "a317992b39ce46ffb320a92f6642a28f",
      "0e97c3a2c3674430be1127b27d329a58",
      "a3b06a2c73284a96924f86bdd1f7f8d2",
      "3c397c2255be480eb7d1b2a5948708e6",
      "72a3a227cd2d42729165cf7ebb3cf8d8",
      "2d06a5d904a042ae96f5a7c8d27c8f70",
      "ff24641af6db4fddb7a6436599c73a5b",
      "4af64c32293f4796a97d233e24e16bad",
      "c594372b803f46fd81011613cdb5f2b9",
      "f24b8a7bb4284f859f038363d6150163",
      "c85e51a166f94411a7598297a6dab1c0",
      "777691f374c24212afe23a2e39181596",
      "2d55feda109c48aca3e55aedf333d255",
      "0df948e1a9124cdda5379011d9547f18",
      "69311112f8c046d3b7e9232dab7e407c",
      "6bf2047aa965440480c71ee2759bcd1d",
      "1c1aeb8a0af641b4866116655cdb926b",
      "3c84ae82b3ef463f8f6ecdab216797e0",
      "bc50332841a94ed39a02db5ec93badbc",
      "4d3352de6ea44eaa80d06efbfef459e6",
      "10dff3fa585f4efcb59959304a8debf2",
      "5a7b134950f74bcfb045fd676e00bd55",
      "657731e4314c43e0b6f0fdab9c6af205",
      "f81291fa4bfc4f9bb67708fdf23b4696",
      "080c5a827a8f4807b647d3d1949b65d7",
      "538b03e0d5914d849bac963ca9d38193",
      "d1553fa728824734b7148c50d552a4ba",
      "20ec3060f07e4c738d0799395dffde3c",
      "d9d3972851504874b2087bf1786ecf27",
      "9d043a7a2c6f4124a6a34ef5012a9315",
      "94966055461446bc9f7026bd96591c14",
      "3fa287bb50f641359e04e3f6a2359398",
      "c91522e9f73544559ad03b1c6c0b4176",
      "5a4ff77341804368bc65a0f16a05bd5c",
      "fb68810e49f947b09870c691ce8cbe85",
      "4c7c1f98679849bf8dff2ed34ba0a868",
      "7a079d59b7814c79bf4f3ad0a75331e8",
      "629a459c0aa8425eb31b7d248608355c",
      "f4dbc6ccf4104e1fa4fe2c04b6c5a104",
      "6f700710138d4ff589cb86aa328535f0",
      "5acb79275248475f8459505eccd2da0b",
      "de2ed37513da4b93b9f69bee593158aa",
      "8ff521f745204ceab5422d43f3164603",
      "77c3dae2f08c4d33a875b6816dd54fc0",
      "74b972b92d5e4f0b85bc64ad4f03d025",
      "c554ba8395fe4a4482ff6ce46289d5e6",
      "563fce3eaac4472dbea80bb2e86b2595",
      "e1c12186dfb040268a054b0f7a50f792",
      "a7a6cb8142ef464ba1dbfcf3c7d0d5d7",
      "c31b88a57f0f467fb10fca808d55536c",
      "50730b62704042b5b19b14f7db39978b",
      "bcbf75823ea24e94b0c18635b00b3972",
      "7991a12d06844fca82418c889d064c63",
      "03b35ac3ca79402f95e32e12a38ad4b2",
      "3d5fb1600d3242e38b8cbdb9776f298a",
      "6369e0b2679745b2b9ff88dd018b179b",
      "18cb717da5e444bbae3bc95b45ba48da",
      "babf1823ff83496a9458cb051630ae2c",
      "5099545cca1247d49c7ff453ff38926d",
      "215dc851475546f1beebdb6f5a455235",
      "1d2210ee61c54f4b82cc1457dea3f1f3",
      "ee3aed8eeb82497ab5f0ab32ab4ed587",
      "6891144e7b3d4f0c87496b758a2d5759",
      "c66105c9c60a455c9500abb9a080cda1",
      "2e53ff906a254ac28efc848e6f456313",
      "7543a55b4042470986b3e7d0415e84f9",
      "a2322764a3aa4210a3f78c2c91842306",
      "8082c7f7a9e543d5be06192b039b057e",
      "f36969f9f6dc4084ada55cd259e2729d",
      "6b6f9b601651424cb44dc1b47e5df431",
      "8ef3c9a2d3c24756b3fc6e3efb491511",
      "53cc2b40c1fa4cbbbc382d6f5eab0be0",
      "7f2b4a38fdc3463195b61330d8d229a4",
      "c335f276acba41769c5a4e691bf0971c",
      "1d60268ea9b34ac181a8494a9846a295",
      "1c6ca0db81394984b8e7374bfa7b7248",
      "b6ab9b4a6eae47da95560538897a6f8d",
      "e6e788bf4abb4787a2975612dbc39c42",
      "0c259590867d4db09429d9035c5b27d4",
      "4de80ea10465453d9dff6951e9308cf2",
      "e9edfe96e5194ce099a19448510c1d7d",
      "251541dd0d0745fd92796aa96ef9bff8",
      "62d7114fa4bb48d989137bfc41bf98f8",
      "45dd5f01201a46249dcd2849d7c03a06",
      "cc2a22a39dff43708bf3e7258f22e3fa",
      "78e204be03b84f369c9d3d040a1013db",
      "7ef9e394930a4fa8ad8cd98230fde336",
      "92f3881684be45d4b79b4621649f712f",
      "94e098a830e24eed8d26abd0c2372497",
      "b5005719384648f8a1160ea97ffec27b",
      "f61ef51c16fe462b829033866de1cf65",
      "befcfc4cf7dd4907a499ea26bc0f6818",
      "755c10074e6d4fe39d1ca0d01d66541c",
      "b53c6de494cf4f8a94f1be7ffaa2d355",
      "9a11ed06af6249baaf9c9ab5fd77147f",
      "1603f63643fc49f1801c2f8365d14a80",
      "7fcd5692d9c041189bf0b4746fa4e0ef",
      "541de5610d434e8e9085378b55938771",
      "719b54eeec384320afe04c4c0c31e41e",
      "701f56851a544c3b9b9b471467cfb0c9",
      "eb4c62fa6c6f4edca42a9f6dd41e52c9",
      "950a60997813423f89f3af077d277f4e",
      "1adf2524b90145f78821be87eded4afe",
      "4944809fd0ae4bc7aedd58658ce5bad8",
      "b8ac3e6cd83c48db9bd31737f2660b21",
      "84d5101c911d4fa7838996f89a85baeb",
      "14b623a9dd34455b9df6765a6a511ddd",
      "0f74d6fb4e174298bac067f74ec432d9",
      "7c8674b5538d4d9ea5af4071fb58c861",
      "b5dba3c2a8424ffeaf1ae5feee840740",
      "1233f1d2f2de4f76850f2472c0a24b59",
      "a2042f4d9b944f51aa00924574d59dcb",
      "ac990be3a85c4abf8f967f0013dd4741",
      "e1ea047b65884ceba046693015fc355e",
      "49778b60452345b2928d0180f7c98f5a",
      "02ab20fd9feb46b9bb49064599ae1e5d",
      "e715eccb97884b09aebda67fec032ea3",
      "d49f9e7bdd2c4eaf8190a90ea83cf1d8",
      "31e62ac03fe54b3aa15f3f56a0173784",
      "df1f914997aa4b4aa2167d1c0ce037cf",
      "e1ac24684eca4f65a23e62f52877822a",
      "d288eed9e7314a3e8b11065be5474df9",
      "70a2d58ec4dd42708969dc5737891760",
      "b0d5a706f5b74ed4a71be07a231f5d4f",
      "ae2af0c5d8a04da1a6f153aab3ba0118",
      "e973ef1c5fe24497b42dca6a40cab693",
      "326e7afd6efa4771a26df1ee65bf967e",
      "b4359f479ec44059bb38ca2e231733ef",
      "f7f163cf6759498c977261b7151428b3",
      "6d6824fae84c454cb4a95164ea1b3145",
      "b071226a1a2a46bebcbcf474e73e80f1",
      "5d231832d31e44408782a6c977ddf81c",
      "5e974a8abea3437ebc3676d9f579ef23",
      "7452602d584f4ac9a1f5250b2c4936da",
      "f74566153fe544d791ab2bbe9b2046dc",
      "68c257eba6ec4d269127b7736c71c746",
      "7cd93490ab1c49a79086121c30ec26c0",
      "8bb933c384f84d3e9b72ed829383c893",
      "262a8398276b4cb298232172e6b0d796",
      "339ad491939242bcb1ff9b3fecd4e615",
      "d7728740bb7346689be6c7ef4a65b83a",
      "060c71e14ee04a37a409fddbcf249d78",
      "7624fe9a3df0483ba975fbd693448640",
      "669a996d4e604490b5d38ec4b8c9a1af",
      "ca9e5467025c4385a1902668dfeda539",
      "f1f84dbe23d4468f8eb170d0ca829d60",
      "ca2ac1bee40148b2b17e71fc9d5c8ca0",
      "3a00ac27d7d745ddac94352aa3534291",
      "044bf16536f5455292dec728bf0aa870",
      "f2b61db594cf494297397ad717802b0d",
      "cd40d772b1b84bbb9c9562760609a1d6",
      "2df21ac2547e4d3eba261b40887370cd",
      "bae3dfc415f84c5186d2d030f8922e10",
      "5d416f483e314f09aea727605a4b208e",
      "ed571e6487c745618f11ec7859454e25",
      "d353cec359a142289f3957a64de1fed8",
      "a35761bb8e0f428bad9adfb598cda6c9",
      "1388b7bad0204cdf80a0de5778a7c1ed",
      "ecee9f32ce5841a38837f133182f4e54",
      "3abbb0bc9cf14ec49814c955c95e2dd6",
      "3b51267626c24cff815b4a3fc549730d",
      "b5c0685dccb04ca6887294b44b707855",
      "d2748f3c38c746afa55e5b70bfc62d89",
      "552867d29f3f43eb9ecccba65d34ffbf",
      "e37edd2ecf7b4dbeb1a5bac7183aed66",
      "5b0a640cf8c74beb97f1a2cc4d088a00",
      "318e6979ffff4761801d2ab2ed9c0e26",
      "563c50885185494b84844c9343b064ea",
      "bf142e79ad39418fa67131c8412cbb46",
      "cf51bd4f381e4a0a8403aa403e2e35ba",
      "8fc7d69c9ea549e09ca26b745fb5f0ae",
      "714e33807d14435b947822831ee13019",
      "3d58c6da0ac14e7e815b946578699371",
      "d8fe7f4bbad54ec78dd45e66c37de064",
      "2d4fdcb18eb84864b8532b18ec603e55",
      "1c43a72bf7164066831e1a7548dafe99",
      "747649659a7d4eb8b0e78029f87153d9",
      "8a415ccfec1043cdb959aa731f9026db",
      "e458e303fc59456abc16c531dedc0fb3",
      "e309ab577e604f42a0a94cd912fc766e",
      "f635c4a0b2a1433ead3a660008b322c9",
      "de978048f569418e8df4968abbb0a7da",
      "6be0d1f224e34fe59c1ea30b3bc9974d",
      "03bc6150a19e4e8ca833df818295c10a",
      "82fd638b185f40e99c017d87d60ea65a",
      "87a423795c5e44eaacc59b5cfe49d688",
      "a24e03c475f44e8c91d4751fa937cd5c",
      "99affb460331475bb05523bc13ba1f96",
      "992f3fb851444ebe955e12a85d462c0f",
      "1a1a136675f94dfd9c7a73aea08e602c",
      "0ae8dae442324b3898fe6ba72b3be80c",
      "c3b4d6fa989b439288abe83505732728",
      "7fe243e137d1418fa2c08e08b1b4b697",
      "9229c1d39f0b4a6881a6adc71452bfff",
      "ed97d739e6c3440c9c99ec1b8f2e0244",
      "0725ad78fe184a9f8330848bdbb85d36",
      "0763b9e590204cf0a8b6f454767c460f",
      "b3663efebfef400898bf451676cf2782",
      "c4489430acf94236a3cfe6bcaff5b821",
      "26ffc43c5ca1442c8975f6f017343fb4",
      "4292d622cda84baebe4cce25210444f0",
      "2956e17e6784412dae73974207477b3d",
      "900ae130affe43c4b4597661d438d71a",
      "d9376e9eb60d41fe9b0d7b4011e55a1e",
      "47f725c9a6cf43b397e1194895325cd1",
      "292296852e2f40b8a8f1ed251781d0ec",
      "1e1c376cc87d4231887740aef64fb3df",
      "ee97529e1b3244a89e8203edb79e7457",
      "daab5ff8509f43d99466e0e36b169591",
      "a9d1cf8315974a84b680fb318af29890",
      "2e7678cbdc4147fd85515c999c43aea2",
      "868d11825d784c798782644c08401c2b",
      "5ce8c7c59bd54d40acdfd54db95c53b9",
      "d4365163d3e64ce681e76d4f0318ce7f",
      "18d3bb6c5ee2443eaf3570f338f6d6a7",
      "624a2247ac1a4ab8b771bd3e37b82177",
      "6e1d5eba1b924cb18f51996911b9c650",
      "fd828f39df884339907b74e509e8eae9",
      "9e93ef3e93a44476974845917f522806",
      "6c3d9ae788724a528aff9663e2b6f1a7",
      "64bf83c70d224f878294bf1dc5b3bf4b",
      "1374b60417b0412ab79aff387370cc4b",
      "9f9dcb41f8fb4a00977781140d003361",
      "3d7f2a8d31b340b5a8ff55022874eb64",
      "fe8d4702a92f446481cb5a7959bf992d",
      "c8203116e21a4eae8d781ee2a259baa4",
      "b450db2e322a4586859930995725ce16",
      "62a5a30435dc4a16a023f5d817bf3f51",
      "23834ce420d745a78ab0a71f0fd25e15",
      "7241226f4f994da495adc6b8032f99b6",
      "c5d5f7f716f34d728007a8b21c655a80",
      "768bb0a0e5894298ae3c65bdfc5e75ea",
      "196d2daf34e54f4bbad4b6d4533d1cda",
      "d6dd72367c96469080436ed6a6c28adc",
      "a7a85cc5de1b461db6eec59ed1ba20fc",
      "99a5d66cfc1e4a4a864fe8b75be007c7",
      "f275df46e88c4270b7624dd2af35c2dc",
      "ece135662c6f42f988acc3814b818e5d",
      "8a95eb681cb94b7e96b34482649f00f4",
      "768025db2ae1431f9dce81d68e76fe8a",
      "3457825935e34113b46dfe8d76b227db",
      "5d3fc115b43e40cf8d6b4dfc86998ea8",
      "42eab42295fb428ea9972e0734e20f18",
      "506bb7ad67cb438eb718db9377f91ece",
      "d4895d26b224478c9037fefde4397039",
      "3ad2b998620e4edebcc246d62c5a05e1",
      "90c7eb8b4aef4f558a2d976ce637c44a",
      "260ca6df56ac46429906e42da6515317",
      "fef583ca025d46d5b25e225d5328caef",
      "644c1eff8e594145ae2d6a3360cbb251",
      "c884fec58a4b4ac3817e24d5d6c8a21a",
      "90f0787723b044dfaa8a138cd61af41f",
      "ab19e1908e7d4155a70894457444b8d3",
      "7f3150fd785f413096a6d068e65db0fd",
      "5ee2f76452be4b4187622a9424148cf3",
      "95d9b147c76c4d27bf802f5bf4cb1bbb",
      "3ab2edb46942413cbd0214ea44f4cfdb",
      "12781b246efa41249a226ca6e795a6e6",
      "14e331bd13a649f780f4376190e6b89c",
      "9a1d89c8c1534d6c8a56d078c5181047",
      "f045b83dfd9d4d26b3186886cd2ac47b",
      "68f0f0b33d7546c19d8db6aebc74905a",
      "fc45a3a52b754df6aea520e568c63202",
      "3402208b7b3544ccaff95fd375691a88",
      "ba9b1aa8c3a54afeb9f4755b19edd695",
      "6eeddb13946e461e921821517dd06df5",
      "4f2aa2e329094daea82f340bc4dc5ef0",
      "70cc025e3a794b0d8cb7e2b6df09d3b4",
      "40403d2552b24bccb86826d74b2ad1e3",
      "60846aff835f420498ffa075e7afde57",
      "a1b24fb5ae574da089871abb5e852da4",
      "1b2c0aaca5d34266ad8a682e3cc083f1",
      "d771ff01ee86459e986f6d4c24c6a80a",
      "26b7b5af3b074b5d9c06f18e1dbc0bc3",
      "ed3641e6a59e4736b019252ca70592a6",
      "3a3bf1353e2f46ff81391379a68ff7f4",
      "31e7a897d6e34f56a0cc4ff64fd07429",
      "ce1e782967c74e088dbeef37869bbdda",
      "c0d9576a017d43fca71bfa12a895f1f1",
      "3496d05d33b44c50961299a21dabb2d4",
      "fe96408e1c9d4f9e962b5542108f8157",
      "d354734d9fb240938b1757e087d22076",
      "b4b8c744d9664b1996e09ebdeff9bda0",
      "3d9671fb77ec4a44a74499386271365d",
      "9a38ca88f90b4bee977810799936a256",
      "48960e895f4f40658bdf3fc2a7ee222c",
      "5a275745300e493b85dac4f226ee40b6",
      "a4b1e8457c7e4759b82a7d1e00ec399b",
      "5e87ffd4927042f7bc47c149642502ea",
      "8845966dabdc420781bfb298e7239481",
      "1368eae984cd47b6a976cd99a8c6ce83",
      "e9971d34fe8a410686f67975766f5500",
      "639209378c07458b8063eea5f0da1e17",
      "64ac7dde80af40e4b5ea3161497ed93a",
      "e2b34440cb3a4aa0840c1ed3e12b7452",
      "b3bbf86bf613492ca23beff713d65ae7",
      "2b8e31db223d44a184db0ee5f1f24ad5",
      "e037c33d12a14360af95494bab941453",
      "6ebefe6ae2b5486184b7e0dad69a5985",
      "6ff19cca8908462097bca568c17b7b9b",
      "fb87b79119e049fd84a59e7c5bdad469",
      "0ade7124a39e4beebd79af88fa28c7dc",
      "0c7e955bc1fd46c6ab4460782042a0f9",
      "91b506c55fd54e268ff6cad37f1362e7",
      "5deebe7760c741be9a5e2bd0321802d7",
      "ea157640d74f400086f8aa0a6b4bc5e7",
      "21bc852d9ad14824a590cbbfaef45037",
      "bb256f2f7c1e45499034fc8df88570e9",
      "f3ff05a9982c4760bb7dc4fe4cc92953",
      "4b3cd2f178694c8b84fa31bbe46e3764",
      "d62195880cec4095800a2a949ad3edba",
      "8f76ab34734d4357a5bb1eb7f24ad14e",
      "43976f28bbf44821b4cd9e1e459d40a5",
      "451d0a04d1064ae294ffe5485c7d7d2e",
      "ca84590c20714a399f1e4accfd9b9c1e",
      "45d2b15d9d1347698f6b566c0e372354",
      "ec6595ee2b274232b36018cf5a54e251",
      "51ecf197498e44f88d53c451be51a68a",
      "368377aaa15846b7a427cbd6ef722576",
      "810da09fd8fe4a51b16abe2efc285367",
      "dd303f1e68574b4ea34dd734549520e3",
      "2b6de0a5539a4a98b3ac7d4cb699ca7d",
      "c88f0b5ac24742b89da09599c58fe493",
      "d6181a8627e24f5a9b35e8734c595bcc",
      "21b759be21724f7687f47aa7069f10e4",
      "27c04b4482b04aecba7476ced536daed",
      "51c1c9dc1e7646bb826dd84de3d83c5e",
      "3a4028986df7437ea4d8c03fe6441a31",
      "12f636e99fae4f179bfa22f047d44b1d",
      "475e3ae2e7284eb0bcb35e8c8e1e0ad4",
      "083e97d19e744ee185fd0a730f739ddc",
      "7729e287e9584c249a61614105b8f403",
      "47ddaf6411354fd5b6763c6f7af46801",
      "26b5f64376a44a90ac919c976870cf17",
      "e8e0e3b053744efebf7ace4162b8d52b",
      "6ecc00308db84fddb38c53566aa6d747",
      "203f3070f0fb4d9c979013c4c9d7aac1",
      "4bcfcdf37c9649fbb472118b6ceb1a93",
      "c5e8e130d3fc4dd6b2ee7066a281966c",
      "f1d39537e4e145049b070c38168d9b02",
      "66ebe05648fc4629a6b9780695e67c38",
      "7b32193d24fc4926bf5a9f0834f3393b",
      "7b5b910e25254fa28d3fb92068a40ec5",
      "2e7e35687394496babf2b3f720e924c1",
      "ee93d98dad72476381c5e84bc6debf6e",
      "e9a173486ac84da384a0f9c5340eb251",
      "8c803868e0ad4de1bb0d25ec595ac4e1",
      "2e701535438a4bbba83d4910f5732fd4",
      "b888f9b092b2482896fcd36975d5222c",
      "56f84ee16c804c9286fca0df636e72bd",
      "5c9284d813c043278c1096525048f2f7",
      "0293c8e63ebf4365ab8535eb1abee338",
      "b72782c0caee4c33bc11d6bd63528a19",
      "cb6db3ffe53b472583f65079c423a5cd",
      "6a829afbe073414c8393f0d2d36bebe4",
      "5d0157824bfd4d41abcf1c2ca24b0481",
      "feb893a40d6c45fe8fd39875a30dc1e9",
      "da53992a58d74a9e8b63e3340aa90a27",
      "bb081b8ad695480d9edeb7cbb9d7353a",
      "a4d53694862d42d8954dddd7f96ed237",
      "76b480d38956446fa40b9e0d288ce7cd",
      "3b7464fd7ddd4e9592ac599d8d25b84e",
      "7f3c8d8e687a4932b187531e6f26f38e",
      "4800de5afb4847aab62a5965a56b9360",
      "2cc4bc5bd8ae4c5bbf62b77d0b13a2e3",
      "7f4cd564f10b465c89a7c40fe270225f",
      "d35f6571231d41eda300ad76e916d514",
      "710481afe987469ba56b0c4b544641f6",
      "1115a387ea66440abb24462f73be170e",
      "1b3c789508c3411bb38f3b56e6ed372c",
      "7c61d0cfd71b431d9508e1f8f4a19df5",
      "2a17e93fbb864e8899da22f6e1a4dd0d",
      "253c261e9f7b4e8782dae63ca5e453b1",
      "637e2a577c8b4516b4b6f27584491d07",
      "c8c907e02b1b491eba379230c7848f4c",
      "f31d401b9bbb4277b759758f851ca8af",
      "02971d6978a84acb87e497960c360066",
      "0bce1dfb67c947669df92e5272471d83",
      "580c5c07183a4a84a8914f36162aa965",
      "a7c68fefc1484cd192cbe65e7784468d",
      "be0cfb088c2342a1b8cede1d13f665d0",
      "2e5febf484da4f0eb5dc5bcee4df9226",
      "bb037913a64e4dfe8850adfeaa0151a5",
      "6969fb3659be4215a11532bd4522027a",
      "e854f91ca60c496c819aa2d58d753892",
      "e8a8b9608e7a4717898c17c6d153fed0",
      "f8754f940e094e169b50615d0c0d59cd",
      "154b034f1c1d4aa090ec19d13c61ba9c",
      "2760128fe49e4898b2906e4df01026a4",
      "4e4862b47ac242eb81ee6858998657fb",
      "75a05ccf51b048079323f7c9c4347248",
      "06b3c47a91f249d789aba933b2458935",
      "ef33db2c217f480eb402c2a34bcd6a79",
      "febae38b0ea3460ab9363204bb42b51d",
      "86ac43277c8645d68f1ff69f54cea22e",
      "0c330636593747b3b262d045eb8a994e",
      "ed9a4462c11946f28eadd7baafd7ae51",
      "7bca537a0cb945c2906ee0548448e8f7",
      "689150a3cea34fea847ce7e6e2566ca3",
      "a4bddde7144b46bf8083bac660e68d62",
      "e7ba5992aaa64cae804b3a80e96a2ae2",
      "94c56ce89c3d48d69c3314d70983c6e4",
      "975423f0b09b4c71a8c7f9163c1c4bbb",
      "6e02d09e35b646899deb5f469bc72ae8",
      "50911a3d1e9a4d629f77c80a244ba78d",
      "b60a5255145d439291671e7a50d9f081",
      "a06a60cab7274fa088e8298240ee00d8",
      "a779ef8fc4a74bba8f232601f16afcbc",
      "3e25a55117a74ff6972173260c596cfc",
      "e9bbcaed15864a619e33d75a640dfd91",
      "0943f060f5be4677a5af1de0421358d7",
      "e691d890af30435da79dddda24fceca6",
      "6434740858b74cd587ae6fd5ca14c9f2",
      "0b334e43adfe4df88e2f6c9fbece7d79",
      "12940091a54b45babc13c8ad128e9201",
      "56e7570108e343ea92e86fce39ba7bd9",
      "10e7eb0014c24cb29e46933be35077ec",
      "1c779342667343cea4da8a767fdbc222",
      "601d216275874f9d86c6d6d7cf4bb658",
      "f2985ea76eeb4256b64f92404d911a19",
      "2f2cfb3db80c4944afee3c2c2d31c882",
      "6ed4a3cd6a7d4c3e8f7615d3a9414795",
      "a08c94ac7fee4e10a2de1ebffbdfe7e1",
      "bcf443017fe8401090b02808e8423101",
      "f0abcddb4fb64de8a168c63f83b751cb",
      "a25479a871f44fa7a19df8224b2e3266",
      "bcee76e89ff84fcd881ad48ca1318ca7",
      "4792ffb1ab2a4313bb37b923abb025ea",
      "9b9c785070bb402aa8ebba1acbdd561d",
      "a0371e63648e4ba79d6dc5869e4fe7df",
      "f5a7c248db7e478a97090b87d8957275",
      "ef78f0150de4422dbf4413636f600dcd",
      "ebf77c9a154a4f08969583f851169231",
      "81ddc54dfca24328ab2643e75a5a6baf",
      "a8152458cd37468a92746ab5d7723ac5",
      "b9585fd3c8984619a94964869365f8ff",
      "142d66d6d6ac42068553134eb395db63",
      "f9a10f5db6794b96b5b3e3883f6fbae3",
      "b38867b060854585b0724943090d9bcf",
      "1a851f269d16425e86b73838baa5d691",
      "2b424fba47fc4fda9bf6f362d23cfdcc",
      "412430ba82ee4bcd93325a743b723df1",
      "81b32d4ea39b41629e2732ce55457b68",
      "4cccdd0f576640ecb35d55480a9f9ad2",
      "4d96d48c53ce43d691863847ca3e83fd",
      "450d796a054141008eba163e987688a2",
      "6bcf7aab88fe4edfb55eab4b25cadb1f",
      "a4c5eb75b7a54ff79cb47af40282e510",
      "619fc717a97c4649bf4cea60f8434a22",
      "7b423f159686457aa80e6cd116271022",
      "9df4d2088b114eb9a75ca6a3d8ca6706",
      "35146e54d4e24df0b4d441b82b4303cc",
      "8d4555e6532849869c6f69184c4726db",
      "b83bab8ddb5d41649a73b9a50a9d93f2",
      "ead1257312684a3389d47f296ad48718",
      "f86d8176a853433d938da3cd60babc40",
      "3885fffc6aeb4006a3ce05aa27c6b249",
      "58b6c6e07455427eac488ce384509a08",
      "1ca7f66539044cca9a4d328394ae688b",
      "581331b85ae6449c9baab577a791aea0",
      "88d60b515cff4b95bae270605bd02fd6",
      "ff7a77d26e004027b33910c6590d3b98",
      "a3759a1af72248079c895546ac306fc6",
      "491f8d17bd604abfa00504771c207123",
      "6c5850ed6ccb422486f484d28dd3c139",
      "4ca1c62350ae4a6faf32148aed13ce31",
      "27fed38d38a74f18afbe0eb5de1568ce",
      "715dca8ce82842d6a848c1e0f25fc1f4",
      "148ee920d4984695ac4d91305b746376",
      "5b15e264a84d4307ae9023c4ef8180a3",
      "d7f23fd6142642c6992a2f06d913ca31",
      "34a7110460e3423abd2132ce3f74ef32",
      "b92391520a6d4ea0beee8ce95fa966b1",
      "c88b72008fbb4f0f82a480c34f064665",
      "65e4e2d2b51e45f68d8b63d89650419d",
      "46e6b66014004e08b31dfb28bdd5a3bd",
      "b5ad3c013e964c59ac7b731c7febc35a",
      "794c5707957d41d6a0c627e091af6bef",
      "074d39e839d94812821563eb8759fbb7",
      "399cf5ca293b40da9d271837bde97b8a",
      "8227e36749bd474c8da6f184a0dc6c1c",
      "feac4498974c4413b827074568954256",
      "ef251d6d67d545d0be58aa0c61c8c859",
      "2dfa5f7854244329af8e722e37923cfc",
      "b6afea417aca4880ac818622597101e7",
      "b29afec8f62f465e9409b8ccb7ba666e",
      "49ce673f89d44558aef2e96a06e4a25e",
      "b243c3c2d9cc4303b6e86c2825a1730e"
     ]
    },
    "executionInfo": {
     "elapsed": 1816370,
     "status": "ok",
     "timestamp": 1728682677010,
     "user": {
      "displayName": "Simon Strandgaard",
      "userId": "00369037028151231486"
     },
     "user_tz": -120
    },
    "id": "WroP64V8dWuO",
    "outputId": "6ddd362d-e530-48a5-b48a-550e3c7f4117"
   },
   "outputs": [],
   "source": [
    "from pytorch_lightning import Trainer\n",
    "from pytorch_lightning.loggers import WandbLogger\n",
    "from pytorch_lightning.callbacks import EarlyStopping, LearningRateMonitor\n",
    "\n",
    "wandb_logger = WandbLogger(name=result_model_name, project='CodeT5')\n",
    "# for early stopping, see https://pytorch-lightning.readthedocs.io/en/1.0.0/early_stopping.html?highlight=early%20stopping\n",
    "early_stop_callback = EarlyStopping(\n",
    "    monitor='validation_loss',\n",
    "    patience=3,\n",
    "    strict=False,\n",
    "    verbose=False,\n",
    "    mode='min'\n",
    ")\n",
    "lr_monitor = LearningRateMonitor(logging_interval='step')\n",
    "\n",
    "\n",
    "trainer = Trainer(\n",
    "    accelerator='gpu',\n",
    "    devices=1,\n",
    "    default_root_dir=\"/content/drive/MyDrive/CodeT5/Notebooks/Checkpoints\",\n",
    "    logger=wandb_logger,\n",
    "    callbacks=[early_stop_callback, lr_monitor],\n",
    "    val_check_interval=validation_check_interval, # val_check_interval is a fraction of an epoch, e.g., 0.1 means every 10% of the epoch\n",
    ")\n",
    "\n",
    "trainer.fit(model)"
   ]
  },
  {
   "cell_type": "markdown",
   "metadata": {
    "id": "oMxAo19KIo9j"
   },
   "source": [
    "Once we're done training, we can also save the HuggingFace model as follows:"
   ]
  },
  {
   "cell_type": "code",
   "execution_count": null,
   "metadata": {
    "colab": {
     "base_uri": "https://localhost:8080/"
    },
    "executionInfo": {
     "elapsed": 1841,
     "status": "ok",
     "timestamp": 1728682678848,
     "user": {
      "displayName": "Simon Strandgaard",
      "userId": "00369037028151231486"
     },
     "user_tz": -120
    },
    "id": "EhfLMOAmhIG6",
    "outputId": "d5d0c2fd-bcaf-47cc-9272-fac43716718e"
   },
   "outputs": [],
   "source": [
    "save_directory = \"mymodel\" # save in the current working directory, you can change this of course\n",
    "model.model.save_pretrained(save_directory)\n",
    "tokenizer.save_pretrained(save_directory)"
   ]
  },
  {
   "cell_type": "markdown",
   "metadata": {
    "id": "jr0O3iN5IsdW"
   },
   "source": [
    "This allows us to easily load the trained model again using the `from_pretrained()` method, as shown below."
   ]
  },
  {
   "cell_type": "markdown",
   "metadata": {
    "id": "nC_9q7BDF_cU"
   },
   "source": [
    "## Upload trained model to the hub\n",
    "\n",
    "Cool! We can also share our model with the world, by uploading it to [hf.co](https://hf.co). For that, we need to install Git-LFS, which is used for using git with large files (note that each model on the hub = a git repository!)."
   ]
  },
  {
   "cell_type": "markdown",
   "metadata": {
    "id": "7zKZKbHrJ05q"
   },
   "source": [
    "Next, we can login with the credentials of our HuggingFace account (you can sign up on [hf.co](https://hf.co) if you haven't already!)."
   ]
  },
  {
   "cell_type": "code",
   "execution_count": null,
   "metadata": {
    "colab": {
     "base_uri": "https://localhost:8080/",
     "height": 86,
     "referenced_widgets": [
      "ce870c711fc64603aece2d77cf4821fb",
      "5a3a2679dbec4f788804830b7f7b0e2f",
      "057dc35f14314e5d95a7855b58e51c8d",
      "12f7fba4694f48ab91aa048acc0af3d9",
      "e14d42e1693a4f85b67b499a51703eeb",
      "f02ca4532ae349b8b7fcf5b420c41fae",
      "476cc520475e4779bed60380c0d896e2",
      "084feef4f4744b36a347498cf6743571",
      "20fb74fafac547178561603e6078656a",
      "ad0e3c4622984077adc99825a326a240",
      "08d5bd9645a949d8a21d227b1e0d2125"
     ]
    },
    "executionInfo": {
     "elapsed": 11767,
     "status": "ok",
     "timestamp": 1728682729572,
     "user": {
      "displayName": "Simon Strandgaard",
      "userId": "00369037028151231486"
     },
     "user_tz": -120
    },
    "id": "4JXgp2GFA-PQ",
    "outputId": "de8cafe1-4c2a-4739-e2e4-0950f576dd81"
   },
   "outputs": [],
   "source": [
    "from huggingface_hub import HfApi, HfFolder\n",
    "\n",
    "# Set your repository details\n",
    "model_path = save_directory\n",
    "\n",
    "# Create a repository if it doesn't exist\n",
    "api = HfApi()\n",
    "username = api.whoami()['name']\n",
    "repo_url = api.create_repo(repo_id=result_model_name, exist_ok=True, private=True)\n",
    "\n",
    "# Upload files to the repository\n",
    "from huggingface_hub import upload_folder\n",
    "upload_folder(\n",
    "    folder_path=model_path,\n",
    "    repo_id=f\"{username}/{result_model_name}\",\n",
    "    commit_message=\"Initial model upload\"\n",
    ")"
   ]
  },
  {
   "cell_type": "markdown",
   "metadata": {
    "id": "BzhasngvAwX3"
   },
   "source": [
    "## Inference\n",
    "\n",
    "Now that we've trained a model, let's test it on some examples from the test set."
   ]
  },
  {
   "cell_type": "code",
   "execution_count": null,
   "metadata": {
    "executionInfo": {
     "elapsed": 8,
     "status": "aborted",
     "timestamp": 1728682692077,
     "user": {
      "displayName": "Simon Strandgaard",
      "userId": "00369037028151231486"
     },
     "user_tz": -120
    },
    "id": "iPXM9tH8AyCN"
   },
   "outputs": [],
   "source": [
    "#from datasets import load_dataset\n",
    "#\n",
    "#dataset = load_dataset(\"neoneye/simon-arc-rle-task-v1\")\n",
    "#print(dataset['train'])"
   ]
  },
  {
   "cell_type": "code",
   "execution_count": null,
   "metadata": {
    "executionInfo": {
     "elapsed": 7,
     "status": "aborted",
     "timestamp": 1728682692077,
     "user": {
      "displayName": "Simon Strandgaard",
      "userId": "00369037028151231486"
     },
     "user_tz": -120
    },
    "id": "spbNHeE5ETpG"
   },
   "outputs": [],
   "source": [
    "#test_example = dataset['train'][2]\n",
    "#print(\"Instruction:\", test_example['instruction'])"
   ]
  },
  {
   "cell_type": "markdown",
   "metadata": {
    "id": "4XwCaigDI622"
   },
   "source": [
    "We can load our trained model as follows:"
   ]
  },
  {
   "cell_type": "code",
   "execution_count": null,
   "metadata": {
    "executionInfo": {
     "elapsed": 7,
     "status": "aborted",
     "timestamp": 1728682692077,
     "user": {
      "displayName": "Simon Strandgaard",
      "userId": "00369037028151231486"
     },
     "user_tz": -120
    },
    "id": "Vu68VMzTEXek"
   },
   "outputs": [],
   "source": [
    "#from transformers import T5ForConditionalGeneration\n",
    "\n",
    "#model = T5ForConditionalGeneration.from_pretrained(save_directory)"
   ]
  },
  {
   "cell_type": "markdown",
   "metadata": {
    "id": "2w7JC9CxJJ_F"
   },
   "source": [
    "We can prepare the example using `RobertaTokenizer`, and generate using the `.generate()` method. Note that there are several ways of doing generation (greedy decoding/beam search/top k sampling/etc.), for that I refer to Patrick's blog post which you can find [here](https://huggingface.co/blog/how-to-generate). Here we will just use the default settings (i.e. greedy decoding)."
   ]
  },
  {
   "cell_type": "code",
   "execution_count": null,
   "metadata": {
    "executionInfo": {
     "elapsed": 8,
     "status": "aborted",
     "timestamp": 1728682692078,
     "user": {
      "displayName": "Simon Strandgaard",
      "userId": "00369037028151231486"
     },
     "user_tz": -120
    },
    "id": "NhpiAr6UE7vG"
   },
   "outputs": [],
   "source": [
    "#test_example = \"transform SIMONARCRLEROW to symbols\\na4y6q7y3o5\"\n",
    "#test_example = \"Histogram after deserializing SimonsRLERow\\nc5\"\n",
    "#test_example = \"Convert string to Simon-ARC-RLE-Image\\n494411344,244423242,444334224,803294472,480442407\"\n",
    "#test_example = \"SIMONARCRLEIMAGE from Json\\n[[6,9],[3,9],[6,9],[9,3],[9,3],[4,3],[4,4],[0,4],[3,4]]\"\n",
    "#test_example = \"SimonsRLEImage, 3x3 area, how many neighbors have the same color as center\\n9 9 917a918a1,c9681a9,c981b9,a918d9,978791a79,929a1a907,9291b907,b5b9240,b9a52a90\"\n",
    "#test_example = \"Histogram of SimonsRLEImage\\n7 9 a671717,1701015,b7a107,a51a715,0a15a15,a101b0,b10515,5b0a17,51751a5\"\n",
    "#test_example = \"Flipx SimonsRLEImage\\n7 9 a671717,1701015,b7a107,a51a715,0a15a15,a101b0,b10515,5b0a17,51751a5\"\n",
    "#test_example = \"Rotate CCW Simon-ARC-RLE-Image\\n6 2 18c0,8d0\"\n",
    "#test_example = \"Transform pixels to Simon-ARC-RLE-Image\\n6 2 18c0,8d0\"\n",
    "#test_example = \"histogram after deserializing SIMONARCRLEIMAGE\\n3 3 a75,7a2,a92\"\n",
    "#test_example = \"This is simon-arc-rle-task data. Extract 'Input 3 Example'\\nInput 0 Example\\n5 8 c80,08501,08a18,81a08,0a850,b858,80b8,c80\\nOutput 0 Example\\n8 10 6256a2a5,c1c7,6b762a6,6765b61,275b6a5,27165252,6a952561,56162a56,652a5651,a65626a5\\nInput 1 Example\\n8 7 b2a5b2,a2172a52,b27c2,a2a7c2,a27d2,,\\nOutput 1 Example\\n10 5 08a9c6a8,1b681c8,861b89b8,068a19a818,a1c81a81\\nInput 2 Example\\n7 9 0804a04,0870a40,078a0a4,0780a20,d1a0,7808a04,70b804,7b0840,7b0484\\nOutput 2 Example\\n5 8 45454,42a74,a7214,75414,74214,70514,1a614,5a410\\nInput 3 Example\\n9 5 96936c9,b93a6a90,b9396a96,a693c96,b606a909\\nOutput 3 Example\\n8 8 292d9,92e4,a2a94b9,94a9a429,e949,a92c92,4a24c9,4a9492a9\\nInput 4 Example\\n5 6 46141,46b4,16b4,46b4,4,14141\\nOutput 4 Example\\n8 8 19139191,a194c6,1b64191,16a14b1,16b9141,96139a14,96b1491,9a19a1a9\\nInput 5 Test\\n6 7 6a25a6,62c6,,2d6,2b656,,c656\\nOutput 5 Test\\nNone\"\n",
    "\n",
    "# prepare for the model\n",
    "#input_ids = tokenizer(test_example, return_tensors='pt').input_ids\n",
    "# generate\n",
    "#outputs = model.generate(input_ids)\n",
    "#print(\"response:\", tokenizer.decode(outputs[0], skip_special_tokens=True))"
   ]
  },
  {
   "cell_type": "markdown",
   "metadata": {
    "id": "cjxvMu0rKDzL"
   },
   "source": [
    "Let's compare this to the ground-truth docstring:"
   ]
  },
  {
   "cell_type": "code",
   "execution_count": null,
   "metadata": {
    "executionInfo": {
     "elapsed": 7,
     "status": "aborted",
     "timestamp": 1728682692078,
     "user": {
      "displayName": "Simon Strandgaard",
      "userId": "00369037028151231486"
     },
     "user_tz": -120
    },
    "id": "gLy5iUqHKHmy"
   },
   "outputs": [],
   "source": [
    "#print(\"Ground truth:\", test_example['docstring'])"
   ]
  }
 ],
 "metadata": {
  "accelerator": "GPU",
  "colab": {
   "gpuType": "T4",
   "provenance": [
    {
     "file_id": "1_k6LgnEIkwpxgogRIA8eb4C1l8Gid79n",
     "timestamp": 1728680739648
    },
    {
     "file_id": "1ibjGWW68kmbMxEiKOxj39cru0xcOsZNV",
     "timestamp": 1728676367264
    },
    {
     "file_id": "1Stbl-ALs0YGhE0TGm20UVCgRsw44x8lo",
     "timestamp": 1728667104989
    },
    {
     "file_id": "1POt9X7C8bStCWgYSn9C4Ze1GoizfWDjI",
     "timestamp": 1728664498653
    },
    {
     "file_id": "1FjGVILz-a3s8-uZSaRTckrMkoPoJninT",
     "timestamp": 1728661520970
    },
    {
     "file_id": "14Ec5tfSRIaAIGz5olbznw4K49Qt9meDh",
     "timestamp": 1728658882280
    },
    {
     "file_id": "1YVk1TlfyRjH_3UupokYQLQgO-8qYf-qc",
     "timestamp": 1728655107314
    },
    {
     "file_id": "15D5xp8NYbnTF4s7q5VYehSvZ21R7yS34",
     "timestamp": 1728652579428
    },
    {
     "file_id": "1XJWGEh1z3biC_0tq9xUC6Ww7dEiUtWsT",
     "timestamp": 1728647490847
    },
    {
     "file_id": "1KyG_siI6Fz2msbd027roFA_B6M9vyYRq",
     "timestamp": 1728644636375
    },
    {
     "file_id": "1xo8knqyiw5NbvryKXZ-YYlcy-1AKCEvb",
     "timestamp": 1728640145983
    },
    {
     "file_id": "1rgywXe0dwenUS3jecYBSNqSzp5fIlYF5",
     "timestamp": 1728636480431
    },
    {
     "file_id": "1R9VRpbqXM_1N32G0act_9MnwKMBbbdSZ",
     "timestamp": 1728632058304
    },
    {
     "file_id": "1ANHPaISYxUQvYzH-iIlND-EIfNTS64zl",
     "timestamp": 1728602490916
    },
    {
     "file_id": "1O-iyXB-QDgW5HptxmKx9nKrNLoklGFmD",
     "timestamp": 1728599366052
    },
    {
     "file_id": "1JoR1m61wCQzXSutQOZOWC-yLlkARwanK",
     "timestamp": 1728595171556
    },
    {
     "file_id": "1NJ2yc2pnlO1GuBkEstBH4fFq-MbeaM0F",
     "timestamp": 1728592819292
    },
    {
     "file_id": "1Eht-HfgbwJRw3FZJo7ZRg1x_Yv9FekeS",
     "timestamp": 1728589958684
    },
    {
     "file_id": "1GPYj51P8cHZbypFeJDnxMyNqinsszJ5n",
     "timestamp": 1728586167955
    },
    {
     "file_id": "1wEI6TW2L5Pz8Tf30a70PrEniuJ41CPxR",
     "timestamp": 1728581933513
    },
    {
     "file_id": "1ZERI48iedACGgH5yPb6SIczBp15FcVuq",
     "timestamp": 1728577924974
    },
    {
     "file_id": "1fM53XLmuJZDrh0ldOs0VVfwkbEmvX3HG",
     "timestamp": 1728575132851
    },
    {
     "file_id": "1_AM23BU9v0IPXA5KQSLQbknTs_fAQIRp",
     "timestamp": 1728571547516
    },
    {
     "file_id": "11OqwBqlFHvRTgP2tw3hLeDWYg9dNgLxb",
     "timestamp": 1728568124526
    },
    {
     "file_id": "19e3T4-lL568tp6wypyZ-BofdKdFsrKH_",
     "timestamp": 1728566555767
    },
    {
     "file_id": "1OjCUO1MgYzEcRXOKTG1rCvDRQl4SF4iP",
     "timestamp": 1728563964593
    },
    {
     "file_id": "1OqjPFgoSfjQcxqlxYsNTX1q_eXlYx5jV",
     "timestamp": 1728561254307
    },
    {
     "file_id": "1PBTBrMw_Fi5HWIj42m6AbMUH-vXQNYYC",
     "timestamp": 1728559211432
    },
    {
     "file_id": "15iFix134drG8O6uHgvoOF2yznomjjJew",
     "timestamp": 1728557332313
    },
    {
     "file_id": "162oWsKPP0udjpoLd8jNLGbNrJt4FU7I8",
     "timestamp": 1728554163015
    },
    {
     "file_id": "16apC8GN57WBxAmI9MYW-2jC6dvs0R6Kw",
     "timestamp": 1728552170145
    },
    {
     "file_id": "18zpDGRZ9jCWLY9qNXSJI9RHP5sk5jde9",
     "timestamp": 1728509930782
    },
    {
     "file_id": "1FbARqHIzUKjOs3Z7VZbws6hYHTJRd9X3",
     "timestamp": 1728506509701
    },
    {
     "file_id": "1fqNoR4jcfHKvUTqfQc6jQJe5nLePVNQ0",
     "timestamp": 1728503995515
    },
    {
     "file_id": "1nsPffJm1bnyQuteKGMimebU9CWwdKkLu",
     "timestamp": 1728496103525
    },
    {
     "file_id": "16KNd4kmldFXmVNcKxUEKmvQJ57OM9Sj_",
     "timestamp": 1728494311258
    },
    {
     "file_id": "1MkE30INgHI_aRCcBxWLqk5O2iqKihwpN",
     "timestamp": 1728492540092
    },
    {
     "file_id": "1uhKmSCXgAhfOQyxSh6YFMml-5wXX_5m8",
     "timestamp": 1728489033817
    },
    {
     "file_id": "1g9fOlux8uaTSCGum_e1gsZ2YLYemudEa",
     "timestamp": 1728488372038
    },
    {
     "file_id": "1jtN05cW31oOu3c9pO1icJQyxRDjN-Mzq",
     "timestamp": 1728487039283
    },
    {
     "file_id": "17Ddm9p4Y1qSlKAJXIm_n5q9ewxTNQwco",
     "timestamp": 1728485125632
    },
    {
     "file_id": "1p2GPmnXkAUwI27zgqE6OUgVXH7xGup9B",
     "timestamp": 1728482759983
    },
    {
     "file_id": "1stNoi8Aa_BRJrxGA_dkGdx3ugEpuadIB",
     "timestamp": 1728480417973
    },
    {
     "file_id": "1dgfR_jYbibK_9xhUa1iiRvTPTak-xPeA",
     "timestamp": 1728477993022
    },
    {
     "file_id": "1sjPU0LQitkYnoWfPTXqZkEcw-hfgmKs6",
     "timestamp": 1726266972037
    },
    {
     "file_id": "1oeT06Yg-lqNhGzx58dc7WeTyI-BzVGTa",
     "timestamp": 1726260500372
    },
    {
     "file_id": "10mssG9gVFrQVrnYfBQxLMUp7V_7UjsbU",
     "timestamp": 1726250817962
    },
    {
     "file_id": "1h3yrhXY2as8H29CxvltDyAwv3j7q9xVB",
     "timestamp": 1726241548277
    },
    {
     "file_id": "1jiIU9wFIwAo4BpGOyxh3ITO7kpDRGAGT",
     "timestamp": 1726231320629
    },
    {
     "file_id": "19r5FK7SEIAMGplpZ0WUuwfkfB9Wm1_WH",
     "timestamp": 1726173555841
    },
    {
     "file_id": "1l2A5ZjFCtKZNBjTLuKFg4WfFBH4i3pRU",
     "timestamp": 1726168482316
    },
    {
     "file_id": "1Mje2USvdj0xZGQXNoYsz0Jn8qHxxGjXz",
     "timestamp": 1726159461421
    },
    {
     "file_id": "1WC9tnAcIuBHuUrtBASKOJ5C4A_s4MsCD",
     "timestamp": 1726151252283
    },
    {
     "file_id": "1A4U8IpbFtzQj16qDW954HEtT0rXyVbqf",
     "timestamp": 1726145081748
    },
    {
     "file_id": "1BEreR4KtqKl7JOHUmUV3m2KagaZsbyZJ",
     "timestamp": 1726141909150
    },
    {
     "file_id": "12ll3svtsqMFyCl3XBQ3Nvo9OQucwCXyi",
     "timestamp": 1726139935629
    },
    {
     "file_id": "1l5jtp48tl9DHEwXLrC5DlsaIzBB8iZWy",
     "timestamp": 1726137567603
    },
    {
     "file_id": "1ZHay3BZAtCgXkU0kBYZa36BpYAofCexe",
     "timestamp": 1726135805867
    },
    {
     "file_id": "1_l6A3dziFUrDjdw6k5czgKEZhF2YHa8M",
     "timestamp": 1726130537116
    },
    {
     "file_id": "1wt4jSkiptBjdZcEkZlMARoTW1n792tW6",
     "timestamp": 1726091648104
    },
    {
     "file_id": "1tn-ZxBFyzzfCMJ11HdSMGBfMos1vmX50",
     "timestamp": 1726088152275
    },
    {
     "file_id": "1Q_P-jHQnXr034ummb7LQgUUNTis2laFY",
     "timestamp": 1726081886932
    },
    {
     "file_id": "1zHMHSBiT0PPSv6FUf0pgPJcwfBXt4zJq",
     "timestamp": 1726076135962
    },
    {
     "file_id": "189pVn30kQf4KuQlJ1VGSLueCjDc9fhRr",
     "timestamp": 1726069386044
    },
    {
     "file_id": "14oEvyfz7U3tkxNjWbzA2rSMeadl4tJ9n",
     "timestamp": 1726064705531
    },
    {
     "file_id": "1_n92nSTBt-86n-cbu74HbO_blyp4V8Wi",
     "timestamp": 1726058320866
    },
    {
     "file_id": "1eKPM-7VrKNcNEGjQgQd-OxUnSMSwStoI",
     "timestamp": 1726055960511
    },
    {
     "file_id": "1295zdaqcrlvmjf9F4Y-XSw_i-_Ou55tK",
     "timestamp": 1726053933629
    },
    {
     "file_id": "16_DF2TkWQKXYFGNxbLv1i7gqK3VENYM9",
     "timestamp": 1726051743432
    },
    {
     "file_id": "14TCJUI6U6KqnC0bqaZy-L6HUha7UkF5P",
     "timestamp": 1726050055976
    },
    {
     "file_id": "1ZZQuDXBaPLiMyWnnLD7xY81RyJlrSMoe",
     "timestamp": 1726045311049
    },
    {
     "file_id": "1lwfx1AtTh_6pBv9TQ3iU2MM3gxAXUdYP",
     "timestamp": 1726043815333
    },
    {
     "file_id": "1WdMxikopZmhFKw35ff19PEUASKPjuiJK",
     "timestamp": 1726041560552
    },
    {
     "file_id": "10aLjYuGbhgaD3sWDcHLD2sQSWr6_-bWp",
     "timestamp": 1726040452093
    },
    {
     "file_id": "1U-zKO4gIav3-O2TUOdP_a-WYAVs1a2iR",
     "timestamp": 1726038465319
    },
    {
     "file_id": "10_scemrA9JV12yECMInOkhA52Rq_XIw4",
     "timestamp": 1726009394432
    },
    {
     "file_id": "1YkOlH6UMJJ3liuTY0rwYYaoX8SE-joVD",
     "timestamp": 1726007594692
    },
    {
     "file_id": "1nulJx7fHv_dnaJvz60TLRy9WfCKiwgIb",
     "timestamp": 1726005416098
    },
    {
     "file_id": "1ONxd2QR7Q6heP95va58eMRHp78W_ABY-",
     "timestamp": 1725981378774
    },
    {
     "file_id": "1-Bz_TFEDfcPBKAJCDEsr49MoTIokotAz",
     "timestamp": 1725977517892
    },
    {
     "file_id": "1hwYaFfdKrUc69jMJnFKF416Qm1n9CQa9",
     "timestamp": 1725973931080
    },
    {
     "file_id": "1IcuE2R_PpvQ-5gj9qbd1t8bV2v9uaEaR",
     "timestamp": 1725971386344
    },
    {
     "file_id": "1SMveRKNx94BcF8pF4J2LLer8XIfX-4to",
     "timestamp": 1725969884345
    },
    {
     "file_id": "1jCHbkJjqK3_L1Qi4gZ7i8N8EycUJZqzX",
     "timestamp": 1725963635429
    },
    {
     "file_id": "1o_g-Q4WgJZBU_pAqY0gJ7b-_m7t4MK73",
     "timestamp": 1725953856832
    },
    {
     "file_id": "1DQJG_uE0BHwJFPwGWBql7eqbfX4UmqjA",
     "timestamp": 1725919206030
    },
    {
     "file_id": "12uaNuJyXD-YEWhhFKaAy-5gb8g2ZTCv3",
     "timestamp": 1725917700895
    },
    {
     "file_id": "1hAjkpdiEcvVFhV2P64fXlhZVrrsfV5Co",
     "timestamp": 1725915471236
    },
    {
     "file_id": "1eMbTPvVGmeoqr3jqfdSgTd7M1wuqmYp-",
     "timestamp": 1725913541412
    },
    {
     "file_id": "1Wh0-MuMQ_IfBPvKSZ5JV2dJc5l5pd6sq",
     "timestamp": 1725911639439
    },
    {
     "file_id": "1lWg1NW2rTA3d7A6xvP7umqas3qeETw11",
     "timestamp": 1725906696934
    },
    {
     "file_id": "1u8rbhDBDVN2sHENGhxhfliDDE_HHJMow",
     "timestamp": 1725902162512
    },
    {
     "file_id": "1zOfXXwo0e3f2Nk7mfI0DbszLloZjpe0Y",
     "timestamp": 1725895824206
    },
    {
     "file_id": "1UeoCY8O2E6Lg1UcPK45LUzJ5zzgVUZ_7",
     "timestamp": 1725888873303
    },
    {
     "file_id": "1CZOvHIe2wlrje1qc65P9TbiJtb4IIVrd",
     "timestamp": 1725886436415
    },
    {
     "file_id": "1G6LQW3nAlRa78yQ_ud9umHR2UOVTKRIN",
     "timestamp": 1725883995467
    },
    {
     "file_id": "1kF7k4kKduMFocrx-Bgukiza2_FYdHyKz",
     "timestamp": 1725882323115
    },
    {
     "file_id": "1QQlwbS_yQIHZiLOXnNQ0iDkYRKDBhMja",
     "timestamp": 1725880229288
    },
    {
     "file_id": "1nng7NhzKJgXafdW0a6SKG9q6TvzZUcbT",
     "timestamp": 1725872155618
    },
    {
     "file_id": "1Vbzfqj5YfqrNi1wxQWVO03asb1woGJ8s",
     "timestamp": 1725832146123
    },
    {
     "file_id": "1T-8JwmwPRMVy4-itCJcT6or8zz6H1k6c",
     "timestamp": 1725827433046
    },
    {
     "file_id": "1UC0ElLcY5NCnOViJhER7vhk7bU-t9Nsy",
     "timestamp": 1725806292889
    },
    {
     "file_id": "1TSOv3PotahlAAJOPVulnLSFmzWhxPJMb",
     "timestamp": 1725803937494
    },
    {
     "file_id": "1uF3PvbiaU32CADZE4fNcYSYj8MLwYL71",
     "timestamp": 1725800444625
    },
    {
     "file_id": "1sSY9ea7ZReF9tss9wqzpT_vc_8cP5r1z",
     "timestamp": 1725796131284
    },
    {
     "file_id": "1u8aU7e3DAqO13dr_NuIxMfpO6zTZ6ZK3",
     "timestamp": 1725792052173
    },
    {
     "file_id": "1BVSST5uHtMh2nxXGSgKky6QMAtj4pn71",
     "timestamp": 1725785836569
    },
    {
     "file_id": "1TnZ2EujuXi7FNN0oW_7A-1LgADz6BWvJ",
     "timestamp": 1725739244713
    },
    {
     "file_id": "1WfSZgOmwm6UfxRu7TquEOnpgL3XX_2u8",
     "timestamp": 1725735227389
    },
    {
     "file_id": "1ZlhAUcX3mNlPVHf26ol8lFsE6MD-Hi5G",
     "timestamp": 1725721171680
    },
    {
     "file_id": "1h0kh9cBK-G3o0qd22eoMkV5z--4S6QPv",
     "timestamp": 1725715933070
    },
    {
     "file_id": "1eBD_vQSYNoo7j_1HxhDx-kgn1DSZ6464",
     "timestamp": 1725710030284
    },
    {
     "file_id": "1XdCSvZ2s0Egxh99vRT_d07cqgvU-EdwQ",
     "timestamp": 1725704693392
    },
    {
     "file_id": "17yM5hbmeJ1hWCmnAbT09Bz_SU8VCoM4G",
     "timestamp": 1725702780370
    },
    {
     "file_id": "12EFaKpPLixOf9mfAdO_aHf3oUWoMBnES",
     "timestamp": 1725700636165
    },
    {
     "file_id": "1JFLGBbTY2KIQpSiaKNSYMdDyro9ut8Qk",
     "timestamp": 1725698998345
    },
    {
     "file_id": "12Ze_sTI1uZl-evAOx7hxm3Hy9lLhLVYH",
     "timestamp": 1725696804788
    },
    {
     "file_id": "1HjPfFyJDGOcreJC-u8gsRq_5r5uvj4qB",
     "timestamp": 1725663859530
    },
    {
     "file_id": "1ZkMZCgOQ5oRh2QFoqIohkRrlG8INbNBu",
     "timestamp": 1725654697629
    },
    {
     "file_id": "1zO1do-lC-hQZbteXw8cs_sqHlpZlKlYO",
     "timestamp": 1725651636303
    },
    {
     "file_id": "19qtm2prpI859ITSYj5w7qF121VNN5tBU",
     "timestamp": 1725642116424
    },
    {
     "file_id": "128qVy7-SexnbynIKvHzP1PoUSytYuNJ1",
     "timestamp": 1725634028617
    },
    {
     "file_id": "1HvAK1wueqSHcuH_PFUg9PmGRB_oj7nIO",
     "timestamp": 1725626681660
    },
    {
     "file_id": "17rgM5wNFw1siYiLBk0i-9k8JTuM58Z5C",
     "timestamp": 1725622006750
    },
    {
     "file_id": "1v0TO3KtbMKzu1gJpXS-o-zSyX1nd1qGL",
     "timestamp": 1725612594590
    },
    {
     "file_id": "1wHq3xPa5qJqGyfpaLTCgxlzfHmIkEmht",
     "timestamp": 1725578159568
    },
    {
     "file_id": "1nw_ZcGmFsGrIO2VYNsn0pmtka0NHNo89",
     "timestamp": 1725576543546
    },
    {
     "file_id": "1bqwltafiYxLL6hqKv5x-ntWuqItUCBoz",
     "timestamp": 1725570404578
    },
    {
     "file_id": "1PZWOK9fXYsaUqMa_tY44urNIzOX_8DbS",
     "timestamp": 1725560501461
    },
    {
     "file_id": "1WBnRa5k2GRzSoDpLiX9SbinxiH5BKJud",
     "timestamp": 1725557722600
    },
    {
     "file_id": "1gQOV_2IdI8w64afRlYZfhiYri8xBgk_Y",
     "timestamp": 1725546114183
    },
    {
     "file_id": "1Gc-otsVDKqvtAJb7XGFf9IfQ2M531yaV",
     "timestamp": 1725538458664
    },
    {
     "file_id": "1TUeyrGJcjCtVfd0wY1hfKVTEJ3NL9Omh",
     "timestamp": 1725531230011
    },
    {
     "file_id": "1HSm0-sNSYwov76cVp2rYBpk7vIudYl1b",
     "timestamp": 1725526036913
    },
    {
     "file_id": "1uMCmoZ-7R5KjLIoeb9-0VqiU24b0R6Ep",
     "timestamp": 1725489026252
    },
    {
     "file_id": "1mh6azGu8KqzlhD6NsgZ3hrsIb9xDwbFv",
     "timestamp": 1725485229562
    },
    {
     "file_id": "1dNg6wDZH4vuDXUZWhEXh2exxEkkVD9ZJ",
     "timestamp": 1725473942814
    },
    {
     "file_id": "1iLTYjeKfRdWRhklIUr_rmSpurrMDakTM",
     "timestamp": 1725468230111
    },
    {
     "file_id": "1C22siYbqkLcvrn9dkoj9CPp5psQMsBjA",
     "timestamp": 1725462961105
    },
    {
     "file_id": "1t11LnABeui8LelM1akVtiLfPcqX9_3DC",
     "timestamp": 1725460409301
    },
    {
     "file_id": "1_kW0zZNQ9N2d-h8X1B3KkXgroxJnRMzf",
     "timestamp": 1725454292211
    },
    {
     "file_id": "1lEAZ_e9vkLBoB2vR0xIsUukWMTeadd8e",
     "timestamp": 1725448985277
    },
    {
     "file_id": "1RBrgAJeZ6CL6t_TrLkfmv16DmzFiRCpS",
     "timestamp": 1725438599219
    },
    {
     "file_id": "1aBsbTZJdtH0X-iAAOJLzbtXC06p-9sHy",
     "timestamp": 1725400171200
    },
    {
     "file_id": "1ogc-wPpBrLXTXJKODVhEC3wBtKl20gnr",
     "timestamp": 1725397629794
    },
    {
     "file_id": "1mjwyJ5gUuSwV5qzqU_Jq0_ls9UHev2YT",
     "timestamp": 1725385088033
    },
    {
     "file_id": "1ubcmOwAkKswFqNYIu_uv3jxO-QuY5z4X",
     "timestamp": 1725376602704
    },
    {
     "file_id": "1AgWywMvjRhIfv-bhtXGYnHwZ9p4KuHk6",
     "timestamp": 1725370168112
    },
    {
     "file_id": "1mqd17v3IQInT5WcMQL_yCtm-tRvA20En",
     "timestamp": 1725366044584
    },
    {
     "file_id": "1Ca_Nr4t0aInZ2TjN6FcE9b7SVcucjjmt",
     "timestamp": 1725349201424
    },
    {
     "file_id": "1BidwXzdkPPXgHTSXv8q1Eyn1aEPyK5qB",
     "timestamp": 1725312515397
    },
    {
     "file_id": "1L4885onJ0tZT3dKWvE92lDG3NFGjUT4x",
     "timestamp": 1725306666741
    },
    {
     "file_id": "1UDPmZMzIrLkbEOI0JRyoKKBqi2rYhqxL",
     "timestamp": 1725305167199
    },
    {
     "file_id": "1hukIisGaXxg02tsiaDjXSe32z1aNSesM",
     "timestamp": 1725303699034
    },
    {
     "file_id": "1DM45xARRhSHBwDIDR81trgIw2aITJ4WQ",
     "timestamp": 1725286333427
    },
    {
     "file_id": "1v0GZpcTV_XoYfcL9hBokeCXRVIWGXX4E",
     "timestamp": 1725282034332
    },
    {
     "file_id": "1Q2eb8Io3YDjDVDbyqi8zeYPvfj4jWWr1",
     "timestamp": 1725272669720
    },
    {
     "file_id": "1TeBdUlRWtG4SeY6DK6V0iLrAQ8F7328h",
     "timestamp": 1725269751907
    },
    {
     "file_id": "1ZS6235Hda8RPwsf6uiSc0Nk6uLA4CWW_",
     "timestamp": 1725265803076
    },
    {
     "file_id": "1sPgY40GaWNRauZr9-Qd2kjl_BkbaMObY",
     "timestamp": 1725259032840
    },
    {
     "file_id": "1nQdKc-HBNUy2--fCYmKiSdpwvoe5JlIu",
     "timestamp": 1725225695889
    },
    {
     "file_id": "1Z5az7r3JmRRKnBgJl1o11k9trdXrAOZE",
     "timestamp": 1725221362564
    },
    {
     "file_id": "15g6nu9up4-OzYM1XsI7LuVHxcWI8Odau",
     "timestamp": 1725217051020
    },
    {
     "file_id": "1ruEekP0n1aCp5-ls_mucjRURFr7myqV8",
     "timestamp": 1725207342475
    },
    {
     "file_id": "1MTJALWTghbppB3bCuJh1pfv12M6XlB9J",
     "timestamp": 1725198430717
    },
    {
     "file_id": "1GSxAplWKhYoDWQ_X-AC8PPh3bSVYOjyo",
     "timestamp": 1725189103424
    },
    {
     "file_id": "1AsC73od7jaUussi7myP3GLw7-rOV1d-r",
     "timestamp": 1725181009919
    },
    {
     "file_id": "1xdFopMzBTpRZ1KgCGorB16iKW6WK47LC",
     "timestamp": 1725140514544
    },
    {
     "file_id": "1gVTkxuKracDsJnB4NMwEBQc_AW6CQFJY",
     "timestamp": 1725138517233
    },
    {
     "file_id": "1j1KscMTiYRWM-dn-AZmFZPBLlT8hKrpv",
     "timestamp": 1725136307556
    },
    {
     "file_id": "19DO-wbCXtTe1LmRPi_FKwiiBZAjM0EJD",
     "timestamp": 1725132946735
    },
    {
     "file_id": "1UK4cS8jMF-1dhTOZWqgWoKarOvjkoMy7",
     "timestamp": 1725130997654
    },
    {
     "file_id": "1d5y4nLoq7TqU05uL22ACltRJndwmTlTt",
     "timestamp": 1725128350882
    },
    {
     "file_id": "1AW3ozEqcfi5E6NHMCNcqCyORZBmNfZLf",
     "timestamp": 1725125706010
    },
    {
     "file_id": "1oScRsOYfpeds7G3Y3B1-vtE16t5XdNU5",
     "timestamp": 1725121668455
    },
    {
     "file_id": "1vAZMAM-McJZmSS7SXRZqfPlbOHe82SFY",
     "timestamp": 1725118256237
    },
    {
     "file_id": "1KkzoOwbYXAC5gt3l9FTYoLQUpcsF8pjk",
     "timestamp": 1725113865919
    },
    {
     "file_id": "1SS0CrlHJXdWkF9xPvJ_9PNqzPTYwokRD",
     "timestamp": 1725110216624
    },
    {
     "file_id": "1VQbtO1ZG2YtLSLS4Ue9YnVKGCGN2Fu_7",
     "timestamp": 1725105337355
    },
    {
     "file_id": "1wRp_bsTPjoRhirEifKQHZZ5kmX9G96QR",
     "timestamp": 1725102403056
    },
    {
     "file_id": "14R3CedFhGHpt65fkOMvzQ6vvbaE4zwWz",
     "timestamp": 1725100707310
    },
    {
     "file_id": "1OBoXOtFVlKYnD1ZnYukQNTrslQWOv7Ud",
     "timestamp": 1725096478771
    },
    {
     "file_id": "1Jj3AmkyVcPcLTJUBz5mL44zGTgU3gFEc",
     "timestamp": 1725093073306
    },
    {
     "file_id": "1lJ7Q967gUtx12fhCbxD6sIdC00CQzAe5",
     "timestamp": 1725091261368
    },
    {
     "file_id": "1yx15Hd8W8f6rKND9iTAAlDEWHCjcpI7U",
     "timestamp": 1725087186898
    },
    {
     "file_id": "1hTknR1LOOz3Vp2rAYcTTm9IXHRUYNOel",
     "timestamp": 1725055044523
    },
    {
     "file_id": "1r0UVGtDzsoVoV_HRkNmpZvxOlTliTXcQ",
     "timestamp": 1725051964791
    },
    {
     "file_id": "1y9t8qkVMlo3NwCeCHEq7yaFZ4BgbqVb7",
     "timestamp": 1725049015514
    },
    {
     "file_id": "1Y5O0FRW7zC5BpsUAfpTPGMVjKicaIByW",
     "timestamp": 1725047181093
    },
    {
     "file_id": "12eqVDvAuKrmRq83rCQAKEbCNKD3gRyPq",
     "timestamp": 1725045596239
    },
    {
     "file_id": "1oOGhhEasrioHjHixUyaa7epYxdOSJiRi",
     "timestamp": 1725043829564
    },
    {
     "file_id": "1GimixkYp08DFdBGRsG05UmS_4gUvTgwq",
     "timestamp": 1725041142236
    },
    {
     "file_id": "1_7SkHz8KFQMQg14sJwWUPOBv1J-Ltdx4",
     "timestamp": 1725031993097
    },
    {
     "file_id": "1ujBh70jSU00WR8nSzEQ8nPnBeOEYhfYQ",
     "timestamp": 1725027066563
    },
    {
     "file_id": "1_UWI1mPdlqSq7GfBY0kHeB_OamBdGMUv",
     "timestamp": 1725024618278
    },
    {
     "file_id": "1-h6M23xEsacA7tQuOH8esSzOLHusfDST",
     "timestamp": 1725022069799
    },
    {
     "file_id": "1GgGXiRIaf-BA-9b6vywiyv_gB5zcbaDK",
     "timestamp": 1725019241266
    },
    {
     "file_id": "1y8PSb46U7l6cGE4-ssC13q2f7weEnJ97",
     "timestamp": 1725014995027
    },
    {
     "file_id": "1OpA1nza4fHTegrdU71HXWOCvYF6v6y4N",
     "timestamp": 1725010476517
    },
    {
     "file_id": "10YMckhjom2-7R5ju-0ZTMM0yzfz1vMxt",
     "timestamp": 1725006654476
    },
    {
     "file_id": "1_Hz1p9NmR1bQ0MTm7qtQkY63ZIk7sswx",
     "timestamp": 1724968835627
    },
    {
     "file_id": "1CJH08WuWb4EcglkRkpTN7B-tOPSEgm_K",
     "timestamp": 1724962474903
    },
    {
     "file_id": "1o28jlCoUrwOAmJWjlDYyREDaMqeuD6Jw",
     "timestamp": 1724953928572
    },
    {
     "file_id": "1smuYUyUMghidvrbaCdXkEMZqjElrgVy0",
     "timestamp": 1724947058655
    },
    {
     "file_id": "1B-vz_NgikUHw30wX88eK6NPQWOdGUTG-",
     "timestamp": 1724938203438
    },
    {
     "file_id": "1FSeOt8aiJfuEK1Dspd4EbUnZFYCm5Y7c",
     "timestamp": 1724929339684
    },
    {
     "file_id": "1gDtMEYC3t8fipuhdh2QreuTyvpMbcydI",
     "timestamp": 1724922355634
    },
    {
     "file_id": "1TFYXyfHtlXxY0OmdcYWX4kjdJwSPYJEQ",
     "timestamp": 1724910594264
    },
    {
     "file_id": "13SCXOQa9UTRO0IAkJLfWh_c6rxadj1kE",
     "timestamp": 1724880770953
    },
    {
     "file_id": "17sSgtWrR66_mfXZXoxXaHfveE_-6itBB",
     "timestamp": 1724877054113
    },
    {
     "file_id": "1Vgm6KXHRNjtzuevD3M8DiA95RrjWO8GS",
     "timestamp": 1724872796985
    },
    {
     "file_id": "1mo1Td24TVmeKerZn0Oh0ErBvrtSPcns0",
     "timestamp": 1724865562262
    },
    {
     "file_id": "16BaO4WvE9MFzk-CW6vREN-gq8BAwbfXz",
     "timestamp": 1724843591733
    },
    {
     "file_id": "1FJ3ttV-L17_CWcLu3pIjjk1MbBAptNxH",
     "timestamp": 1724835896998
    },
    {
     "file_id": "1hffbEXd6kIoeb3co7ycCan_km4A5MMP6",
     "timestamp": 1724829843755
    },
    {
     "file_id": "1h_6wxN0tdnE6T2iF5eXCQDRLBdhJbiBQ",
     "timestamp": 1724825235970
    },
    {
     "file_id": "1JAHfx9VYTCefLKS-divTOVFG8dsqydpr",
     "timestamp": 1724820481951
    },
    {
     "file_id": "1G7o1UI1hp99V2R8QZYTroDE-Iq5bP07D",
     "timestamp": 1724789884808
    },
    {
     "file_id": "1CaUliU7fmYu6mhLktpdQVc859YOtQI_X",
     "timestamp": 1724787763412
    },
    {
     "file_id": "1ddU-9bZdgdV4ofT5SwsiWSJu4tVmH-OK",
     "timestamp": 1724784120712
    },
    {
     "file_id": "12caaiRIKOdo8IhOGvcfvyPuXIQP3tFbk",
     "timestamp": 1724772516592
    },
    {
     "file_id": "1Qrwas9mFC2KvDhiw6N5xOoKwe1JCGASx",
     "timestamp": 1724762976074
    },
    {
     "file_id": "1WnVsDuraqbbC249zCo82SuSeRrfOpOPO",
     "timestamp": 1724760821678
    },
    {
     "file_id": "17E2eUyn1HajWx8vpY-P9Z7CLQFOuXBjj",
     "timestamp": 1724758601487
    },
    {
     "file_id": "1scM0GUwutCjOSeSWTxQIMFSpnQscVRl1",
     "timestamp": 1724753614466
    },
    {
     "file_id": "1X_dh762CfCFnyyWS7U27qFxO33qvW5iJ",
     "timestamp": 1724744789976
    },
    {
     "file_id": "1M5vKbQND9-Xt-mDv-R8k1RCXeOgvqF6A",
     "timestamp": 1724696478152
    },
    {
     "file_id": "1CcCKjKSAKjnpSxd72kiwawz91Jyf7GrM",
     "timestamp": 1724692698034
    },
    {
     "file_id": "1IptfaM-9CPIib7-DU1aLuoqPEXEPZ_7v",
     "timestamp": 1724689790508
    },
    {
     "file_id": "13M6dEG_2oGUGifA8u36h0btOmGfguoFe",
     "timestamp": 1724678513651
    },
    {
     "file_id": "1NKkTvlcN069JkAZ4S4uQoyDvEF56_Ouu",
     "timestamp": 1724672590002
    },
    {
     "file_id": "17mG_3B-mhry1CshPWPxzwjdqpX6_ZSL0",
     "timestamp": 1724669667114
    },
    {
     "file_id": "1nlmxCUQJiyjjYjOZIffRV5hnjbsCThPN",
     "timestamp": 1724665678742
    },
    {
     "file_id": "1Q9LX0Va2nmvCPGhYN-UCfQYo-ow7neod",
     "timestamp": 1724655191886
    },
    {
     "file_id": "1Etf694umZ8x6wKH4umukkj40pepatXru",
     "timestamp": 1724621631975
    },
    {
     "file_id": "1iA56Ungz9H8tJWL0I3ZyH80-Hb2yCxGI",
     "timestamp": 1724614318101
    },
    {
     "file_id": "1Px8_KSVUAJOl9iAxl_-qTdb49Ts5J2LP",
     "timestamp": 1724610689978
    },
    {
     "file_id": "1ed_hQ1jJEqwCb3lnal5PyG8caXxQalls",
     "timestamp": 1724607234782
    },
    {
     "file_id": "14IRMZqy2Gdt0KTf-rCWh6DgIeclT_QCY",
     "timestamp": 1724601946084
    },
    {
     "file_id": "1QCQHxXk4vuXgKZqOVNLdDzAL0j1qjjXY",
     "timestamp": 1724591557839
    },
    {
     "file_id": "1B125TQO_TB8hUt7Eb_ySuxxu1q_KC7HE",
     "timestamp": 1724581927968
    },
    {
     "file_id": "172qcIXuFCSPFXoyAHje2FVWcQEsCTqsF",
     "timestamp": 1724568091324
    },
    {
     "file_id": "1uDwEz5wl_anlRyuTkDfH1-4C3ALF_Sdn",
     "timestamp": 1724536258924
    },
    {
     "file_id": "1E1P3njS56WO_PnpUmzOVxl0ZTC2DN95F",
     "timestamp": 1724531495867
    },
    {
     "file_id": "1zKvGOPeVJK7XReeG8Rd0OguNwArGjEW_",
     "timestamp": 1724528691850
    },
    {
     "file_id": "1CIvyc11PaOaEqKhtbtGHYdUCaZTVFQJB",
     "timestamp": 1724524931767
    },
    {
     "file_id": "1uxmvKEz_KGFoDXTA3Edn-LWa4uaHiK7J",
     "timestamp": 1724521095545
    },
    {
     "file_id": "1DDdX1l8e835q9KIZES672F3wQqWvrT-f",
     "timestamp": 1724516823053
    },
    {
     "file_id": "1Mash3g5t6SWFJTmZRae81uyLAFX89-7m",
     "timestamp": 1724508254035
    },
    {
     "file_id": "1WQQ8ytSf8wkohVCfW2FzdaPs_eM3lpLS",
     "timestamp": 1724503308429
    },
    {
     "file_id": "1u7v1H_ckML6b7NR1mnkadXEUYAyilDnL",
     "timestamp": 1724496164956
    },
    {
     "file_id": "1OMRBCWh9VH4JF_2mSAZIs3uiKjzn2esy",
     "timestamp": 1724488093757
    },
    {
     "file_id": "15Z6uyg2YFp3D3SEESXRhRvB89kdbwUnt",
     "timestamp": 1724455387597
    },
    {
     "file_id": "1bToQLr0AnKonoo8LJEI_1-ql4F3fUYf2",
     "timestamp": 1724453554858
    },
    {
     "file_id": "122rFBv9GIIv42P8nJstcdg9l5KOR5t35",
     "timestamp": 1724451112179
    },
    {
     "file_id": "1q64gSE5u-m_ibQBPb4i-smvi27AMBvsB",
     "timestamp": 1724449175901
    },
    {
     "file_id": "1V3qiGe3697au6eWgQL5MU3IuVDuHoHsc",
     "timestamp": 1724447355128
    },
    {
     "file_id": "1rb8beQ3qtw5smsNPKE1GfiTVLKVssAla",
     "timestamp": 1724442155003
    },
    {
     "file_id": "1wlVwNl5RzDvrTEupu9td-UcuaLIgNttr",
     "timestamp": 1724439041746
    },
    {
     "file_id": "12Gm8sS5NPpccwwVGrvJE_q0MJSV37Oxb",
     "timestamp": 1724436869626
    },
    {
     "file_id": "13lOogd1taYR182vXhomo-HlzZeYLciVH",
     "timestamp": 1724431868508
    },
    {
     "file_id": "1h352SCPBrDGddJ-pVaOUJIZgb_QkxhQu",
     "timestamp": 1724425075097
    },
    {
     "file_id": "1l5j1NwA1kkJuJOooo396TTlbPVYq-rw_",
     "timestamp": 1724417975813
    },
    {
     "file_id": "1DAWYJnYqSBo7aGEuyOKUA13Qbs-SP0_M",
     "timestamp": 1724413002304
    },
    {
     "file_id": "1sqYN6MkH3wEWCQjOkop_bOPCsCgCDbJd",
     "timestamp": 1724409954931
    },
    {
     "file_id": "1n0XtpBnphmlWOqfIJvsogBMkdbk2nwVU",
     "timestamp": 1724404992337
    },
    {
     "file_id": "1-8zvulwHT7xqau4AMcoeJST1bNFinf9R",
     "timestamp": 1724397374379
    },
    {
     "file_id": "17px6ZM-RA9ma7OLOukMCBnX17Hz0tdP2",
     "timestamp": 1724362034884
    },
    {
     "file_id": "1ReCILeXuy05E1a7yUs_80nPEODC9TF2E",
     "timestamp": 1724356257757
    },
    {
     "file_id": "1KH4MjAuCXaYXe4L_T9eCRaaPZyjyKGG5",
     "timestamp": 1724352401609
    },
    {
     "file_id": "1aULPq4l3nD9wqUGUFtlRbeGjIXDlV6Pi",
     "timestamp": 1724348223541
    },
    {
     "file_id": "1tzdRH7VpHoSsqMNQ7c7cLbEO4a5_huoF",
     "timestamp": 1724346513869
    },
    {
     "file_id": "1HG8PWx6xgedS54gaQvcXNV4RpK97XA10",
     "timestamp": 1724341389440
    },
    {
     "file_id": "1oFBrk2z8TrfigW_MD0NecrO4EMDnuIye",
     "timestamp": 1724339825788
    },
    {
     "file_id": "1majGuscKBlsYeLu0-kgQCElAVrEJxj7P",
     "timestamp": 1724333258727
    },
    {
     "file_id": "1rYy9w4tEMipjbzHc0zu7FygJKzOoDHYM",
     "timestamp": 1724330175231
    },
    {
     "file_id": "18sWV2rZFfdf6VD8dl0V5wTjoXJfRFAuI",
     "timestamp": 1724327295312
    },
    {
     "file_id": "1OP4Oel3Tr-t98j9RubwP8Ox4ijKiDhES",
     "timestamp": 1724319750289
    },
    {
     "file_id": "1tALpQIjxVibE8g56RdEwEh8ir1_WOyCX",
     "timestamp": 1724314365854
    },
    {
     "file_id": "1RjY52z8bKrOrpEtcMzJYCfwHv8p1Rsk0",
     "timestamp": 1724276925454
    },
    {
     "file_id": "1wfYrr8rN5h4Kil1QWRdkbeiprdiE4v3C",
     "timestamp": 1724274052323
    },
    {
     "file_id": "1sWB4vgiWXXdKjqFCq5qp8ehvZgDL57uF",
     "timestamp": 1724271456334
    },
    {
     "file_id": "1D-vDmJ4IjWvvWdMpdQGdFns3RvhFwr_h",
     "timestamp": 1724265496386
    },
    {
     "file_id": "1BiyWnnZMCk8pEUA8I8WhTK7U9bCC1IOb",
     "timestamp": 1724262800967
    },
    {
     "file_id": "1bxF6G2v3BZ2sCBsRNy2DAw4AHEUF6fhZ",
     "timestamp": 1724258056284
    },
    {
     "file_id": "1JpOzt9Kil3zd_2awU88TswQbeCjVr-vj",
     "timestamp": 1724252666601
    },
    {
     "file_id": "1zKH10S0wYREuxAU0QuSK6W6wWtvPe4Fo",
     "timestamp": 1724249947724
    },
    {
     "file_id": "17vQkFpEHDtkAS5KfG8W26sbTjyh10hio",
     "timestamp": 1724247876917
    },
    {
     "file_id": "1nGzgJO5IhcENU9-JAOcbd5Zfh3qiSU_3",
     "timestamp": 1724246205146
    },
    {
     "file_id": "1qKy9vSaAFvpfILcMbmhIIaNCTKSc3JtT",
     "timestamp": 1724241706214
    },
    {
     "file_id": "1l67AY2ruDt358_gKtorxiW2V28g9U83s",
     "timestamp": 1724237429695
    },
    {
     "file_id": "1zk089mpIVPEEK8x5TCw7bbEUq0neZ8A3",
     "timestamp": 1724234109116
    },
    {
     "file_id": "1V72DkT2UVVhwumRdCynVzcWjU0_iIqWK",
     "timestamp": 1724227929411
    },
    {
     "file_id": "1fucRAKgPm-fYIVafeJYWxsclxaKdQwWQ",
     "timestamp": 1724190470900
    },
    {
     "file_id": "1fhhfB-mvGjaIeCEhPZQCJZ2j4-X4DtwD",
     "timestamp": 1724185333088
    },
    {
     "file_id": "15a1qQ_VQh-TbaDgKg6V9bie0plsOTQ2n",
     "timestamp": 1724182413615
    },
    {
     "file_id": "1mfK0ArFfn57BELI9TmmB6fN4C5q40xmI",
     "timestamp": 1724180135587
    },
    {
     "file_id": "1O1o1L7VYYYggGJPnfLkNHMT6tdW7Igxr",
     "timestamp": 1724174288132
    },
    {
     "file_id": "1YpaAielUHghGWvQwgVLOOMkCInqn7Dp1",
     "timestamp": 1724168765613
    },
    {
     "file_id": "1J5cdvLjA95OQZVMDrxCsXC7iIEVbz01z",
     "timestamp": 1724163013586
    },
    {
     "file_id": "1VOOkVWe5v4WPY_WGLHBWwZZC6GoHRnwA",
     "timestamp": 1724159494395
    },
    {
     "file_id": "1MH9vo2ycQY1eTJGyYIMm8taGCXlGUcul",
     "timestamp": 1724157309517
    },
    {
     "file_id": "1rEtr1Rud6axZ6FQKPGx5V-Ow3G4RZQPT",
     "timestamp": 1724150119440
    },
    {
     "file_id": "1Dc93Qqw_Mhglhzm5tGjDRbhhMaISlfNh",
     "timestamp": 1724145298164
    },
    {
     "file_id": "1Y1Mhxa5bovlqzu_3vOPJqODbe6F4iI2B",
     "timestamp": 1724097944909
    },
    {
     "file_id": "1_bb9GlqDGbCuyubZDLQHyZaD8MaphjB0",
     "timestamp": 1724090382283
    },
    {
     "file_id": "1ibAoklRl4Vx0GrbNzJClYIK7ibqZ03r7",
     "timestamp": 1724086484827
    },
    {
     "file_id": "1akkrVALInI0keKRNIst4rLg5Xbw2kHkG",
     "timestamp": 1724081430841
    },
    {
     "file_id": "1GUFik7rUvW7P8iGeI9vtto-2yRVWi-cB",
     "timestamp": 1724076019311
    },
    {
     "file_id": "1fnb3Zm9a8BXldXcct-EQ_fD0LOglMkG9",
     "timestamp": 1724070647825
    },
    {
     "file_id": "1lYSQCmacLiucnARNxxUzhocoaQ4KUw8d",
     "timestamp": 1724061439066
    },
    {
     "file_id": "1woRb7Gszp7eLZ2LUA-q4Fzxpl8Npwh2y",
     "timestamp": 1724049960024
    },
    {
     "file_id": "1p5zKZJiOImQzOvu9GnQRtDY_tN79GaoL",
     "timestamp": 1724012407557
    },
    {
     "file_id": "1WGjZUe1j6V8NGHr_4O5eXEaJFQPpEiJS",
     "timestamp": 1724006308281
    },
    {
     "file_id": "1wWI7PgvG9MyuuplH4YXJe2cEQAZjJXCz",
     "timestamp": 1723999702497
    },
    {
     "file_id": "1eLvjXP0IwEIiH4Zh6-QkK7rvWbtm0Rhd",
     "timestamp": 1723995380430
    },
    {
     "file_id": "1LuUuwLu61BbupqMTpx09AQuE9hqzzE9g",
     "timestamp": 1723990518593
    },
    {
     "file_id": "1aO_3Egwt4SWO646HGA7nAfFzne89EAm3",
     "timestamp": 1723968940879
    },
    {
     "file_id": "1q8Pc9ewiOhHyNMu_vMM-EW9ywVKz7sRZ",
     "timestamp": 1723928105436
    },
    {
     "file_id": "1Wlxf2Mc_O7LNNJfixYBewqbvEVW3e3Rg",
     "timestamp": 1723886258403
    },
    {
     "file_id": "1096cRWyrX0UUw7dfCMW5elAvxkXhlN6q",
     "timestamp": 1723882374103
    },
    {
     "file_id": "12PYYl2X11GMxPFeEn_Ro7zpse18d_O1t",
     "timestamp": 1723842823073
    },
    {
     "file_id": "1n_h52SWhhs3yvtOKt5BSftGR3WfimkUV",
     "timestamp": 1723836713198
    },
    {
     "file_id": "190cQiYZpM9hEvyup5Gw__IqJeU6bG7fV",
     "timestamp": 1723833672059
    },
    {
     "file_id": "1m3vYyYnvhk1XjnoEUQTezVvOWNOODoFI",
     "timestamp": 1723826616057
    },
    {
     "file_id": "16FdOACypN0-ytKHsb6fJQ2EZMCZYRFd2",
     "timestamp": 1723822352961
    },
    {
     "file_id": "17iCfZkXTUBGsRNUM_AuvmVq579S5GaMF",
     "timestamp": 1723818073456
    },
    {
     "file_id": "1xzsQFT9fjWfHAClxFv0K2tw6KOi8sRnR",
     "timestamp": 1723810526609
    },
    {
     "file_id": "1Jv9IzOUGGfG7cCtZJQs4gcs9l_6XJnsj",
     "timestamp": 1723807617154
    },
    {
     "file_id": "1iD1ECZeAaSDSdBgii_jABiJfvLNmfmqd",
     "timestamp": 1723801444810
    },
    {
     "file_id": "11v6bPIFJZ5i65-vhd9yZjE9cu9w_gyq4",
     "timestamp": 1723794965554
    },
    {
     "file_id": "1L7FVkpJNg6RD8R3LQvxLMLllaR78M4R3",
     "timestamp": 1723754761516
    },
    {
     "file_id": "1dW9OqNi089lsbP3k2vGwAmzUd1xP3-rs",
     "timestamp": 1723750877075
    },
    {
     "file_id": "1Zp-XNJBE93j-KKJaySQ90N453PuJV4RO",
     "timestamp": 1723745508627
    },
    {
     "file_id": "16nSzySzMXxlq4Og1Z-FVSwkAeXbAAcXl",
     "timestamp": 1723741795392
    },
    {
     "file_id": "1ZChlJv2LIIgMNwFh0U-QvknaqRMDAcDh",
     "timestamp": 1723736536322
    },
    {
     "file_id": "1ptZ-IntQuXZciRfSdij2VxM58JohXg6O",
     "timestamp": 1723733587032
    },
    {
     "file_id": "1eN8SOxh37FwgL0_ExAUY5iv9Xg3J4rhA",
     "timestamp": 1723729033740
    },
    {
     "file_id": "1yr_UT77V1wXY5YJ8LOUAQ4odJqF8WGIL",
     "timestamp": 1723727241891
    },
    {
     "file_id": "1kUfLbPkwPAU5zpz65DtcpVep9eEfX318",
     "timestamp": 1723722760832
    },
    {
     "file_id": "17qdFuLsVEg6AXkZQ62tgecdNq5BKjc9v",
     "timestamp": 1723717428649
    },
    {
     "file_id": "1POk44vUT0ol4zIynnm8JpPxenmKOIWPI",
     "timestamp": 1723710954572
    },
    {
     "file_id": "1FXGYsqq6FNo4WlZ9wihwL5Dw0RsgKIIa",
     "timestamp": 1723673127553
    },
    {
     "file_id": "1RGspkZamawicHXe_kCkeSFr07_r7qhOs",
     "timestamp": 1723669161889
    },
    {
     "file_id": "1p0rN_Z6NRy3ylSuN3bAajE2fIk51KDOs",
     "timestamp": 1723667510505
    },
    {
     "file_id": "1D3FZoMRImjaz9PbvsRmn8i27I2tzaNF1",
     "timestamp": 1723665341537
    },
    {
     "file_id": "1N5WBkCgPn9JrTj52H3ndAT0vO2HR7jOY",
     "timestamp": 1723662143849
    },
    {
     "file_id": "12TjunzHmPcJxc77AnI_ftqupTFgGhfKU",
     "timestamp": 1723656533961
    },
    {
     "file_id": "1wTYgFn-QrCvKkBZ5bSHvfYjdtEAclhx-",
     "timestamp": 1723650173212
    },
    {
     "file_id": "1q95JrHTdN91h-xrho8joQsNL8vfTNg4L",
     "timestamp": 1723644985017
    },
    {
     "file_id": "1rqNNY4vhuRZNp00U1VBwzqcs8jpzvEhh",
     "timestamp": 1723639463520
    },
    {
     "file_id": "1hM84KceTIcWwqWNn1hVrd96tEE836Lp2",
     "timestamp": 1723637090064
    },
    {
     "file_id": "1A-jb0v76E86Jy561oqu9rMCvH_8VOXSd",
     "timestamp": 1723633356712
    },
    {
     "file_id": "15e5aWAMN2NMIylK_GAL7vmZSg8vPhet8",
     "timestamp": 1723630268885
    },
    {
     "file_id": "1pKfe8g9O59e5ofx68Z9EovzIlzvF-R-h",
     "timestamp": 1723627262897
    },
    {
     "file_id": "1XuoQNX5YdAwDHFT7o7QKKwUi5z2F9Bbg",
     "timestamp": 1723623471635
    },
    {
     "file_id": "1dcrW_8uLEMBvtaXd8Jr2Y0GCJ2FuhI0z",
     "timestamp": 1723621440338
    },
    {
     "file_id": "1-s4s9Co3sZ-tQv6kt6OTsor7kA0OlWzS",
     "timestamp": 1723580137120
    },
    {
     "file_id": "10C7CvolMd_MvHyxcp_1xYnZIWfSOOSBg",
     "timestamp": 1723573746682
    },
    {
     "file_id": "1oe1Lz6Kw2YyzNCXqpLUQOm9fJ7RmfdjZ",
     "timestamp": 1723568435166
    },
    {
     "file_id": "1-gh1172jGA6kFlRFutEQTyXgfKTpbT9L",
     "timestamp": 1723563991861
    },
    {
     "file_id": "1E1wQPSZifTmeF2b58B0TibLhK9B7RBdn",
     "timestamp": 1723558699242
    },
    {
     "file_id": "1trwsq7biKk_HptttxSm3vvuoaXquXmdf",
     "timestamp": 1723554943744
    },
    {
     "file_id": "1KgLgtWmlZPtR_HsLh-OxWbfPZdQ9iReH",
     "timestamp": 1723545862287
    },
    {
     "file_id": "1DN22Z0M0PJedyAzZz47ZzXVj6w1LysOd",
     "timestamp": 1723543680641
    },
    {
     "file_id": "1Blwf-b1O63JNcgK2kls3TU4RZz6Hzlz0",
     "timestamp": 1723539641065
    },
    {
     "file_id": "1ESqz-xw6Im4VDD8GvmxQfp_XwEFHdTTW",
     "timestamp": 1723537996190
    },
    {
     "file_id": "1gFfHGrUyZXXd2WgYR_bfq58JLRnv-o5V",
     "timestamp": 1723493696779
    },
    {
     "file_id": "1O5Lz4SBy7EUwVOyaVSUKuiJZJpPtYyBw",
     "timestamp": 1723486206077
    },
    {
     "file_id": "1YSA2m2GUseQZyJ0I-AIlUjyTtMQxoUob",
     "timestamp": 1723481247088
    },
    {
     "file_id": "1HgIarxgzUTFgw4MtieZIylLnlMfmiYCI",
     "timestamp": 1723476317614
    },
    {
     "file_id": "1QqzWKsEF2Jas5d3OYYtC9olj9ZiXYxu5",
     "timestamp": 1723470402550
    },
    {
     "file_id": "143ijwyanW1ndP1dIlOjjdV-KUYn2VDtY",
     "timestamp": 1723462986298
    },
    {
     "file_id": "1OYeNHi0ASf7qymxRcW2lNo-v1CNAkYTr",
     "timestamp": 1723459704740
    },
    {
     "file_id": "1d7bqI-g5MG7eei6J6frRnVVp4BbyJKfy",
     "timestamp": 1723458250632
    },
    {
     "file_id": "1EtuN7BRV907P1XLGdtWE2_2p-z7USwVJ",
     "timestamp": 1723451299390
    },
    {
     "file_id": "1nHvyjIbpVWr0fjhqoroSE3MXTjRHMy92",
     "timestamp": 1723409793417
    },
    {
     "file_id": "1cimzA2pnuZtJouAXlG4fYoW_Pxd3qL0i",
     "timestamp": 1723406815144
    },
    {
     "file_id": "1hOJD04dkZ7B9UZfY11OJ6XbCCM8cKTVp",
     "timestamp": 1723405653678
    },
    {
     "file_id": "1NXLZXS4yWmnr0ls6QWKr7BBT4F5jvAKF",
     "timestamp": 1723398504907
    },
    {
     "file_id": "1U_KqHbH89LJRS4pDDlaIEWYFV7OthPxa",
     "timestamp": 1723392291860
    },
    {
     "file_id": "17wymlX0bI4jpp7_0MzIWrTGVC7wFpMBW",
     "timestamp": 1723389791002
    },
    {
     "file_id": "1aeNsKTEThaQYRia74uJPcOgU7wKCwpF9",
     "timestamp": 1723379250425
    },
    {
     "file_id": "1CrJOMa1b_jsovqr38KU2ZrG2ftXiGj9O",
     "timestamp": 1723372385137
    },
    {
     "file_id": "1WQe_9wdV6UONnbbW-lGPaD2iU_cr66hL",
     "timestamp": 1723365121951
    },
    {
     "file_id": "1tn2q35tsm9iTlGlKavkhmY0d3vcAjni6",
     "timestamp": 1723326031449
    },
    {
     "file_id": "1OHzMsjVa287A75mbw4lOyLPDfDQXYqjQ",
     "timestamp": 1723317930309
    },
    {
     "file_id": "1KYFm3tiuNi-hQ6lmc-rRLgDpiuXajB5K",
     "timestamp": 1723313705691
    },
    {
     "file_id": "1i-FgQa6JD3STgl_eLsUx4kHTAUPt8OSI",
     "timestamp": 1723303303312
    },
    {
     "file_id": "1nP8mUc4TqzMGi28RL8y_DXNK3e8DfPwq",
     "timestamp": 1723296108785
    },
    {
     "file_id": "1Y_ex1dj3bcUr6_spKu1ZNgsPDd_nKyrM",
     "timestamp": 1723288605746
    },
    {
     "file_id": "1fmc0xvuatarYYAHOrDbDF7GadPgO2DMk",
     "timestamp": 1723279034688
    },
    {
     "file_id": "144IIJOtf5VvD2k9fKOabE8ZdEJc6RBd9",
     "timestamp": 1723233902999
    },
    {
     "file_id": "1bOICkNmvA93gQOpu7n0Z4yNA4tO5PgyB",
     "timestamp": 1723228909495
    },
    {
     "file_id": "1zpwKRJkL-HAWFDoV1V219cgSZTd07PNh",
     "timestamp": 1723224378961
    },
    {
     "file_id": "10gSBIrZQtvpFYPl9dKj9N6wBmlH7Y7EZ",
     "timestamp": 1723220176565
    },
    {
     "file_id": "1fGeC2buMSwaKuiz0Ixx7lyejIuz3fLOI",
     "timestamp": 1723214606637
    },
    {
     "file_id": "19ypHnFwbQ0GMr1gcfc33EfRL0i8FqTVK",
     "timestamp": 1723208307527
    },
    {
     "file_id": "1TbFLWVM8AULaG-OEo0HTLPSAVqIgGpra",
     "timestamp": 1723203030844
    },
    {
     "file_id": "1G9UxwloY7o85lNGlWFMIqkLqHdeNnDqr",
     "timestamp": 1723195136970
    },
    {
     "file_id": "1eBRlP17OqlY4X-6KxqzP90VwPnoPv9ZG",
     "timestamp": 1723144413590
    },
    {
     "file_id": "1IS2nJTUROSqi5dIOpWFLbC5xxbqqJtYE",
     "timestamp": 1723134670394
    },
    {
     "file_id": "1Az0loiU4wGGAkSmmgH4ZAD-RcBEW6MQ-",
     "timestamp": 1723120698608
    },
    {
     "file_id": "1zXiA3-w-M4H_A2eL_vcopSoppxJpfEL9",
     "timestamp": 1723106892810
    },
    {
     "file_id": "1WgmYzJTJtZTdYS3s7wS874_p1t5GvXrt",
     "timestamp": 1723058825010
    },
    {
     "file_id": "1jDoSheYGmF0GTHBVO9zCgsQdqOmuYQJ0",
     "timestamp": 1723050590435
    },
    {
     "file_id": "1WGP21pW3ks4tDEAKTm-T8GFqFj_3OuLL",
     "timestamp": 1723041366040
    },
    {
     "file_id": "1Z4T4zf3L3eceFww9pr6sYEg30Fc2Xp04",
     "timestamp": 1723029318336
    },
    {
     "file_id": "1WvgtkzeEjbDcVuA2F9z_W_AHa8z19NY_",
     "timestamp": 1723025244573
    },
    {
     "file_id": "1VXawUZQe-mjoqhZccJ-YagFSETI2XaHK",
     "timestamp": 1723020480236
    },
    {
     "file_id": "1apJEKws-Y45L24LVdx-D87ZGPAH3_mBm",
     "timestamp": 1723018477510
    },
    {
     "file_id": "1R4eGuATZCTFY_bUCkUiJ6TODraLVGjd1",
     "timestamp": 1722979110918
    },
    {
     "file_id": "1i-QZFTPK_XnwIY15uKvi9FBymQmMLOVi",
     "timestamp": 1722970601221
    },
    {
     "file_id": "1VdZzYn0WqdM-w5RmRNgdYNICp22TLq1e",
     "timestamp": 1722958635320
    },
    {
     "file_id": "1412PUENb-_k9lJIehdpLGl_53yrD47T3",
     "timestamp": 1722950918594
    },
    {
     "file_id": "1DOO_ANlUHCWCgmeilgud2hUSAmRyoeG2",
     "timestamp": 1722942787156
    },
    {
     "file_id": "1CsqZrOhvWOmEeLt9PCcbcDHz-zNcwNGF",
     "timestamp": 1722933511972
    },
    {
     "file_id": "14HEy6wc0K03n_W1MaHdxxM_kr91xHfjs",
     "timestamp": 1722927035639
    },
    {
     "file_id": "1MNVi93vE_fN2WYoBO4qXD65-NpsKJ4SU",
     "timestamp": 1722883983583
    },
    {
     "file_id": "1VmVPue11SpQLwMV-vvCLVzs7H37g-Wl9",
     "timestamp": 1722874950492
    },
    {
     "file_id": "1yMKImgs4VT0tXlcCEdIoLgsEc-65zYkB",
     "timestamp": 1722862415820
    },
    {
     "file_id": "1PxzwSkMZtisRJ8MiCrL_pbkjjWc0CqA-",
     "timestamp": 1722856228507
    },
    {
     "file_id": "1Ezd6-76HFkLnxBjCUy0g50GvBlDnSV7D",
     "timestamp": 1722843619302
    },
    {
     "file_id": "1pQaJuBjLEfO-u0xaVPYQbocZq1aP0Cfy",
     "timestamp": 1722800318699
    },
    {
     "file_id": "1c3UaHEdSgP53YEWwm6-fJQyALXJTpGuF",
     "timestamp": 1722795145738
    },
    {
     "file_id": "1iX2P6vq58oQO6jfrqwZgxmzWB1EHKsfX",
     "timestamp": 1722790498138
    },
    {
     "file_id": "1InS4AX0LlpZ0MH5HWlnENyKh-JcUzBJQ",
     "timestamp": 1722784078207
    },
    {
     "file_id": "1ZlFNj2TXMqpUfzFG3TDkGnNX-QwArL_X",
     "timestamp": 1722779711639
    },
    {
     "file_id": "1kxJeCOL1kwOyQXZxqx3gmlqLvxX4ZQXc",
     "timestamp": 1722775469362
    },
    {
     "file_id": "109OSbs5ZjNbxxOZtudOdp8q1czI_2qmW",
     "timestamp": 1722770684957
    },
    {
     "file_id": "1Zsd24I3NyAnnKeqtGiRRNIGud61fhQq-",
     "timestamp": 1722761069243
    },
    {
     "file_id": "10_lI9iveGY3NVrw8jdK5BlsU9fPxFvAe",
     "timestamp": 1722712292043
    },
    {
     "file_id": "1ePuZSbc4Hvju31m-xpcHfz_5_8VlAl5l",
     "timestamp": 1722708054070
    },
    {
     "file_id": "1WykhkdFgBsIgp7Lv6Z1NvnykP2MHWd3s",
     "timestamp": 1722704064546
    },
    {
     "file_id": "1odYhCTURFhKNheqWPGTsZhiDMEselsK1",
     "timestamp": 1722700045878
    },
    {
     "file_id": "1Qfq1Y64tz07zVUSUaT6DGZauiFF0r5d1",
     "timestamp": 1722698753811
    },
    {
     "file_id": "1ASNJrBMOKLUArrnlZvW9Ak8cF-unTYYZ",
     "timestamp": 1722678518148
    },
    {
     "file_id": "1FeC2V_OQ07p7RkaMDtzHpgpEUveZvkY5",
     "timestamp": 1722676475198
    },
    {
     "file_id": "1r5X4vofY0DH4NK_e0HTrktSTHpyXyVFz",
     "timestamp": 1722632669286
    },
    {
     "file_id": "1h86AV9hjLJKdS1bJHX0kmnR8q2sTSS4G",
     "timestamp": 1722630035976
    },
    {
     "file_id": "1Um4mS7D4GEAraZPtT1hCPttjOHjs4Ng7",
     "timestamp": 1722624776211
    },
    {
     "file_id": "1uaXAhQd7Y28FCgKgmTlrezpFIx9-0hQD",
     "timestamp": 1722620722726
    },
    {
     "file_id": "1kxoAzCZfjO8QL3JJOYJmGdBw_E8QVy5p",
     "timestamp": 1722614696974
    },
    {
     "file_id": "13g6xYFIIxRuOXaGKw6vRoMvYYX2XItVk",
     "timestamp": 1722611601489
    },
    {
     "file_id": "1PTVa9NUh8tiZj7Dp88I6AZE7hBubtRO7",
     "timestamp": 1722606092260
    },
    {
     "file_id": "1_jTkw66EWsZYoFWjmhVM173gL8rYBQjc",
     "timestamp": 1722601798129
    },
    {
     "file_id": "19JGGho6ZQSbPlYrEzbfqhiD4_Tj7dw8P",
     "timestamp": 1722597463052
    },
    {
     "file_id": "1KNqQZJGWQY4RHso5eBBC76V-ZcIsWbWB",
     "timestamp": 1722592940068
    },
    {
     "file_id": "10dLpexs0_SaIdJ2VvYCnMlfCrJYEujUs",
     "timestamp": 1722586683771
    },
    {
     "file_id": "1nvFuS24Px9y-rlPbNf8PhHCiGoCEUqHH",
     "timestamp": 1722543719521
    },
    {
     "file_id": "1R57fVLwAS1hP5LN7XC9KKohqIbBCLbf7",
     "timestamp": 1722539469166
    },
    {
     "file_id": "1iJvuPqi02y7W7DzpD8xaHtBE1rrX4Wh7",
     "timestamp": 1722535517755
    },
    {
     "file_id": "1zK-gjU4-CHTtRIzUieEsKnojUOpQM_bp",
     "timestamp": 1722527797836
    },
    {
     "file_id": "153ahW554Xc85zl1Xidm6piIz9dnRJ7uR",
     "timestamp": 1722519714293
    },
    {
     "file_id": "18LxzaHNaQF9t7ZHgLL9vQztkl445llvO",
     "timestamp": 1722518490217
    },
    {
     "file_id": "1Rb6nCTJo5eCOLDpV2lM6xYEUMZBqx2MZ",
     "timestamp": 1722511276505
    },
    {
     "file_id": "1IxiVM-BqfFqzQY8hNxDba5yqhu3tQz5s",
     "timestamp": 1722503339794
    },
    {
     "file_id": "1j5qBGRx-kGYzKxKhTxQ0DD6SInOcpsyz",
     "timestamp": 1722459275099
    },
    {
     "file_id": "1-5WeIW-l_LSjZ9RexD7tCzTXdHOwyk4X",
     "timestamp": 1722451158266
    },
    {
     "file_id": "1xHUF6VyA1UxrS1g7TQpF8TKKjXFZFx79",
     "timestamp": 1722444908261
    },
    {
     "file_id": "1Q4Vsf5Q9UZ93ugVEraqbDnuO6Oi186Uc",
     "timestamp": 1722440584595
    },
    {
     "file_id": "11A-bncWbPuymy3ytCoYvxQ1qsIJv6YCm",
     "timestamp": 1722434453436
    },
    {
     "file_id": "1Ppt5WDkyK1M3J5KuopuL5dhzjkmpKR4k",
     "timestamp": 1722429873681
    },
    {
     "file_id": "1kvv_Ni96sNvAbJMvdZgoj3VLvbsuzF-Q",
     "timestamp": 1722423456591
    },
    {
     "file_id": "16nn7cnwggZ0Jh6KUxP5Iea7qqZnALr__",
     "timestamp": 1722418312267
    },
    {
     "file_id": "1i1e5F8yeidiSKVQYOka92REYVBS36P1q",
     "timestamp": 1722414086351
    },
    {
     "file_id": "1XGb2phUAnyku4o11NfB5ZCoOYyVSeHV2",
     "timestamp": 1722409851934
    },
    {
     "file_id": "1tn7XurZasx-jy1ie0reg9DKsmKGO0SdH",
     "timestamp": 1722373784844
    },
    {
     "file_id": "1UBqYN8O7vuRMeG3BwEfHMbOIaw1pyKBP",
     "timestamp": 1722369284126
    },
    {
     "file_id": "1mDblT5NTwEEk563d77JMYRcuuvpAFS1K",
     "timestamp": 1722364649485
    },
    {
     "file_id": "1bdpENy2rkZxz09klehqRVouUOvmREFKG",
     "timestamp": 1722360225766
    },
    {
     "file_id": "1TTQdeGrePuGBAOZEaaCEsLpqhF63YFUL",
     "timestamp": 1722354360539
    },
    {
     "file_id": "1H027BvsABiiUg1B-fQjZ1mkx1M0CpGBX",
     "timestamp": 1722352897916
    },
    {
     "file_id": "1xYPcjvhPL1JPmyuL1Jh9CVmabR854OiP",
     "timestamp": 1722348964154
    },
    {
     "file_id": "1gwbTtTc9uHSjn2wRBwUHDpyJPV19-ISB",
     "timestamp": 1722344649113
    },
    {
     "file_id": "1QUznc2u131qMHQq8Md4VtGcEP8LyFP3V",
     "timestamp": 1722335861400
    },
    {
     "file_id": "1zvixs4nqwMHUlLzmK9zvlNdpkCT4e5Jl",
     "timestamp": 1722327127715
    },
    {
     "file_id": "1sQK8LjZ033qUm2HjwcBWLzU3gg1IC1As",
     "timestamp": 1722278618101
    },
    {
     "file_id": "13mQRypPdX0x8jdMW_qRuvurkqBsSMCHL",
     "timestamp": 1722272509323
    },
    {
     "file_id": "1qcYIR7btqU-GnqDt21Can9bP5rEvXWva",
     "timestamp": 1722263099865
    },
    {
     "file_id": "1s5GmypXDPPYsCjtTNsML6blccwv6wMuF",
     "timestamp": 1722239958609
    },
    {
     "file_id": "1q5h1CTwP0UuSuXwecIebKCDU89JfSZgX",
     "timestamp": 1722198827757
    },
    {
     "file_id": "1XbuRyLtPXl3YZlXtTkVkMPImFUGjwDIM",
     "timestamp": 1722192822314
    },
    {
     "file_id": "1xosrCUicgL41ke09sJh8q0hzppd7V93_",
     "timestamp": 1722185304068
    },
    {
     "file_id": "1Tjv3EFxtaSZl1_NGGhMStAEc7U_79x9Z",
     "timestamp": 1722178806219
    },
    {
     "file_id": "1DhUpXeMeFp4aiIhYaKLN-ZeIAz9zj8Bh",
     "timestamp": 1722173605843
    },
    {
     "file_id": "1Ye1yrVjuhOfBw_0Nkh2m_oh6-wfaYzvO",
     "timestamp": 1722172133472
    },
    {
     "file_id": "1vbkkoxc0_joVEtSSZN6Ka4sQdEucD3Ah",
     "timestamp": 1722167833660
    },
    {
     "file_id": "15Wxmuk_4t2lhFxx8IxKbF_YIDFZOTAUJ",
     "timestamp": 1722163371780
    },
    {
     "file_id": "131-KLtbdG1kgfZXtNatFS1nPmXShijoM",
     "timestamp": 1722158769710
    },
    {
     "file_id": "1oyhlpG06q8GzhkGJEWRhv7my_rFFk73H",
     "timestamp": 1722154312214
    },
    {
     "file_id": "1uPORPUlk63LwudDAySqK8-f8KqCr5q9U",
     "timestamp": 1722115614298
    },
    {
     "file_id": "1ieKMzazA5iwLVVN3SncelLncDqR88RgW",
     "timestamp": 1722008119332
    },
    {
     "file_id": "1Gd1ayQx6wNNbtRwBlHFT__SyMCFJQjkH",
     "timestamp": 1722001287358
    },
    {
     "file_id": "1dhCZ1xX-vdoxYb4YZNgq781iSo6jEkJj",
     "timestamp": 1721993032802
    },
    {
     "file_id": "19wdPG3ukkOxi1rJoa7zC1HfDK_hcr8eh",
     "timestamp": 1721983506059
    },
    {
     "file_id": "1NimI5cbnhIn9ORslr7M3mV4zXfl4f_eo",
     "timestamp": 1721978302507
    },
    {
     "file_id": "1IASWoW-V-caUrr-U61mdLeaCPst-URZb",
     "timestamp": 1721973489283
    },
    {
     "file_id": "1s7MZWTCFbTQA23BUie-EwKaO4dSjAnwJ",
     "timestamp": 1721941004912
    },
    {
     "file_id": "176S8O9ORZd_-SfCEGFpmeaskxOd7AC6_",
     "timestamp": 1721936696619
    },
    {
     "file_id": "1iO4FJqwZOIgl3GXDYLw-i8EIRdsAOuPn",
     "timestamp": 1721932380751
    },
    {
     "file_id": "1fpYWvoXqlhQT7RaUvUWbkVAr-8DTLO4v",
     "timestamp": 1721928109611
    },
    {
     "file_id": "18gQx0Cg2U5vWK_3ntAdzOkROfu7PDCOs",
     "timestamp": 1721922640186
    },
    {
     "file_id": "1DFZy3bz7Ku_zivj3Fl89sAaoB-h5x2VN",
     "timestamp": 1721917032988
    },
    {
     "file_id": "1ImAl5Ee4zA4lCLCI09OeFuOCuR7UUOCz",
     "timestamp": 1721912928057
    },
    {
     "file_id": "1-CPO-aZVlW-556t_Zrcwdqt0Nip46Pco",
     "timestamp": 1721908528754
    },
    {
     "file_id": "1VtK3rKsqByibWVUysOMQCzwJ3KYhUnx4",
     "timestamp": 1721901477018
    },
    {
     "file_id": "1a4b7cJQ9VP2L9cWvbyFYc-yLw_zdLTkS",
     "timestamp": 1721894252908
    },
    {
     "file_id": "1TFlIqkpMSnzLiXJTLeupnly62o5WGw_F",
     "timestamp": 1721885047495
    },
    {
     "file_id": "1L2dXnXng0cboPnPqEuv72G8AgG4SUIWc",
     "timestamp": 1721877481803
    },
    {
     "file_id": "1zCutFY6Fr2w88aLd7wuuwtkEI2tUjpF0",
     "timestamp": 1721849286411
    },
    {
     "file_id": "130cXB3efvX2Zkbv-C9sux771dkFkq4TA",
     "timestamp": 1721844798161
    },
    {
     "file_id": "1O51R3aWsfiNFLj7TPhrtbdcv6QSkrjUt",
     "timestamp": 1721838616392
    },
    {
     "file_id": "1b8gCnMxjKx350Whs9z0Spzy1jbmfbC0n",
     "timestamp": 1721830511040
    },
    {
     "file_id": "1xEjyS1e1FA0SPu_sByCKG0wwYoKnHu_H",
     "timestamp": 1721824411133
    },
    {
     "file_id": "1MrI3tyQ0h3xDT8nhsf5T3UQbQoIna1xG",
     "timestamp": 1721816366087
    },
    {
     "file_id": "1dTctL4uJlLuhVxRhi5FIRm4crlcX3lWS",
     "timestamp": 1721809956130
    },
    {
     "file_id": "1T2WNtEKLo_eIQQqMpt-xPvli77qrzZzW",
     "timestamp": 1721763450649
    },
    {
     "file_id": "1lByCX26ey5t_vrBz2C6-mQs4RGaWmTne",
     "timestamp": 1721757345173
    },
    {
     "file_id": "1P3XjsV3I_1XT7W-LZXWTto0IR5GYE5lD",
     "timestamp": 1721749311535
    },
    {
     "file_id": "1Zyhl2Pc77PyAgzJFJ_aa36TWwEAW51hk",
     "timestamp": 1721740187328
    },
    {
     "file_id": "12IcZmT7qTOtds1jFcg5sYqhQ51fQNxwN",
     "timestamp": 1721731954235
    },
    {
     "file_id": "1hLaE29Y-IYQlKknvlZaluFLn46MbIijx",
     "timestamp": 1721724730621
    },
    {
     "file_id": "1wryoezJuyHwWWY52SlyuT-R5LQ7DY1L-",
     "timestamp": 1721718153108
    },
    {
     "file_id": "1L4SDsOThNUWThGcLrMi56utvQPN4uJ5B",
     "timestamp": 1721683077080
    },
    {
     "file_id": "1NXM7q78W7Rzmhj4pBHj2pURFO4RVhbul",
     "timestamp": 1721678537095
    },
    {
     "file_id": "1K5vzrtvYWXzIV8nBpsxznXeCRjwCBKpd",
     "timestamp": 1721674888267
    },
    {
     "file_id": "1xHwaiLkYzl71jvH91rSP8AnAIjwJIcxE",
     "timestamp": 1721670218623
    },
    {
     "file_id": "1b9iRlREo2Wf70vOnEoXoyNTkGbNM2FDF",
     "timestamp": 1721665045093
    },
    {
     "file_id": "1qhqx0l9bRyAumChjL1ZmTUVfHamQeYTY",
     "timestamp": 1721658524671
    },
    {
     "file_id": "1YuHA05q6I2ghb6-olj6R97fNz-qDqA0y",
     "timestamp": 1721651363325
    },
    {
     "file_id": "1srhDAuFHsgF-MNQ2eN64uCuKU5UeY84e",
     "timestamp": 1721644196634
    },
    {
     "file_id": "1bKx6o3nrOvoY8PPfnG3ThvR4K-jizOaN",
     "timestamp": 1721636595402
    },
    {
     "file_id": "1fJMrW_kjXpdkR_R8RMQsLjQj51i89Fb0",
     "timestamp": 1721587953586
    },
    {
     "file_id": "1srUoJEyHimKSKVEJkoEBBKB_gD6yv9yK",
     "timestamp": 1721580725933
    },
    {
     "file_id": "1Zb_P2pyFluLwLAvUYax0PWT7X6AkQj9O",
     "timestamp": 1721573728726
    },
    {
     "file_id": "1cX0DVYNuNoGNDskCYTXSkP34QAaoh_DI",
     "timestamp": 1721566755222
    },
    {
     "file_id": "1tqOB_-2HQr40EHdyuJys2oTjllY8VbE6",
     "timestamp": 1721559877224
    },
    {
     "file_id": "1CgZpBgRLJtlpiOl3HBD3EPGf7abMbGsD",
     "timestamp": 1721552211457
    },
    {
     "file_id": "1DHOXSK9tAEoeuPRCc7Msf4QD51LC9-Gy",
     "timestamp": 1721547929413
    },
    {
     "file_id": "1M59uAK36LF2dnwGuIxxPOVVFeoCee7bK",
     "timestamp": 1721504630973
    },
    {
     "file_id": "1NRSbI-meE70wrnHQzkxDgU8cnxCTJLUj",
     "timestamp": 1721484235890
    },
    {
     "file_id": "1eDZKQb479ew9oFLzYD_aldVZyBv1hkBG",
     "timestamp": 1721478015580
    },
    {
     "file_id": "1_WxmbGngzqftX_uN5YO5bL_BrwoO9VYu",
     "timestamp": 1721472247250
    },
    {
     "file_id": "1tc0wekz6fVbcT0tdNY2X_uaHGnwQQFpc",
     "timestamp": 1721463380624
    },
    {
     "file_id": "1ZyqAZrPnb0vHmeqoiDDC35KLbqpOh3Ms",
     "timestamp": 1721412383507
    },
    {
     "file_id": "1sfrmttErl44E7egM8yWkyQEOrxo_Skuv",
     "timestamp": 1721400826825
    },
    {
     "file_id": "1iANPpJeUYL4Ieo3uKjV06W4LKciNl5Tx",
     "timestamp": 1721390734659
    },
    {
     "file_id": "19-whc6yfvElpgu9Rh_26gxG4vOrIrmUX",
     "timestamp": 1721376960631
    },
    {
     "file_id": "18QUM6HmJGPtaTB6dHiCR41GCyI-58w11",
     "timestamp": 1721327060120
    },
    {
     "file_id": "1HQZjUMEq7pIGI9juB4x5IH1lj3d9YI4I",
     "timestamp": 1721317116648
    },
    {
     "file_id": "1MqDQTY3IXGE6w2nxpcVcnXRUyFT0rgeU",
     "timestamp": 1721308883160
    },
    {
     "file_id": "10ivJnbdPSDWzWXlSJCfyOe4lZTJtYBAN",
     "timestamp": 1721305229042
    },
    {
     "file_id": "1e5qDnDzZi8_7Um975DcG8ibnNsGDsdLK",
     "timestamp": 1721292192976
    },
    {
     "file_id": "1Uo_RCa1U4tgIYbnepWMNed8L7fc2l8T6",
     "timestamp": 1721279434568
    },
    {
     "file_id": "19LvzuI-g8xO5CIOrq7IGlt80p2EBEIbY",
     "timestamp": 1721243398202
    },
    {
     "file_id": "19cCl6mk3qnD_t6jECFwk_ROu3mc2jRBl",
     "timestamp": 1721235061104
    },
    {
     "file_id": "1YGoqhUTNmL-rnRY15jct0s5sEtipX0qa",
     "timestamp": 1721230980419
    },
    {
     "file_id": "1xHUNUWSyvJszZ-2_WGh8Hs1rUajOGKXB",
     "timestamp": 1721224644077
    },
    {
     "file_id": "1WHXIm_gEkr_rU1BWWSOkOB3NwnZBxg9K",
     "timestamp": 1721218672900
    },
    {
     "file_id": "1tfgJk6BqadcnjymK5zVzJK1Ok9ljf6OE",
     "timestamp": 1721210744432
    },
    {
     "file_id": "1nRfmo-0tNDOSOjPvW2966oS72-KsnSnz",
     "timestamp": 1721204878858
    },
    {
     "file_id": "1r82J00FecoL9SwYFyLgMmQAtAPhrHi-z",
     "timestamp": 1721121854684
    },
    {
     "file_id": "1u9pyli3qkXMdDq85jfPq25BRGKu0LJzd",
     "timestamp": 1721112910388
    },
    {
     "file_id": "1bRougTpZM4iqnGxfGNBd92zqv6CFZ9Gb",
     "timestamp": 1721075330881
    },
    {
     "file_id": "1GzCSPUfx_B4h0p9jRRJe_J8e4bjplqr_",
     "timestamp": 1721066025735
    },
    {
     "file_id": "1iSNtKPnvPg_qaqpM2TsAVDl2i874nMvt",
     "timestamp": 1721055607560
    },
    {
     "file_id": "1X4tG-AQRRFJmrAoQxCe51l5jegCCdWkV",
     "timestamp": 1721039947566
    },
    {
     "file_id": "1KL1_M1lEw8xZFWz4HYy2FmfuufXEy0fb",
     "timestamp": 1721026670506
    },
    {
     "file_id": "1FDk_v5zvy_1zfpiaPneovKpcp6s0Fnh7",
     "timestamp": 1720983726775
    },
    {
     "file_id": "1-14640ndfgW46dCQGXzGXB_tkuXt31kM",
     "timestamp": 1720968109655
    },
    {
     "file_id": "1QZFjeLvOis7265SW9NTcY8Iwmx43Ot2z",
     "timestamp": 1720961601424
    },
    {
     "file_id": "1GbO3XC3LfhF6pXgQV3KpWwuNok3ZpxGN",
     "timestamp": 1720952519197
    },
    {
     "file_id": "1Er0dZqJLckIpmBD5y6OKzPD_yXI5s4bH",
     "timestamp": 1720906952836
    },
    {
     "file_id": "1qJMi_gFbZeo2oQEId-VhSPVSxt4M3SNm",
     "timestamp": 1720894150358
    },
    {
     "file_id": "1BNPTxso1FK06cyVcEHaERrmdUlPx5QjC",
     "timestamp": 1720883579075
    },
    {
     "file_id": "1CSAMgl7hmfbnacE_AkQi4_3lZvyWrrcr",
     "timestamp": 1720868446156
    },
    {
     "file_id": "1MYQk3ggnm4nsFF45ao0ct9MV4EIbfERI",
     "timestamp": 1720861455903
    },
    {
     "file_id": "1GZ_IU_Hl5C_9DaWS9GEmyluiiCm5xhiL",
     "timestamp": 1720811364829
    },
    {
     "file_id": "13itEVq932LFkmI7igMqmbkQmpYS4wFwJ",
     "timestamp": 1720798645509
    },
    {
     "file_id": "1cZRdxsFO9BVby3rVuWxHexcXsWIyF9Ox",
     "timestamp": 1720772670571
    },
    {
     "file_id": "19ihjef8kIdxWSAukKYp1ezf_CArseoHb",
     "timestamp": 1720710833662
    },
    {
     "file_id": "1ZexYfZMgSDLS8VYumgU7WKlTGmLfWFrM",
     "timestamp": 1720637145646
    },
    {
     "file_id": "https://github.com/NielsRogge/Transformers-Tutorials/blob/master/T5/Fine_tune_CodeT5_for_generating_docstrings_from_Ruby_code.ipynb",
     "timestamp": 1720598270477
    }
   ]
  },
  "kernelspec": {
   "display_name": "Python 3",
   "name": "python3"
  },
  "language_info": {
   "name": "python"
  }
 },
 "nbformat": 4,
 "nbformat_minor": 0
}
