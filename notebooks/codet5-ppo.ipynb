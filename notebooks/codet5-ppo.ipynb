{
 "cells": [
  {
   "cell_type": "markdown",
   "metadata": {
    "id": "h-7bq0hWR3ny"
   },
   "source": [
    "## Install the required libraries"
   ]
  },
  {
   "cell_type": "code",
   "execution_count": null,
   "metadata": {
    "colab": {
     "base_uri": "https://localhost:8080/"
    },
    "executionInfo": {
     "elapsed": 24068,
     "status": "ok",
     "timestamp": 1728502549197,
     "user": {
      "displayName": "Simon Strandgaard",
      "userId": "00369037028151231486"
     },
     "user_tz": -120
    },
    "id": "i8n4pEe2RXFB",
    "outputId": "65abc71e-7808-48c8-f89b-9c8e4221cee4"
   },
   "outputs": [],
   "source": [
    "!pip install -q wandb datasets trl"
   ]
  },
  {
   "cell_type": "code",
   "execution_count": null,
   "metadata": {
    "colab": {
     "base_uri": "https://localhost:8080/"
    },
    "executionInfo": {
     "elapsed": 5010,
     "status": "ok",
     "timestamp": 1728502554204,
     "user": {
      "displayName": "Simon Strandgaard",
      "userId": "00369037028151231486"
     },
     "user_tz": -120
    },
    "id": "wQMT_CP1sSkX",
    "outputId": "3923f8d3-bc59-45cf-9ebe-4679e361488a"
   },
   "outputs": [],
   "source": [
    "import torch\n",
    "print(\"torch version:\", torch.__version__)"
   ]
  },
  {
   "cell_type": "code",
   "execution_count": null,
   "metadata": {
    "colab": {
     "base_uri": "https://localhost:8080/"
    },
    "executionInfo": {
     "elapsed": 2680,
     "status": "ok",
     "timestamp": 1728502556879,
     "user": {
      "displayName": "Simon Strandgaard",
      "userId": "00369037028151231486"
     },
     "user_tz": -120
    },
    "id": "HKDavW52ZuKv",
    "outputId": "54eabeae-1b4b-43be-ecee-91a16ff25e5b"
   },
   "outputs": [],
   "source": [
    "import wandb\n",
    "print(\"wandb version:\", wandb.__version__)\n",
    "wandb.login(key='SECRET')"
   ]
  },
  {
   "cell_type": "code",
   "execution_count": null,
   "metadata": {
    "colab": {
     "base_uri": "https://localhost:8080/"
    },
    "executionInfo": {
     "elapsed": 446,
     "status": "ok",
     "timestamp": 1728502557323,
     "user": {
      "displayName": "Simon Strandgaard",
      "userId": "00369037028151231486"
     },
     "user_tz": -120
    },
    "id": "0haOHyP1bDOH",
    "outputId": "a19431b6-c564-4ffc-b48d-6708823a37e2"
   },
   "outputs": [],
   "source": [
    "from huggingface_hub import login\n",
    "\n",
    "login(token='SECRET')"
   ]
  },
  {
   "cell_type": "code",
   "execution_count": null,
   "metadata": {
    "executionInfo": {
     "elapsed": 2,
     "status": "ok",
     "timestamp": 1728502557323,
     "user": {
      "displayName": "Simon Strandgaard",
      "userId": "00369037028151231486"
     },
     "user_tz": -120
    },
    "id": "qiYH64ujthmx"
   },
   "outputs": [],
   "source": [
    "base_model_name = \"simon-arc-lab-model647\"\n",
    "result_model_name = \"simon-arc-lab-model648\"\n",
    "dataset_path = \"neoneye/simon-arc-solve-fractal-v8\"\n",
    "base_model_path = f\"neoneye/{base_model_name}\"\n",
    "\n",
    "max_input_length = 1024\n",
    "max_target_length = 128\n",
    "my_learning_rate = 1e-6"
   ]
  },
  {
   "cell_type": "markdown",
   "metadata": {
    "id": "8x-xYVZfR5ji"
   },
   "source": [
    "## Preprocess data\n"
   ]
  },
  {
   "cell_type": "code",
   "execution_count": null,
   "metadata": {
    "colab": {
     "base_uri": "https://localhost:8080/",
     "height": 329,
     "referenced_widgets": [
      "47d07056135b47cd802dbc0b0aa39a37",
      "c01175b14e2749819b3e132edf0febe0",
      "949f55ef93864d7caffebee7875068a3",
      "fe5b318e79e042908ac5472c796ea83e",
      "c0c2c64b1d3249989c751980a00da08b",
      "851abaf3427b4b928477f58835cfce3e",
      "3fad386c8086443099ef94bac4ffbd7a",
      "9cef20543aaf4b8d9c87fd4597a95348",
      "dc738f0bb6974160b9ed3dde12ee9262",
      "410e26e52fe448bb946a14a9e593696d",
      "1b4e3f782bf14702812b87e19fc8cab1",
      "8d505cfbe4354bdfa9d340885a8f0ade",
      "7d8d427de435475ca195e49a293029ca",
      "54ea98975b654fb3956ae28a6801c733",
      "fb96e56bf76d4d5d8c4f711cfa317c7d",
      "b5d914b719df454dad501860a8b30dc9",
      "4baf1976d3124f6d9e0787494844db0a",
      "ee32e58c2ca346299bf92bb14f781b9e",
      "62866c206d2f421ebd7e83eef7518bd5",
      "588b2a6e598340faa0d6e1b073e52b6c",
      "88dac1901ff1452988ffd08055770f62",
      "1646268908c54dcda190c932163b4e7c",
      "33765a25d784466e8fb80b9e220ce86f",
      "f252df46fdbb40ca95ec43c85ee65495",
      "2bfab17ad844429eb66e2308f3777db7",
      "4925998ca96d4a81875de6887294b965",
      "447a86c694924606a9dc6f9f401d46d1",
      "4ea8ee39204549009986d23c598bd186",
      "1e9d1c72997c4e478ac05f69e2e28a99",
      "c9251d28cf5848eb9db54c42f992ba7b",
      "6cbcb34033444bd5b2032c8435e6668b",
      "a902156004ff4e76b72332283a878972",
      "efbc630cb7fa4f13b1afc0269e9635e9",
      "ba0a6b7733e94fc39e8eefd007dbb2e3",
      "dbde5bd1a7334364b76adb16d1a37e73",
      "efdc875689524f658eeaf98e27b0c039",
      "ef44c0b02a264342b8fd21c6b3e25508",
      "84233d759a004646ba25269e9c4bd58f",
      "5c75e6d6386348248d923e34a8af4895",
      "983b76a3138944eea80945f5b948a373",
      "1207757112e24cfcbdf88b2ccf0774aa",
      "93163506092e42cdb750b10a56c3f3f9",
      "02b891a37af24bd4a4b62a4835240321",
      "0d966a8f3ed9444495ae2572e4768623"
     ]
    },
    "executionInfo": {
     "elapsed": 7126,
     "status": "ok",
     "timestamp": 1728502564447,
     "user": {
      "displayName": "Simon Strandgaard",
      "userId": "00369037028151231486"
     },
     "user_tz": -120
    },
    "id": "wUT9392IR3MZ",
    "outputId": "d9766961-febe-436a-dd2f-3c13f43fdff2"
   },
   "outputs": [],
   "source": [
    "from datasets import load_dataset\n",
    "\n",
    "full_dataset = load_dataset(dataset_path)\n",
    "#print(full_dataset)\n",
    "train_dataset = full_dataset['train']\n",
    "#print(train_dataset)\n",
    "\n",
    "# Extract a few lines\n",
    "dataset = train_dataset.select(range(1000))\n",
    "\n",
    "# Define a function that adds an 'id' field to each row\n",
    "def add_id(example, idx):\n",
    "    example['id'] = idx\n",
    "    return example\n",
    "\n",
    "# Use the map function to apply the add_id function to each example\n",
    "# The with_indices=True parameter passes the index to the function\n",
    "dataset = dataset.map(add_id, with_indices=True)\n",
    "\n",
    "print(dataset)"
   ]
  },
  {
   "cell_type": "markdown",
   "metadata": {
    "id": "1UAZ7UPCU-uk"
   },
   "source": [
    "As you can see, the \"code-to-text/ruby\" split consists of a training, validation and test set. Let's look at one particular example:"
   ]
  },
  {
   "cell_type": "code",
   "execution_count": null,
   "metadata": {
    "colab": {
     "base_uri": "https://localhost:8080/"
    },
    "executionInfo": {
     "elapsed": 311,
     "status": "ok",
     "timestamp": 1728502564754,
     "user": {
      "displayName": "Simon Strandgaard",
      "userId": "00369037028151231486"
     },
     "user_tz": -120
    },
    "id": "cdpm7pHoU7t1",
    "outputId": "0e4d2046-41a9-4fb3-eade-9692e276d47f"
   },
   "outputs": [],
   "source": [
    "for i in range(1):\n",
    "  example = dataset[i + 5]\n",
    "  print(\"example:\", i + 5)\n",
    "  print(\"instruction:\", example[\"instruction\"])\n",
    "  print(\"input:\", example[\"input\"])\n",
    "  print(\"output:\", example[\"output\"])\n",
    "  print(\"id:\", example[\"id\"])"
   ]
  },
  {
   "cell_type": "code",
   "execution_count": null,
   "metadata": {
    "colab": {
     "base_uri": "https://localhost:8080/"
    },
    "executionInfo": {
     "elapsed": 1500,
     "status": "ok",
     "timestamp": 1728502566250,
     "user": {
      "displayName": "Simon Strandgaard",
      "userId": "00369037028151231486"
     },
     "user_tz": -120
    },
    "id": "aeMXx7Zy_D7B",
    "outputId": "7a09bbd1-6da4-485f-e754-cd8842bce512"
   },
   "outputs": [],
   "source": [
    "!git clone https://github.com/neoneye/simon-arc-lab.git"
   ]
  },
  {
   "cell_type": "code",
   "execution_count": null,
   "metadata": {
    "colab": {
     "base_uri": "https://localhost:8080/"
    },
    "executionInfo": {
     "elapsed": 3536,
     "status": "ok",
     "timestamp": 1728502569785,
     "user": {
      "displayName": "Simon Strandgaard",
      "userId": "00369037028151231486"
     },
     "user_tz": -120
    },
    "id": "3xRfTuVA_OW9",
    "outputId": "009fdfc0-fc8e-48bd-bdc9-17384ae4c6c3"
   },
   "outputs": [],
   "source": [
    "!cd simon-arc-lab && sh test.sh"
   ]
  },
  {
   "cell_type": "code",
   "execution_count": null,
   "metadata": {
    "colab": {
     "base_uri": "https://localhost:8080/"
    },
    "executionInfo": {
     "elapsed": 5,
     "status": "ok",
     "timestamp": 1728502569785,
     "user": {
      "displayName": "Simon Strandgaard",
      "userId": "00369037028151231486"
     },
     "user_tz": -120
    },
    "id": "TJD8Eee4_Xg2",
    "outputId": "38931b15-6f1a-44a4-a3da-f13af09a700b"
   },
   "outputs": [],
   "source": [
    "import sys\n",
    "repo_path = '/content/simon-arc-lab'\n",
    "while repo_path in sys.path:\n",
    "  sys.path.remove(repo_path)\n",
    "sys.path.append(repo_path)\n",
    "print(sys.path)"
   ]
  },
  {
   "cell_type": "code",
   "execution_count": null,
   "metadata": {
    "colab": {
     "base_uri": "https://localhost:8080/"
    },
    "executionInfo": {
     "elapsed": 3143,
     "status": "ok",
     "timestamp": 1728502572925,
     "user": {
      "displayName": "Simon Strandgaard",
      "userId": "00369037028151231486"
     },
     "user_tz": -120
    },
    "id": "lzcCPf5FAIfk",
    "outputId": "84c98076-3a07-472e-a5fb-3ad4036b6b67"
   },
   "outputs": [],
   "source": [
    "import json\n",
    "from simon_arc_lab.task import Task\n",
    "\n",
    "all_tasks = {}\n",
    "all_test_indexes = {}\n",
    "\n",
    "for dataset_row in dataset:\n",
    "  field_id_raw = dataset_row[\"id\"]\n",
    "  field_test_index_raw = dataset_row[\"test_index\"]\n",
    "  task_id = f'row_{field_id_raw}'\n",
    "  json_string = dataset_row[\"arc_task\"]\n",
    "  json_dict = json.loads(json_string)\n",
    "  task = Task.create_with_arcagi1_json(json_dict)\n",
    "  task.metadata_task_id = task_id\n",
    "  #print(task)\n",
    "  #task.show()\n",
    "  all_tasks[task_id] = task\n",
    "  all_test_indexes[task_id] = field_test_index_raw\n",
    "  #print(f\"task_id: {task_id} test_index: {field_test_index_raw}\")\n",
    "  #break\n",
    "print('number of tasks:', len(all_tasks))\n",
    "print('number of test_indexes:', len(all_test_indexes))"
   ]
  },
  {
   "cell_type": "code",
   "execution_count": null,
   "metadata": {
    "colab": {
     "base_uri": "https://localhost:8080/"
    },
    "executionInfo": {
     "elapsed": 81110,
     "status": "ok",
     "timestamp": 1728502654034,
     "user": {
      "displayName": "Simon Strandgaard",
      "userId": "00369037028151231486"
     },
     "user_tz": -120
    },
    "id": "s_Sq01_dC7Pv",
    "outputId": "8db8a6ec-7c41-4835-fe91-7bc97bf9f906"
   },
   "outputs": [],
   "source": [
    "from simon_arc_lab.task_similarity import TaskSimilarity\n",
    "\n",
    "task_id_to_task_similarity = {}\n",
    "for task_id, task in all_tasks.items():\n",
    "  ts = TaskSimilarity.create_with_task(task)\n",
    "  summary = ts.summary()\n",
    "  #print(f\"task: {task_id}  summary: {summary}\")\n",
    "  task_id_to_task_similarity[task_id] = ts\n",
    "\n",
    "print('number of tasksimilarity instances:', len(task_id_to_task_similarity))"
   ]
  },
  {
   "cell_type": "code",
   "execution_count": null,
   "metadata": {
    "colab": {
     "base_uri": "https://localhost:8080/",
     "height": 215,
     "referenced_widgets": [
      "c8d380a012e04336b80986e9b12f56e8",
      "b0ffe0e43fb2445995828fc9d41253c7",
      "964b0f7e047a453386ef6f74c73e8ad2",
      "c05217833a764f81b683eb39baa39c81",
      "e7e62e7b2f1d494981ecdc715d502362",
      "304347fd150945499e275b09e5e0ee5a",
      "1f11dd56fb6b4eb7b2af9018c57cd938",
      "a5bb9faaa49e409484a1b1cc37176b5b",
      "55939fcb6d424da7bdc33942ea98bde5",
      "ed1859eba9b84acfa651f14456e3ea64",
      "3ca92415a672453384aac9d1c7e9d68b",
      "b54bac1b3daa4a73b06ade4202840e11",
      "47d1e557f9804e50b9470ba7e7050226",
      "680af6b18a3947cd8f741997a357a6b5",
      "031bb2ec8aba453cb937146f65de5268",
      "861c545728bd4dd089a19df026539d89",
      "86394ad1e7a044738354f0a3c9f44935",
      "f0c333eebd61417f97159d013f5ee7ca",
      "26d87bf3d71b4d55ac65c352d57ca1a1",
      "06cabfd97c5349959af5c19edbc893f2",
      "6359de8d18ee472d8c1d6e857f8d172c",
      "f505c5bc3ae24d5780aaa37c1bdb63b4",
      "9839895e45d2412fa3a60d6a21be0de6",
      "7edb5ab91cfb401d8a8fa657c966041c",
      "ef86d70f6a784cc1bac8224d29da1951",
      "5a743ca810e44eb3b99ddaa1c662911e",
      "4083ed85c32a44a29472bcb8f13363cb",
      "851743136e9940b7b9c0f73e86e803ff",
      "59c7b029dc4747f5b6b51703c2a48e99",
      "49dcdb7f31d84c4f86307307c75e95db",
      "2efc7e3db37341949b1699005a763ef3",
      "56f24c021d5e43bd8f9fb33a48c34b87",
      "ed76ca0fac7e4d0ea179933ab8bb8504",
      "683a95243e6241b19ec1c51fe94477aa",
      "4ad697a6b15b418997b824231f09f64d",
      "e5d2be0567d9436a89b16c68cf1db837",
      "9f7e17864a0844929e586461da31fb25",
      "f80dca9bdaf24cb5bc37aa365422e677",
      "cdf5bc465ec7456e9e7b47c4682b8903",
      "4a6b4bf66f864c96b116f6d3f50d9a8a",
      "88aeb8244bd34ea280c7fea6201c88e3",
      "84dc5b684e244596abf70e7987dc3e77",
      "91808dca7b4a432eb9d3800ff6dcbad0",
      "023f2e1745f74607aac4945ed69b891b",
      "9e9d0d78427a479ba81b3d1338f35686",
      "086525c9ae954a22b0b5f0cac16aac4e",
      "978d2a87bb2b46d388f3fd3cb1941a79",
      "caedf4b3da764e0abf6e1290b7b02aa2",
      "d89ecc9ab7974f219fd929d9fad5845c",
      "18bd8a2d06014ac3817f2f3e2bfecd8e",
      "bd87c3d4639747b4b1d5be182a517890",
      "6ec944ddeb794784872a4cb5cef26edf",
      "882805f760584f26b2bab6f1726a5ee1",
      "1b091efc27304f29ae2cea69fde07f10",
      "c57b99f660734d02b53cba1f9af28971"
     ]
    },
    "executionInfo": {
     "elapsed": 2393,
     "status": "ok",
     "timestamp": 1728502656417,
     "user": {
      "displayName": "Simon Strandgaard",
      "userId": "00369037028151231486"
     },
     "user_tz": -120
    },
    "id": "wvRHDkCIS91f",
    "outputId": "13b9dcb0-3f41-4d3d-e92a-18b90ec92550"
   },
   "outputs": [],
   "source": [
    "from transformers import RobertaTokenizer\n",
    "\n",
    "tokenizer = RobertaTokenizer.from_pretrained(base_model_path)\n",
    "\n",
    "def preprocess_examples(examples):\n",
    "  # concatenate \"instruction\" and \"input\" with a newline\n",
    "  instructions = examples['instruction']\n",
    "  inputs = examples['input']\n",
    "\n",
    "  concatenated_inputs = [f\"{instruction}\\n{input_data}\" for instruction, input_data in zip(instructions, inputs)]\n",
    "  model_inputs = tokenizer(concatenated_inputs, max_length=max_input_length, padding=\"max_length\", truncation=True)\n",
    "\n",
    "  # encode the outputs\n",
    "  outputs = examples['output']\n",
    "  labels = tokenizer(outputs, max_length=max_target_length, padding=\"max_length\", truncation=True).input_ids\n",
    "\n",
    "  # replace the index of the padding tokens by -100\n",
    "  labels_with_ignore_index = []\n",
    "  for labels_example in labels:\n",
    "    labels_example = [label if label != 0 else -100 for label in labels_example]\n",
    "    labels_with_ignore_index.append(labels_example)\n",
    "\n",
    "  model_inputs[\"labels\"] = labels_with_ignore_index\n",
    "\n",
    "  return model_inputs"
   ]
  },
  {
   "cell_type": "code",
   "execution_count": null,
   "metadata": {
    "colab": {
     "base_uri": "https://localhost:8080/",
     "height": 389,
     "referenced_widgets": [
      "b85689a0f85d4c52afc2356a3eed2dd8",
      "9ed300d0d4c74762911e3527e0657cc2",
      "c4717edbb29e4242b3742f44b916577b",
      "5390a8116dc749d4b306c693555c1de4",
      "a1dab57e0f64450ab8f8fa94d0fc16c1",
      "da3fbb21771745f28a15e902b05801aa",
      "1a06cd165fd445a2bdd8e4b0e55f1981",
      "cc817386d1734955ac5c4510ddd808a6",
      "4c6751b093fc45d3b3b0991bdae90664",
      "86159706f2124bb7adbd0f4a388d9500",
      "25a3e698aad34e2d960ba4a3057021e5",
      "a2468ff19ea8469a88d1e05491d9e2c3",
      "0ce2353d7ab4455a96bce561219fe73d",
      "81af80cbec1c43b6904ce17fe65c168d",
      "c223809bd35f49d284237dab7a772b3b",
      "472e86bfebed4c288cece0a49077a837",
      "1d2a1323d7374db6b5e49d3142339d71",
      "90b47558e152460181f6ce39c4a20590",
      "4f0008b645974bd4887e72ae6bdc8201",
      "ab939d0fa368481a8ccdc67de87bbcd1",
      "d7ee435782924a81b38c4808aaf361dc",
      "64a52a533cee4f0fa0a0b0c090de78a3",
      "d9d4af3285e14e4d866174a5b247e26a",
      "ee7962920a7348d594b74550908796e8",
      "60d1ee99cbdf4ec58985c3718f2d3c10",
      "700f0cc193a9438298ad2263e54c0929",
      "092d55f53b384bcbb236fb8922dc5e26",
      "6dd932b2eaa64f719bd6c6e1f6d3e723",
      "063426079bf64ab098c7e4f01da8bda5",
      "c6d2e65d2e37468b93d72428fff8660b",
      "66d2a15b312742f38dfab0df05135b08",
      "5282197c80f646faaf025da31fe255ac",
      "15e5d6efee064d71a661e8f52d11e584"
     ]
    },
    "executionInfo": {
     "elapsed": 4271,
     "status": "ok",
     "timestamp": 1728502660685,
     "user": {
      "displayName": "Simon Strandgaard",
      "userId": "00369037028151231486"
     },
     "user_tz": -120
    },
    "id": "gCeZqiJ1Fj9x",
    "outputId": "b171d480-0eb0-455f-ffc1-1875574a30f1"
   },
   "outputs": [],
   "source": [
    "from datasets import DatasetDict\n",
    "\n",
    "# Split the dataset into train and test (80% train, 20% test)\n",
    "train_testvalid = dataset.train_test_split(test_size=0.2)\n",
    "train_test = DatasetDict({\n",
    "    'train': train_testvalid['train'],\n",
    "    'test': train_testvalid['test']\n",
    "})\n",
    "\n",
    "# Split the training set again to create a validation set (10% of the original train set)\n",
    "train_valid = train_test['train'].train_test_split(test_size=0.1)\n",
    "\n",
    "# Combine to create a final dataset dictionary\n",
    "final_datasets = DatasetDict({\n",
    "    'train': train_valid['train'],\n",
    "    'validation': train_valid['test'],\n",
    "    'test': train_test['test']\n",
    "})\n",
    "\n",
    "# Print the dataset splits\n",
    "print(final_datasets)\n",
    "\n",
    "# Apply the preprocessing function to all splits\n",
    "final_datasets = final_datasets.map(preprocess_examples, batched=True)\n",
    "\n",
    "# Set format for PyTorch DataLoader\n",
    "final_datasets.set_format(type=\"torch\", columns=['input_ids', 'attention_mask', 'labels', 'id'])\n",
    "\n",
    "# Create DataLoaders\n",
    "from torch.utils.data import DataLoader\n",
    "\n",
    "train_dataloader = DataLoader(\n",
    "    final_datasets['train'],\n",
    "    shuffle=True,\n",
    "    batch_size=64,\n",
    "    drop_last=True, # This ensures that any incomplete batches (those with fewer than batch_size samples) are dropped. This way, all batches passed to the ppo_trainer will have the expected batch size.\n",
    ")\n",
    "valid_dataloader = DataLoader(final_datasets['validation'], batch_size=4)\n",
    "test_dataloader = DataLoader(final_datasets['test'], batch_size=4)\n",
    "\n",
    "print(\"DataLoaders created successfully.\")"
   ]
  },
  {
   "cell_type": "markdown",
   "metadata": {
    "id": "SP2fCGi5quHg"
   },
   "source": [
    "Now that we have defined the function, let's call `.map()` on the HuggingFace Dataset object, which allows us to apply this function in batches (by default a batch size of 1,000 is used!) - hence super fast."
   ]
  },
  {
   "cell_type": "markdown",
   "metadata": {
    "id": "9mSM2_eDalx-"
   },
   "source": [
    "Next, let's set the format to \"torch\" and create PyTorch dataloaders."
   ]
  },
  {
   "cell_type": "code",
   "execution_count": null,
   "metadata": {
    "colab": {
     "base_uri": "https://localhost:8080/"
    },
    "executionInfo": {
     "elapsed": 3,
     "status": "ok",
     "timestamp": 1728502660685,
     "user": {
      "displayName": "Simon Strandgaard",
      "userId": "00369037028151231486"
     },
     "user_tz": -120
    },
    "id": "6y0l7v8obmml",
    "outputId": "64b35531-8e92-4222-eb82-cccc6d6d8a32"
   },
   "outputs": [],
   "source": [
    "batch = next(iter(train_dataloader))\n",
    "print(\"batch.keys:\\n\", batch.keys())\n",
    "\n",
    "print(\"\\ninput_ids:\\n\", tokenizer.decode(batch['input_ids'][0]))\n",
    "\n",
    "labels = batch['labels'][0]\n",
    "decoded = tokenizer.decode([label for label in labels if label != -100])\n",
    "print(\"\\ndecoded\\n\", decoded)"
   ]
  },
  {
   "cell_type": "markdown",
   "metadata": {
    "id": "MOxapqxzS0PO"
   },
   "source": [
    "## Fine-tune using PyTorch Lightning\n",
    "\n",
    "As we will train the model using PyTorch Lightning, we first need to define a `LightningModule`, which is an `nn.Module` with some additional functionalities. We just need to define the `forward` pass, `training_step` (and optionally `validation_step` and `test_step`), and the corresponding dataloaders. PyTorch Lightning will then automate the training for us, handling device placement (i.e. we don't need to type `.to(device)` anywhere), etc. It also comes with support for loggers (such as Tensorboard, Weights and Biases) and callbacks.\n",
    "\n",
    "Of course, you could also train the model in other ways:\n",
    "* using regular PyTorch\n",
    "* using the HuggingFace Trainer (in this case, the Seq2SeqTrainer)\n",
    "* using HuggingFace Accelerate\n",
    "* etc."
   ]
  },
  {
   "cell_type": "code",
   "execution_count": null,
   "metadata": {
    "executionInfo": {
     "elapsed": 5332,
     "status": "ok",
     "timestamp": 1728502666015,
     "user": {
      "displayName": "Simon Strandgaard",
      "userId": "00369037028151231486"
     },
     "user_tz": -120
    },
    "id": "q8xgD_GPEtwt"
   },
   "outputs": [],
   "source": [
    "from trl import PPOTrainer, PPOConfig\n",
    "from trl import AutoModelForSeq2SeqLMWithValueHead\n",
    "\n",
    "from transformers import AutoTokenizer\n",
    "from transformers import T5ForConditionalGeneration, AdamW, get_linear_schedule_with_warmup"
   ]
  },
  {
   "cell_type": "code",
   "execution_count": null,
   "metadata": {
    "executionInfo": {
     "elapsed": 8,
     "status": "ok",
     "timestamp": 1728502666015,
     "user": {
      "displayName": "Simon Strandgaard",
      "userId": "00369037028151231486"
     },
     "user_tz": -120
    },
    "id": "bQzPZMoRvefh"
   },
   "outputs": [],
   "source": [
    "# Remove -100 and padding tokens before decoding\n",
    "def clean_labels(labels):\n",
    "    return [[token for token in sequence if token != -100 and token != tokenizer.pad_token_id] for sequence in labels]\n"
   ]
  },
  {
   "cell_type": "code",
   "execution_count": null,
   "metadata": {
    "colab": {
     "base_uri": "https://localhost:8080/"
    },
    "executionInfo": {
     "elapsed": 5,
     "status": "ok",
     "timestamp": 1728502666015,
     "user": {
      "displayName": "Simon Strandgaard",
      "userId": "00369037028151231486"
     },
     "user_tz": -120
    },
    "id": "8X9jkfUmzon2",
    "outputId": "747bfbea-36e2-49c3-bb90-c284a7ec650b"
   },
   "outputs": [],
   "source": [
    "import torch\n",
    "\n",
    "# Dynamically check and import TPU module if TPU is available\n",
    "def get_device():\n",
    "    try:\n",
    "        import torch_xla.core.xla_model as xm\n",
    "        device = xm.xla_device()\n",
    "        print(\"TPU is detected.\")\n",
    "        return device\n",
    "    except ImportError:\n",
    "        if torch.cuda.is_available():\n",
    "            print(\"GPU is detected.\")\n",
    "            return torch.device('cuda')\n",
    "        else:\n",
    "            print(\"No TPU or GPU detected. Using CPU\")\n",
    "            return torch.device('cpu')\n",
    "\n",
    "# Detect device\n",
    "device = get_device()\n",
    "print(\"Using device:\", device)"
   ]
  },
  {
   "cell_type": "code",
   "execution_count": null,
   "metadata": {
    "executionInfo": {
     "elapsed": 5,
     "status": "ok",
     "timestamp": 1728502666016,
     "user": {
      "displayName": "Simon Strandgaard",
      "userId": "00369037028151231486"
     },
     "user_tz": -120
    },
    "id": "nU8U34UMIXVo"
   },
   "outputs": [],
   "source": [
    "#from simon_arc_lab.rle.deserialize import deserialize, DecodeRLEError\n",
    "\n",
    "#image = deserialize('1 1 5')\n",
    "#print(image)"
   ]
  },
  {
   "cell_type": "code",
   "execution_count": null,
   "metadata": {
    "colab": {
     "base_uri": "https://localhost:8080/",
     "height": 1000,
     "referenced_widgets": [
      "e1d7f888ee504ef7a523cc56df225c9e",
      "891a90cff0d046a0a810c2884d9fbc06",
      "2a4bad9a503749278d30dc3910476004",
      "5b068f8cb3c841288a52570bbf10c82e",
      "2411c622dfc144988294d21351dcf0d1",
      "5bd1ee095041491da2832d45c9118b48",
      "6a777ec3366540c88d150fb6d4f89921",
      "f0ff7eb87ed24f40928bc326819cb9ec",
      "45033e847eb04a2aad43eff6bbabf674",
      "9f06835f6f1042fabdfba35bace0b8e2",
      "e11b373f88c549788be9d6e2e65d0f32",
      "d06b4bfdcc204584b1425eeaa633949e",
      "41e729c3d3924febbd650006101e8653",
      "64923daf59194464b3de268ddc5d7bfa",
      "320b4e8cac8e48709c09e9c6d7eb9ab3",
      "cabaeafda6014adc8fed8738d1e54166",
      "1b28b1d39e274c7daf8c6be4c2e5cb78",
      "b70f760f532b490db2d4a830c86a03b3",
      "72b02c1847374670ae2d4fd258349d6f",
      "714a351c30f94076b97d83ceddcf42e3",
      "2677ac842d1d4b1e821b1536e40c5949",
      "400d1b456803462da9362ab19f5dd221",
      "2c5a9e59a2db4e9799b1cb0aa86e08fc",
      "04a7fd6ed3594f2ba882e655175ff9e0",
      "5b6e5d2dd39f48d693a0e2387706f6be",
      "0c18a502055240c9bcc768b2eb75656e",
      "5daa71a3e8a2474f836f5f081beb1d22",
      "401dc68a961c49af97b0cf55a88afe01",
      "e44681b5b34246d2a1c73c134200b450",
      "2cbfae13d4c84ea0a7d8d8b999920bfd",
      "6102008438234d9d9f99f167a87910c0",
      "82bcdd16038b42b6ab948ca9dcc17e44",
      "054c7a03145e4ca1b3991302b83fc5b9",
      "da4972273bb0430e9845516a422564aa",
      "53ade2365a834d50b1f66b2e3776b78b",
      "4c3432c7e77247c59bfb213394171a6f",
      "43312f60dbec42acbd9dc9e72cd4345f",
      "e722f5e6304c4dd6aa0814bb18074b97",
      "a220dbf74c4e4ed6b18a979bca46d748",
      "67f7840018b1469fbbea13ad4ce19d91",
      "9f8ce84f60ef49cda89a7815074aab94",
      "fcfe5bc77b984f4589fe6f78f288a763",
      "c4ea9056c68d4f4bb3240fa533e8f9c7",
      "e8bd7e61abca4f2781b8123e36638e73",
      "7ee632cc672a4057a44beb644819a16b",
      "3527aff5d32648178fd146d266098d94",
      "7c0039e5a4c04560be6875fe5fc00e23",
      "9ce99a9e747a4babb267bdbff8ae1cc0",
      "ecb07244dabe4f00a0e78676e6fe2878",
      "78bfd84c768741758af86094eb0e46fb",
      "0cb111379f594225bcae404161e4ebbd",
      "a5183074b48543f6a3eb39cad9bbf8f6",
      "57cb49873d1447508a4381f20817ec57",
      "6043d260a02248c6a38d45813358298c",
      "79318615fdc2407f82a01322c10645ba",
      "46e0ea4c3996452782e6826a949ef47c",
      "09f826b98fec4db59ea8cbbd0c9e9070",
      "50bdccf723224cfc84f797fc0e4b7836",
      "78379b9818fd4f2aba72f37c61f6ce57",
      "2c0eb55a369a410cad5c2af68ab37187",
      "a8258b3c795b411599c1b13756f966b9",
      "076013629f1244f09c875c84618989e3",
      "5388c681eadb48768c75800a82e34250",
      "933f939da79e4efc831885796fdbfdf5",
      "a00052ac4e2b4290a6e737c68ae5a340",
      "78cc2568abb24117b545d3bbfefe5e8f",
      "be4fdaaac8274924b7da261e4ef2537b",
      "72ae0fdad5cc4faaad2e09f1447833e1",
      "f60e02d31dd949eebeb224678f05857c",
      "a067d90fe21c4470994b999a99242c7c",
      "562c7762fbf3467a830c356079468634",
      "492c5f36697f4b39b0cbfc01e1842b32",
      "912a4abedb0c40489b2d0646a5a0dd16",
      "6dcdbd4ae8064e68aeb017a02a5f19c1",
      "18b6a4ca7d6342b2ac888a0856fb9931",
      "7ad26e9709264c7797787b4ec72f1541",
      "92992b94111d4a40a27e11fa4df2ee48"
     ]
    },
    "executionInfo": {
     "elapsed": 1241832,
     "status": "ok",
     "timestamp": 1728503907844,
     "user": {
      "displayName": "Simon Strandgaard",
      "userId": "00369037028151231486"
     },
     "user_tz": -120
    },
    "id": "d2iW6EJmIVjt",
    "outputId": "cbc796c0-3b89-43ee-fd4a-ead31e3340e8"
   },
   "outputs": [],
   "source": [
    "from tqdm.notebook import tqdm\n",
    "import numpy as np\n",
    "from simon_arc_lab.rle.deserialize import deserialize, DeserializeError\n",
    "from simon_arc_lab.image_pixel_similarity import image_pixel_similarity_jaccard_index\n",
    "from simon_arc_lab.image_transition_similarity import image_transition_similarity\n",
    "\n",
    "class CustomPPOTrainer(PPOTrainer):\n",
    "    def __init__(self, *args, total_training_steps=None, **kwargs):\n",
    "        super().__init__(*args, **kwargs)\n",
    "        if total_training_steps is None:\n",
    "            # If total_training_steps is not provided, calculate it\n",
    "            total_training_steps = self.config.epochs * len(self.dataloader)  # Adjust as needed\n",
    "        self.total_training_steps = total_training_steps\n",
    "\n",
    "    def create_optimizer(self):\n",
    "        \"\"\"Initialize the optimizer with custom parameters.\"\"\"\n",
    "        self.optimizer = AdamW(\n",
    "            self.model.parameters(),\n",
    "            lr=self.config.learning_rate,\n",
    "            betas=(0.9, 0.999),\n",
    "            eps=1e-6,\n",
    "            weight_decay=0.01,\n",
    "        )\n",
    "\n",
    "    def create_scheduler(self):\n",
    "        \"\"\"Initialize the scheduler with a warm-up period.\"\"\"\n",
    "        num_warmup_steps = int(0.1 * self.total_training_steps)  # 10% warm-up\n",
    "        self.scheduler = get_linear_schedule_with_warmup(\n",
    "            self.optimizer,\n",
    "            num_warmup_steps=num_warmup_steps,\n",
    "            num_training_steps=self.total_training_steps,\n",
    "        )\n",
    "\n",
    "num_epochs = 4\n",
    "total_training_steps = num_epochs * len(train_dataloader)\n",
    "\n",
    "model = AutoModelForSeq2SeqLMWithValueHead.from_pretrained(base_model_path)\n",
    "\n",
    "# Ensure model is on the correct device\n",
    "model = model.to(device)\n",
    "\n",
    "ppo_config = PPOConfig(\n",
    "    model_name=base_model_path,\n",
    "    learning_rate=my_learning_rate,\n",
    "    batch_size=64,\n",
    "    mini_batch_size=8,\n",
    "    gradient_accumulation_steps=8,\n",
    "    max_grad_norm=0.5,\n",
    "    cliprange=0.05,\n",
    "    init_kl_coef=0.1,\n",
    "    target=0.01,\n",
    "    #adap_kl_ctrl=True,\n",
    "    # log_with='wandb',  # Uncomment if using logging\n",
    ")\n",
    "\n",
    "ppo_trainer = CustomPPOTrainer(\n",
    "    config=ppo_config,\n",
    "    model=model,\n",
    "    tokenizer=tokenizer,\n",
    "    total_training_steps=total_training_steps,\n",
    ")\n",
    "\n",
    "def compute_jaccard_index(predicted_str, expected_str, row_id) -> int:\n",
    "    task_id = f'row_{row_id}'\n",
    "    #return 0.5\n",
    "    #print(f\"compute_jaccard_index for task_id: {task_id}\")\n",
    "    #print(\"predicted_str\", predicted_str)\n",
    "    #print(\"expected_str\", expected_str)\n",
    "    if task_id not in all_tasks:\n",
    "      raise ValueError(f\"Task ID {task_id} not found in all_tasks.\")\n",
    "    task = all_tasks[task_id]\n",
    "\n",
    "    if task_id not in task_id_to_task_similarity:\n",
    "      raise ValueError(f\"Task ID {task_id} not found in task_id_to_task_similarity.\")\n",
    "    task_similarity = task_id_to_task_similarity[task_id]\n",
    "\n",
    "    if task_id not in all_test_indexes:\n",
    "      raise ValueError(f\"Task ID {task_id} not found in all_test_indexes.\")\n",
    "    test_index = all_test_indexes[task_id]\n",
    "\n",
    "    try:\n",
    "      image = deserialize(predicted_str)\n",
    "    except DeserializeError as e:\n",
    "      #print(f\"Error decoding RLE string: {e}\")\n",
    "      return -1.0 + (e.score / 100.0) * 0.5\n",
    "      #return -1.0\n",
    "    score1 = task_similarity.measure_test_prediction(image, test_index) / 100.0\n",
    "\n",
    "    expected_output = task.test_output(test_index)\n",
    "    score2 = image_pixel_similarity_jaccard_index(expected_output, image) / 100.0\n",
    "    score3_intersection, score3_union = image_transition_similarity(expected_output, image)\n",
    "    if score3_union > 0:\n",
    "      score3 = score3_intersection / score3_union\n",
    "    else:\n",
    "      score3 = 0\n",
    "    #print(f\"task_id: {task_id} test_index: {test_index} score: {score1} {score2} {score3}\")\n",
    "    score = (1.0 + score1 + score2 + score3) / 4.0\n",
    "    return score\n",
    "\n",
    "def compute_rewards(samples, expected_outputs, row_ids):\n",
    "    rewards = []\n",
    "    for sample, expected, row_id in zip(samples, expected_outputs, row_ids):\n",
    "        reward = compute_jaccard_index(sample, expected, row_id)\n",
    "        rewards.append(reward)\n",
    "    return rewards\n",
    "\n",
    "def reward_list_to_str(reward_list) -> str:\n",
    "  reward_str_list = [str(int(r * 100)) for r in reward_list]\n",
    "  return ' '.join(reward_str_list)\n",
    "\n",
    "generate_kwargs = {\n",
    "    'max_new_tokens': 128,\n",
    "    'do_sample': True,\n",
    "    'top_k': 50,\n",
    "    'top_p': 0.95,\n",
    "    'temperature': 0.9,\n",
    "}\n",
    "\n",
    "for epoch in range(num_epochs):\n",
    "    for batch in tqdm(train_dataloader, desc=f\"Epoch {epoch+1}/{num_epochs}\"):\n",
    "        #print('step')\n",
    "        #print(\"batch\", batch.keys())\n",
    "        task_ids = batch['id']\n",
    "        #print(\"task_ids\", task_ids)\n",
    "        query_tensors = batch['input_ids']\n",
    "        expected_output_labels = batch['labels']\n",
    "        #print(\"query_tensors\", query_tensors)\n",
    "        #print(\"expected_output_labels\", expected_output_labels)\n",
    "\n",
    "        query_tensors_ondevice = query_tensors.to(device)\n",
    "        response_tensors_ondevice = model.generate(\n",
    "            query_tensors_ondevice,\n",
    "            **generate_kwargs,\n",
    "        )\n",
    "        response_tensors = response_tensors_ondevice.cpu()\n",
    "\n",
    "        cleaned_expected_output_labels = clean_labels(expected_output_labels.tolist())\n",
    "        expected_outputs = tokenizer.batch_decode(cleaned_expected_output_labels, skip_special_tokens=True)\n",
    "\n",
    "        batch_samples = tokenizer.batch_decode(response_tensors, skip_special_tokens=True)\n",
    "        reward_list = compute_rewards(batch_samples, expected_outputs, task_ids)\n",
    "        #rewards_humanreadable = [str(int(r * 100)) for r in reward_list]\n",
    "        #rewards_humanreadable_spaced = ' '.join(rewards_humanreadable)\n",
    "        print(\"rewards\", reward_list_to_str(reward_list))\n",
    "\n",
    "        np_reward_list = np.array(reward_list)\n",
    "        if np.all(np_reward_list < 0.0):\n",
    "          print(\"skip PPO step as it won't result in any parameter updates\")\n",
    "          continue\n",
    "\n",
    "        number_of_negatives_allowed = 3\n",
    "        count_negative = 0\n",
    "        for reward_index, reward in enumerate(reward_list):\n",
    "          if reward < -0.5:\n",
    "            count_negative += 1\n",
    "            if count_negative > number_of_negatives_allowed:\n",
    "              reward_list[reward_index] = 0.0\n",
    "\n",
    "        #min_reward = np.min(reward_list)\n",
    "        #max_reward = np.max(reward_list)\n",
    "        #mean_reward = np.mean(reward_list)\n",
    "        #std_reward = np.std(reward_list) + 1e-8\n",
    "        #normalized_reward_list = (reward_list - mean_reward) / std_reward\n",
    "        #normalized_reward_list = np.clip(normalized_reward_list, -1.0, 1.0)\n",
    "        #normalized_reward_list = 2 * (reward_list - min_reward) / (max_reward - min_reward + 1e-8) - 1\n",
    "        #print(\"rewards normalized\", reward_list_to_str(normalized_reward_list))\n",
    "\n",
    "        rewards = [torch.tensor(reward, dtype=torch.float32) for reward in reward_list]\n",
    "        #rewards = [torch.tensor(reward, dtype=torch.float32) for reward in normalized_reward_list]\n",
    "        #rewards = [torch.tensor(0.0, dtype=torch.float32) for reward in reward_list]\n",
    "\n",
    "        # Convert query_tensors and response_tensors to lists of tensors\n",
    "        query_tensors_list = list(torch.unbind(query_tensors, dim=0))  # Convert tuple to list\n",
    "        response_tensors_list = list(torch.unbind(response_tensors, dim=0))  # Convert tuple to list\n",
    "\n",
    "        stats = ppo_trainer.step(query_tensors_list, response_tensors_list, rewards)\n",
    "\n"
   ]
  },
  {
   "cell_type": "code",
   "execution_count": null,
   "metadata": {
    "colab": {
     "base_uri": "https://localhost:8080/"
    },
    "executionInfo": {
     "elapsed": 1336,
     "status": "ok",
     "timestamp": 1728503909176,
     "user": {
      "displayName": "Simon Strandgaard",
      "userId": "00369037028151231486"
     },
     "user_tz": -120
    },
    "id": "EhfLMOAmhIG6",
    "outputId": "831872ab-bb09-4435-f1f7-52ef1ba9235f"
   },
   "outputs": [],
   "source": [
    "save_directory = \"mymodel\" # save in the current working directory, you can change this of course\n",
    "model.save_pretrained(save_directory)\n",
    "tokenizer.save_pretrained(save_directory)"
   ]
  },
  {
   "cell_type": "code",
   "execution_count": null,
   "metadata": {
    "colab": {
     "base_uri": "https://localhost:8080/",
     "height": 86,
     "referenced_widgets": [
      "cf222f0982b4450eb2529f296d9cc6c7",
      "a89e60bf93ec420bae920c6fb6067098",
      "f56b097afd3d419ca5bc6755128f1d60",
      "7f81c4477ab04963bd10212da24ed7dc",
      "8a329ba0387a430fb3698414590fb5bc",
      "6fcc71338ef447c3a77301113e00ddde",
      "f439e716cf604c7ba68a4693e9ed4322",
      "cc81adad47424400b0d20923ec380b4b",
      "fd4781738fb14f998439447acebb3b9c",
      "53b6c8defe604d6dadeb7d1b99d1fa60",
      "908d3d5355df484083429f0c95479e06"
     ]
    },
    "executionInfo": {
     "elapsed": 12047,
     "status": "ok",
     "timestamp": 1728503921220,
     "user": {
      "displayName": "Simon Strandgaard",
      "userId": "00369037028151231486"
     },
     "user_tz": -120
    },
    "id": "4JXgp2GFA-PQ",
    "outputId": "fdb0d3c9-f360-4da8-8d27-23cc34bee549"
   },
   "outputs": [],
   "source": [
    "from huggingface_hub import HfApi, HfFolder\n",
    "\n",
    "# Set your repository details\n",
    "model_path = save_directory\n",
    "\n",
    "# Create a repository if it doesn't exist\n",
    "api = HfApi()\n",
    "username = api.whoami()['name']\n",
    "repo_url = api.create_repo(repo_id=result_model_name, exist_ok=True, private=True)\n",
    "\n",
    "# Upload files to the repository\n",
    "from huggingface_hub import upload_folder\n",
    "upload_folder(\n",
    "    folder_path=model_path,\n",
    "    repo_id=f\"{username}/{result_model_name}\",\n",
    "    commit_message=\"Initial model upload\"\n",
    ")"
   ]
  }
 ],
 "metadata": {
  "accelerator": "GPU",
  "colab": {
   "gpuType": "T4",
   "provenance": [
    {
     "file_id": "1ptr3HdA-rTINGj1c9JQ28X-Ft_aTVrih",
     "timestamp": 1728502478257
    },
    {
     "file_id": "1r-k-wdV1ra8YxIDtHcCzZKlx3qrTd8VU",
     "timestamp": 1728500781098
    },
    {
     "file_id": "1sIi6ZRzqPCr37pBWo7RZkcFtGf9_RsCi",
     "timestamp": 1728499350461
    },
    {
     "file_id": "1ck4HMb1UQ1ciL3M3SPphRuw9JyGLdjIF",
     "timestamp": 1728497650862
    },
    {
     "file_id": "1PmhIYBwDi5AT1ciCHFXiA-hKhyAKVxX-",
     "timestamp": 1728474822630
    },
    {
     "file_id": "1KqyL82ybxFmgeVV6dDsYOwFtKffUJlEw",
     "timestamp": 1728473573147
    },
    {
     "file_id": "1mkeROiWsu-gQDpfOz_ias24oPARiOUwL",
     "timestamp": 1728471261221
    },
    {
     "file_id": "1sWmxl5txv2mAZ2Yi1E4rsnao3EOMy3Vn",
     "timestamp": 1728467733688
    },
    {
     "file_id": "1ovjfCLHux4mCEY2NAh7QAIv3XFusuDaz",
     "timestamp": 1728465187941
    },
    {
     "file_id": "1eJDl4lM4r2f3g4FTAay6uyGspu8eNnG_",
     "timestamp": 1728463959943
    },
    {
     "file_id": "1XkUU4eolTkNatx__njFi-yEE58pZPUDu",
     "timestamp": 1728462724124
    },
    {
     "file_id": "1QcBJtPLrOrQZDCLK9mypVZSCG-Rqr_aB",
     "timestamp": 1728431228306
    },
    {
     "file_id": "1KWfhn1aTWx5NH7LyM79KZnz4eYUV-umo",
     "timestamp": 1728429270858
    },
    {
     "file_id": "11TQrtgzYeNe5811QSLvjwjsFZKVF4reI",
     "timestamp": 1728427523153
    },
    {
     "file_id": "1HGBup2RgA6T2bngbQppmBIUT3NlMqBs3",
     "timestamp": 1728425843120
    },
    {
     "file_id": "173y4gndZP-ErOpH4b8CcWDuTQlcZL22F",
     "timestamp": 1728424304998
    },
    {
     "file_id": "1sthLsapRar5jTil623_plyWHn12SBWGb",
     "timestamp": 1728422575604
    },
    {
     "file_id": "1rg3nCZ5xGE49WlSAeMuX7TwgNCc5Bgtu",
     "timestamp": 1728420560620
    },
    {
     "file_id": "1cAYvV4Be2Nozr-2_txjJgjOYbQxRsGD2",
     "timestamp": 1728417499732
    },
    {
     "file_id": "1o5CwVTs2PUGjYFOkF8ylCvUexY333dg-",
     "timestamp": 1728416246342
    },
    {
     "file_id": "1_XNCZHxXnDSav2IYZyLGalwHbw03dFNk",
     "timestamp": 1728379373724
    },
    {
     "file_id": "1LMTLWFJOpPtsv27ikbeq0JQ3lFpTWt0J",
     "timestamp": 1728373549085
    },
    {
     "file_id": "1aQX1ZJQsc6d88MBrzwMpfZ8-u3Eg71kQ",
     "timestamp": 1728369676092
    },
    {
     "file_id": "14s8l0CxkgDPqSr3ONIghKo8wB9GA5IPh",
     "timestamp": 1728366300242
    },
    {
     "file_id": "1DHBTxSFOAyvdWJx-Hza855NbbdYYljPu",
     "timestamp": 1728336978349
    },
    {
     "file_id": "1bQjOW3K1sb7irJDxowVLnqFWL2z4V14w",
     "timestamp": 1728333708706
    },
    {
     "file_id": "1UNDzjiWUPU5IyN9CuH74bxT-VmgOx8Gp",
     "timestamp": 1728330317795
    },
    {
     "file_id": "1b8SwjO0VZZ4IgcuVclbD_GaRttnPtEbY",
     "timestamp": 1728328257562
    },
    {
     "file_id": "1eU2nt36_hgH0m2reJT7zcQJBdFDd1LvU",
     "timestamp": 1728326584601
    },
    {
     "file_id": "1n3ftJw0AyPi8UkEWIrx5KA-RR2_I5fxc",
     "timestamp": 1728324736797
    },
    {
     "file_id": "1NMHYRaTVDA6DvJhVAVCAfr-tdV3zkrhR",
     "timestamp": 1728322885527
    },
    {
     "file_id": "1kw2NPrB18vDpm8DQBshJJmWgUQpyIohN",
     "timestamp": 1728320876958
    },
    {
     "file_id": "19CRPAHyLqfa60Z5g_mdA7iUUVHeyjToA",
     "timestamp": 1728318761974
    },
    {
     "file_id": "1S6iouDcnnooOKLImuFUEOHBbT-DSsC_W",
     "timestamp": 1728315759254
    },
    {
     "file_id": "158fOQ9TdfmGtIwEd4kIuBPUT2wGyF9xD",
     "timestamp": 1728313960712
    },
    {
     "file_id": "1TojB9wtze1WTAmZT5_ntC0mAjmFOgag_",
     "timestamp": 1728311529909
    },
    {
     "file_id": "1XhC0kyR1JH7ENxVpfIGtlDKeH7P1AQsL",
     "timestamp": 1728309658816
    },
    {
     "file_id": "1HRI4-bauf_nF_B_EzIZKevLSoYEAquqN",
     "timestamp": 1728307218994
    },
    {
     "file_id": "1H2HrC9T3voo7T6Vg8Tb_kAaZ5TQG1rS2",
     "timestamp": 1728304899832
    },
    {
     "file_id": "10GOM1SKiUZWKQG9wbMTfl4q9juXdJZk5",
     "timestamp": 1728302451725
    },
    {
     "file_id": "1E0IZ6keeIBICo97SdRxSBGpWbXLFx2xk",
     "timestamp": 1728300571753
    },
    {
     "file_id": "1ZbgErZC-rpVhT78A4Pih6VWxVWy__iJb",
     "timestamp": 1728298902196
    },
    {
     "file_id": "17U3kkjNJlemuRIJbayTL5zNAIwGLlfYK",
     "timestamp": 1728296719983
    },
    {
     "file_id": "1e8hCCL4RbEBSX6ZNUoYnT1IEOF-ltJrc",
     "timestamp": 1728295038893
    },
    {
     "file_id": "1pLn3VmC3y5Pa-VpsHIsjjfVuiLBRk-37",
     "timestamp": 1728292477185
    },
    {
     "file_id": "1tgXIzTLBddu0dYZqHJWAsLxW6v078_GD",
     "timestamp": 1728255912555
    },
    {
     "file_id": "1xB7_wfwBvwF0AU0OSegDQmNWFD3LDuWN",
     "timestamp": 1728254166042
    },
    {
     "file_id": "1GId_XJrb4J6OnCScpTMDA6FyEzq3hNUo",
     "timestamp": 1728252018871
    },
    {
     "file_id": "1dmSAcz9WzjBkeLlEt59usXiZ2gmX3bnb",
     "timestamp": 1728249133724
    },
    {
     "file_id": "1B1rcBrNPC9oTIiGqrDlkN77_RhVOJSWc",
     "timestamp": 1728244509067
    },
    {
     "file_id": "1olxV-7TiwrAgOeShLF97nbNt3ljL49am",
     "timestamp": 1728240984452
    },
    {
     "file_id": "1ClXmN59YLCL6h-nsrn_2z2-axnnaDmrb",
     "timestamp": 1728237413162
    },
    {
     "file_id": "1IcYWeHWEsJAO9w7LpenmUsk6GpdxQXy9",
     "timestamp": 1728234123012
    },
    {
     "file_id": "1POOU5tnWpaX6fyP3rXb4rYkS2pd65CqA",
     "timestamp": 1728231434131
    },
    {
     "file_id": "1CAOXYsSBNc_Wzar1yrCjfade7u95LOH0",
     "timestamp": 1728228374686
    },
    {
     "file_id": "1nxEYzsh9v7LImCI0ygCvP9hIB5xjrmxI",
     "timestamp": 1728225619905
    },
    {
     "file_id": "11kM7qEOIFvumWAJk_upnINav5XOWApQI",
     "timestamp": 1728222976022
    },
    {
     "file_id": "1K7lrCnKiDV7WkNvusFC2pG84W3KumbkO",
     "timestamp": 1728219428972
    },
    {
     "file_id": "12njrs1MG6AWOEKlZODUb7dOLwgyn_hZK",
     "timestamp": 1728216653318
    },
    {
     "file_id": "1dPvTdpxZQJf-ofNY2GNzbt_XbzlEOJl-",
     "timestamp": 1728213320683
    },
    {
     "file_id": "1BIzAtLLJtp7Xdd9vQynNPLXXEgDHmDSk",
     "timestamp": 1728210040402
    },
    {
     "file_id": "1ZIcXo4T1HwBOrCy9LebXxGoGQI37tUfJ",
     "timestamp": 1728207182250
    },
    {
     "file_id": "16lH4o7j8Dyt4oum6rgyu_5qETTVgHHJe",
     "timestamp": 1728165278430
    },
    {
     "file_id": "1_JnGuiBKgHxuKog7X6jivBpszU6107LA",
     "timestamp": 1728162038266
    },
    {
     "file_id": "1nRkNhzOrwaCJKRAJuMLkiZhG-Vy8Cz73",
     "timestamp": 1728159934390
    },
    {
     "file_id": "1tz2VaFoz1zphUghHan_o8pXttU5GHag0",
     "timestamp": 1728157796666
    },
    {
     "file_id": "10fnydWmdMBE-B6gXZ1JZl3vYDJXt7isc",
     "timestamp": 1728155516298
    },
    {
     "file_id": "1EJhKhKURLLx59M99JUwXSR7NfAkLgagA",
     "timestamp": 1728151673636
    },
    {
     "file_id": "12353-iFgKv-35bqw2gR446Ac_zAT4LJI",
     "timestamp": 1728149363189
    },
    {
     "file_id": "1ZST2Lv_0uwBG8NKtwnEbY2YThp5ydqmG",
     "timestamp": 1728146386461
    },
    {
     "file_id": "1qB_68Uu-ur63IcFPQ8o63vbhl0V__pZt",
     "timestamp": 1728144543406
    },
    {
     "file_id": "1D0yHVClK7HBIbDAI68A9XoWowb06OFm9",
     "timestamp": 1728142602078
    },
    {
     "file_id": "1S5puEKKoMxlg9aK5CpfNDxJsWsYmAHXA",
     "timestamp": 1728139184054
    },
    {
     "file_id": "1AWlzCLQkY2elsjLL9bovCerHfHqxHS2B",
     "timestamp": 1728136920166
    },
    {
     "file_id": "15_taxNCW313WlKUBth9YfQl69wdQowFg",
     "timestamp": 1728134265689
    },
    {
     "file_id": "1mvX1rWzNYtwH5LmElS2HsiqR4fyPPlIQ",
     "timestamp": 1728130397240
    },
    {
     "file_id": "162MKt3pHxQoebziYaqwDoYbtMhfl8Ioc",
     "timestamp": 1728128287743
    },
    {
     "file_id": "1NvQQvwMUgNQZa1jnJ9eW45bOpdO9n-Ig",
     "timestamp": 1728125464896
    },
    {
     "file_id": "1PmSHf3Zjl39j5bJgb6_Jztudz5HXyr-3",
     "timestamp": 1728123930904
    },
    {
     "file_id": "1NjOjDoEhkiNbIiwN7MYKDh2SxnolCavU",
     "timestamp": 1728122259082
    },
    {
     "file_id": "1Ux7lt_2PADe1eiW2VB30PBrsNeezvY9Q",
     "timestamp": 1728120400134
    },
    {
     "file_id": "1J1UXSpus6MHqu_JCjcy2_H8zN6mBMgxn",
     "timestamp": 1728118596167
    },
    {
     "file_id": "1cvbzUtqTKM5wtesXv2n_e_QaXOt74yrU",
     "timestamp": 1728081828955
    },
    {
     "file_id": "1uF9h9wDGhUkQZaKk-ZziVALc6kmNYb6f",
     "timestamp": 1728078824055
    },
    {
     "file_id": "1a2c0KVxITXhX5tQ5zenU-vfp6gV3NINf",
     "timestamp": 1728076172280
    },
    {
     "file_id": "16e4s_55NlbTD9w0rsfvKtmyndMnYgLOw",
     "timestamp": 1728073303243
    },
    {
     "file_id": "1AwBJOEP1BSoLXFLWhCaQRi6uniKE4Ac3",
     "timestamp": 1728070846445
    },
    {
     "file_id": "1bHLvXL2O6xEYfSBO1hUcBBxfR5U6QhZX",
     "timestamp": 1728068510361
    },
    {
     "file_id": "192pOydCJjRdI_ODOFxj4ZrO-MmKw8G-3",
     "timestamp": 1728065803560
    },
    {
     "file_id": "1PSC0CGLaa2BDAULTehd9SO8I3dG6V4LW",
     "timestamp": 1728063207932
    },
    {
     "file_id": "1kUAk8jfh7fP9sb-pWW2xTpthgyRswmul",
     "timestamp": 1728060704693
    },
    {
     "file_id": "1jjSmYDQpcFv6rftWx3Do_HkMEwTqypfg",
     "timestamp": 1728058388658
    },
    {
     "file_id": "1_0szuzJtGUFN6DOzWVZ4qY5hZ9EWwJoB",
     "timestamp": 1728056192938
    },
    {
     "file_id": "1ysGa3Z0MvzE1mLNXZ04vC8EtTGODbBpO",
     "timestamp": 1728053737070
    },
    {
     "file_id": "109fjy_UnBCYK-2O9NL2szy8o26uMNaJx",
     "timestamp": 1728051420927
    },
    {
     "file_id": "1ONgG8CBE0OJDNDiWFS84s8mylPeErdPE",
     "timestamp": 1728048875289
    },
    {
     "file_id": "13tIqflRI4bK9LP-Oc5K6NnTAw-9v1tdi",
     "timestamp": 1728047311798
    },
    {
     "file_id": "1X3-NsINtPnevyLLOA0oV7_C0vWXb_gQJ",
     "timestamp": 1728045992138
    },
    {
     "file_id": "1uxlSm62N8I8IM6gSWUC1kDUlM3l89qd5",
     "timestamp": 1728044152365
    },
    {
     "file_id": "1Z-46mmznS724Pn_YGCpOlfkRnaJUwj3n",
     "timestamp": 1728042367038
    },
    {
     "file_id": "1IaJQOuh1_opcl2It-BCImVzqIKaGLkSl",
     "timestamp": 1728037215315
    },
    {
     "file_id": "1-jcxpCDYueGHZbgPpqXeGDQB6JyyNGwj",
     "timestamp": 1728034700491
    },
    {
     "file_id": "15xWpgyjPUkJqlN_KJodR2iQdnyfWNmew",
     "timestamp": 1728032221594
    },
    {
     "file_id": "15goHsMFOh4dsQ6zo5Dmi0_TD-Mu1tPn9",
     "timestamp": 1727996766055
    },
    {
     "file_id": "1cnHpg2YyDd6-Ow9po0DKUvwoqP64kcHX",
     "timestamp": 1727993005345
    },
    {
     "file_id": "1QBZsnSk6SqtEhOKUECq90Ot-48AniYmP",
     "timestamp": 1727985033815
    },
    {
     "file_id": "1mnHmgR1f-JCNxQNbCsXTM_U81RYSlx87",
     "timestamp": 1727864837148
    },
    {
     "file_id": "1YsP7vR1KF_6D6xfgRM2fuBO0gPfL0FMN",
     "timestamp": 1727826122571
    },
    {
     "file_id": "17N7PPY1XG3ecQeR6rZNQpGeS9FcuQjz_",
     "timestamp": 1727822887131
    },
    {
     "file_id": "1dgea5BNqPC2b1GFJ1bviIoABE3Fv4F-f",
     "timestamp": 1727818021145
    },
    {
     "file_id": "1KlDUc0zwrLvkcMlAjtFue3BfUn2hXgph",
     "timestamp": 1726861989699
    },
    {
     "file_id": "1sjPU0LQitkYnoWfPTXqZkEcw-hfgmKs6",
     "timestamp": 1726266972037
    },
    {
     "file_id": "1oeT06Yg-lqNhGzx58dc7WeTyI-BzVGTa",
     "timestamp": 1726260500372
    },
    {
     "file_id": "10mssG9gVFrQVrnYfBQxLMUp7V_7UjsbU",
     "timestamp": 1726250817962
    },
    {
     "file_id": "1h3yrhXY2as8H29CxvltDyAwv3j7q9xVB",
     "timestamp": 1726241548277
    },
    {
     "file_id": "1jiIU9wFIwAo4BpGOyxh3ITO7kpDRGAGT",
     "timestamp": 1726231320629
    },
    {
     "file_id": "19r5FK7SEIAMGplpZ0WUuwfkfB9Wm1_WH",
     "timestamp": 1726173555841
    },
    {
     "file_id": "1l2A5ZjFCtKZNBjTLuKFg4WfFBH4i3pRU",
     "timestamp": 1726168482316
    },
    {
     "file_id": "1Mje2USvdj0xZGQXNoYsz0Jn8qHxxGjXz",
     "timestamp": 1726159461421
    },
    {
     "file_id": "1WC9tnAcIuBHuUrtBASKOJ5C4A_s4MsCD",
     "timestamp": 1726151252283
    },
    {
     "file_id": "1A4U8IpbFtzQj16qDW954HEtT0rXyVbqf",
     "timestamp": 1726145081748
    },
    {
     "file_id": "1BEreR4KtqKl7JOHUmUV3m2KagaZsbyZJ",
     "timestamp": 1726141909150
    },
    {
     "file_id": "12ll3svtsqMFyCl3XBQ3Nvo9OQucwCXyi",
     "timestamp": 1726139935629
    },
    {
     "file_id": "1l5jtp48tl9DHEwXLrC5DlsaIzBB8iZWy",
     "timestamp": 1726137567603
    },
    {
     "file_id": "1ZHay3BZAtCgXkU0kBYZa36BpYAofCexe",
     "timestamp": 1726135805867
    },
    {
     "file_id": "1_l6A3dziFUrDjdw6k5czgKEZhF2YHa8M",
     "timestamp": 1726130537116
    },
    {
     "file_id": "1wt4jSkiptBjdZcEkZlMARoTW1n792tW6",
     "timestamp": 1726091648104
    },
    {
     "file_id": "1tn-ZxBFyzzfCMJ11HdSMGBfMos1vmX50",
     "timestamp": 1726088152275
    },
    {
     "file_id": "1Q_P-jHQnXr034ummb7LQgUUNTis2laFY",
     "timestamp": 1726081886932
    },
    {
     "file_id": "1zHMHSBiT0PPSv6FUf0pgPJcwfBXt4zJq",
     "timestamp": 1726076135962
    },
    {
     "file_id": "189pVn30kQf4KuQlJ1VGSLueCjDc9fhRr",
     "timestamp": 1726069386044
    },
    {
     "file_id": "14oEvyfz7U3tkxNjWbzA2rSMeadl4tJ9n",
     "timestamp": 1726064705531
    },
    {
     "file_id": "1_n92nSTBt-86n-cbu74HbO_blyp4V8Wi",
     "timestamp": 1726058320866
    },
    {
     "file_id": "1eKPM-7VrKNcNEGjQgQd-OxUnSMSwStoI",
     "timestamp": 1726055960511
    },
    {
     "file_id": "1295zdaqcrlvmjf9F4Y-XSw_i-_Ou55tK",
     "timestamp": 1726053933629
    },
    {
     "file_id": "16_DF2TkWQKXYFGNxbLv1i7gqK3VENYM9",
     "timestamp": 1726051743432
    },
    {
     "file_id": "14TCJUI6U6KqnC0bqaZy-L6HUha7UkF5P",
     "timestamp": 1726050055976
    },
    {
     "file_id": "1ZZQuDXBaPLiMyWnnLD7xY81RyJlrSMoe",
     "timestamp": 1726045311049
    },
    {
     "file_id": "1lwfx1AtTh_6pBv9TQ3iU2MM3gxAXUdYP",
     "timestamp": 1726043815333
    },
    {
     "file_id": "1WdMxikopZmhFKw35ff19PEUASKPjuiJK",
     "timestamp": 1726041560552
    },
    {
     "file_id": "10aLjYuGbhgaD3sWDcHLD2sQSWr6_-bWp",
     "timestamp": 1726040452093
    },
    {
     "file_id": "1U-zKO4gIav3-O2TUOdP_a-WYAVs1a2iR",
     "timestamp": 1726038465319
    },
    {
     "file_id": "10_scemrA9JV12yECMInOkhA52Rq_XIw4",
     "timestamp": 1726009394432
    },
    {
     "file_id": "1YkOlH6UMJJ3liuTY0rwYYaoX8SE-joVD",
     "timestamp": 1726007594692
    },
    {
     "file_id": "1nulJx7fHv_dnaJvz60TLRy9WfCKiwgIb",
     "timestamp": 1726005416098
    },
    {
     "file_id": "1ONxd2QR7Q6heP95va58eMRHp78W_ABY-",
     "timestamp": 1725981378774
    },
    {
     "file_id": "1-Bz_TFEDfcPBKAJCDEsr49MoTIokotAz",
     "timestamp": 1725977517892
    },
    {
     "file_id": "1hwYaFfdKrUc69jMJnFKF416Qm1n9CQa9",
     "timestamp": 1725973931080
    },
    {
     "file_id": "1IcuE2R_PpvQ-5gj9qbd1t8bV2v9uaEaR",
     "timestamp": 1725971386344
    },
    {
     "file_id": "1SMveRKNx94BcF8pF4J2LLer8XIfX-4to",
     "timestamp": 1725969884345
    },
    {
     "file_id": "1jCHbkJjqK3_L1Qi4gZ7i8N8EycUJZqzX",
     "timestamp": 1725963635429
    },
    {
     "file_id": "1o_g-Q4WgJZBU_pAqY0gJ7b-_m7t4MK73",
     "timestamp": 1725953856832
    },
    {
     "file_id": "1DQJG_uE0BHwJFPwGWBql7eqbfX4UmqjA",
     "timestamp": 1725919206030
    },
    {
     "file_id": "12uaNuJyXD-YEWhhFKaAy-5gb8g2ZTCv3",
     "timestamp": 1725917700895
    },
    {
     "file_id": "1hAjkpdiEcvVFhV2P64fXlhZVrrsfV5Co",
     "timestamp": 1725915471236
    },
    {
     "file_id": "1eMbTPvVGmeoqr3jqfdSgTd7M1wuqmYp-",
     "timestamp": 1725913541412
    },
    {
     "file_id": "1Wh0-MuMQ_IfBPvKSZ5JV2dJc5l5pd6sq",
     "timestamp": 1725911639439
    },
    {
     "file_id": "1lWg1NW2rTA3d7A6xvP7umqas3qeETw11",
     "timestamp": 1725906696934
    },
    {
     "file_id": "1u8rbhDBDVN2sHENGhxhfliDDE_HHJMow",
     "timestamp": 1725902162512
    },
    {
     "file_id": "1zOfXXwo0e3f2Nk7mfI0DbszLloZjpe0Y",
     "timestamp": 1725895824206
    },
    {
     "file_id": "1UeoCY8O2E6Lg1UcPK45LUzJ5zzgVUZ_7",
     "timestamp": 1725888873303
    },
    {
     "file_id": "1CZOvHIe2wlrje1qc65P9TbiJtb4IIVrd",
     "timestamp": 1725886436415
    },
    {
     "file_id": "1G6LQW3nAlRa78yQ_ud9umHR2UOVTKRIN",
     "timestamp": 1725883995467
    },
    {
     "file_id": "1kF7k4kKduMFocrx-Bgukiza2_FYdHyKz",
     "timestamp": 1725882323115
    },
    {
     "file_id": "1QQlwbS_yQIHZiLOXnNQ0iDkYRKDBhMja",
     "timestamp": 1725880229288
    },
    {
     "file_id": "1nng7NhzKJgXafdW0a6SKG9q6TvzZUcbT",
     "timestamp": 1725872155618
    },
    {
     "file_id": "1Vbzfqj5YfqrNi1wxQWVO03asb1woGJ8s",
     "timestamp": 1725832146123
    },
    {
     "file_id": "1T-8JwmwPRMVy4-itCJcT6or8zz6H1k6c",
     "timestamp": 1725827433046
    },
    {
     "file_id": "1UC0ElLcY5NCnOViJhER7vhk7bU-t9Nsy",
     "timestamp": 1725806292889
    },
    {
     "file_id": "1TSOv3PotahlAAJOPVulnLSFmzWhxPJMb",
     "timestamp": 1725803937494
    },
    {
     "file_id": "1uF3PvbiaU32CADZE4fNcYSYj8MLwYL71",
     "timestamp": 1725800444625
    },
    {
     "file_id": "1sSY9ea7ZReF9tss9wqzpT_vc_8cP5r1z",
     "timestamp": 1725796131284
    },
    {
     "file_id": "1u8aU7e3DAqO13dr_NuIxMfpO6zTZ6ZK3",
     "timestamp": 1725792052173
    },
    {
     "file_id": "1BVSST5uHtMh2nxXGSgKky6QMAtj4pn71",
     "timestamp": 1725785836569
    },
    {
     "file_id": "1TnZ2EujuXi7FNN0oW_7A-1LgADz6BWvJ",
     "timestamp": 1725739244713
    },
    {
     "file_id": "1WfSZgOmwm6UfxRu7TquEOnpgL3XX_2u8",
     "timestamp": 1725735227389
    },
    {
     "file_id": "1ZlhAUcX3mNlPVHf26ol8lFsE6MD-Hi5G",
     "timestamp": 1725721171680
    },
    {
     "file_id": "1h0kh9cBK-G3o0qd22eoMkV5z--4S6QPv",
     "timestamp": 1725715933070
    },
    {
     "file_id": "1eBD_vQSYNoo7j_1HxhDx-kgn1DSZ6464",
     "timestamp": 1725710030284
    },
    {
     "file_id": "1XdCSvZ2s0Egxh99vRT_d07cqgvU-EdwQ",
     "timestamp": 1725704693392
    },
    {
     "file_id": "17yM5hbmeJ1hWCmnAbT09Bz_SU8VCoM4G",
     "timestamp": 1725702780370
    },
    {
     "file_id": "12EFaKpPLixOf9mfAdO_aHf3oUWoMBnES",
     "timestamp": 1725700636165
    },
    {
     "file_id": "1JFLGBbTY2KIQpSiaKNSYMdDyro9ut8Qk",
     "timestamp": 1725698998345
    },
    {
     "file_id": "12Ze_sTI1uZl-evAOx7hxm3Hy9lLhLVYH",
     "timestamp": 1725696804788
    },
    {
     "file_id": "1HjPfFyJDGOcreJC-u8gsRq_5r5uvj4qB",
     "timestamp": 1725663859530
    },
    {
     "file_id": "1ZkMZCgOQ5oRh2QFoqIohkRrlG8INbNBu",
     "timestamp": 1725654697629
    },
    {
     "file_id": "1zO1do-lC-hQZbteXw8cs_sqHlpZlKlYO",
     "timestamp": 1725651636303
    },
    {
     "file_id": "19qtm2prpI859ITSYj5w7qF121VNN5tBU",
     "timestamp": 1725642116424
    },
    {
     "file_id": "128qVy7-SexnbynIKvHzP1PoUSytYuNJ1",
     "timestamp": 1725634028617
    },
    {
     "file_id": "1HvAK1wueqSHcuH_PFUg9PmGRB_oj7nIO",
     "timestamp": 1725626681660
    },
    {
     "file_id": "17rgM5wNFw1siYiLBk0i-9k8JTuM58Z5C",
     "timestamp": 1725622006750
    },
    {
     "file_id": "1v0TO3KtbMKzu1gJpXS-o-zSyX1nd1qGL",
     "timestamp": 1725612594590
    },
    {
     "file_id": "1wHq3xPa5qJqGyfpaLTCgxlzfHmIkEmht",
     "timestamp": 1725578159568
    },
    {
     "file_id": "1nw_ZcGmFsGrIO2VYNsn0pmtka0NHNo89",
     "timestamp": 1725576543546
    },
    {
     "file_id": "1bqwltafiYxLL6hqKv5x-ntWuqItUCBoz",
     "timestamp": 1725570404578
    },
    {
     "file_id": "1PZWOK9fXYsaUqMa_tY44urNIzOX_8DbS",
     "timestamp": 1725560501461
    },
    {
     "file_id": "1WBnRa5k2GRzSoDpLiX9SbinxiH5BKJud",
     "timestamp": 1725557722600
    },
    {
     "file_id": "1gQOV_2IdI8w64afRlYZfhiYri8xBgk_Y",
     "timestamp": 1725546114183
    },
    {
     "file_id": "1Gc-otsVDKqvtAJb7XGFf9IfQ2M531yaV",
     "timestamp": 1725538458664
    },
    {
     "file_id": "1TUeyrGJcjCtVfd0wY1hfKVTEJ3NL9Omh",
     "timestamp": 1725531230011
    },
    {
     "file_id": "1HSm0-sNSYwov76cVp2rYBpk7vIudYl1b",
     "timestamp": 1725526036913
    },
    {
     "file_id": "1uMCmoZ-7R5KjLIoeb9-0VqiU24b0R6Ep",
     "timestamp": 1725489026252
    },
    {
     "file_id": "1mh6azGu8KqzlhD6NsgZ3hrsIb9xDwbFv",
     "timestamp": 1725485229562
    },
    {
     "file_id": "1dNg6wDZH4vuDXUZWhEXh2exxEkkVD9ZJ",
     "timestamp": 1725473942814
    },
    {
     "file_id": "1iLTYjeKfRdWRhklIUr_rmSpurrMDakTM",
     "timestamp": 1725468230111
    },
    {
     "file_id": "1C22siYbqkLcvrn9dkoj9CPp5psQMsBjA",
     "timestamp": 1725462961105
    },
    {
     "file_id": "1t11LnABeui8LelM1akVtiLfPcqX9_3DC",
     "timestamp": 1725460409301
    },
    {
     "file_id": "1_kW0zZNQ9N2d-h8X1B3KkXgroxJnRMzf",
     "timestamp": 1725454292211
    },
    {
     "file_id": "1lEAZ_e9vkLBoB2vR0xIsUukWMTeadd8e",
     "timestamp": 1725448985277
    },
    {
     "file_id": "1RBrgAJeZ6CL6t_TrLkfmv16DmzFiRCpS",
     "timestamp": 1725438599219
    },
    {
     "file_id": "1aBsbTZJdtH0X-iAAOJLzbtXC06p-9sHy",
     "timestamp": 1725400171200
    },
    {
     "file_id": "1ogc-wPpBrLXTXJKODVhEC3wBtKl20gnr",
     "timestamp": 1725397629794
    },
    {
     "file_id": "1mjwyJ5gUuSwV5qzqU_Jq0_ls9UHev2YT",
     "timestamp": 1725385088033
    },
    {
     "file_id": "1ubcmOwAkKswFqNYIu_uv3jxO-QuY5z4X",
     "timestamp": 1725376602704
    },
    {
     "file_id": "1AgWywMvjRhIfv-bhtXGYnHwZ9p4KuHk6",
     "timestamp": 1725370168112
    },
    {
     "file_id": "1mqd17v3IQInT5WcMQL_yCtm-tRvA20En",
     "timestamp": 1725366044584
    },
    {
     "file_id": "1Ca_Nr4t0aInZ2TjN6FcE9b7SVcucjjmt",
     "timestamp": 1725349201424
    },
    {
     "file_id": "1BidwXzdkPPXgHTSXv8q1Eyn1aEPyK5qB",
     "timestamp": 1725312515397
    },
    {
     "file_id": "1L4885onJ0tZT3dKWvE92lDG3NFGjUT4x",
     "timestamp": 1725306666741
    },
    {
     "file_id": "1UDPmZMzIrLkbEOI0JRyoKKBqi2rYhqxL",
     "timestamp": 1725305167199
    },
    {
     "file_id": "1hukIisGaXxg02tsiaDjXSe32z1aNSesM",
     "timestamp": 1725303699034
    },
    {
     "file_id": "1DM45xARRhSHBwDIDR81trgIw2aITJ4WQ",
     "timestamp": 1725286333427
    },
    {
     "file_id": "1v0GZpcTV_XoYfcL9hBokeCXRVIWGXX4E",
     "timestamp": 1725282034332
    },
    {
     "file_id": "1Q2eb8Io3YDjDVDbyqi8zeYPvfj4jWWr1",
     "timestamp": 1725272669720
    },
    {
     "file_id": "1TeBdUlRWtG4SeY6DK6V0iLrAQ8F7328h",
     "timestamp": 1725269751907
    },
    {
     "file_id": "1ZS6235Hda8RPwsf6uiSc0Nk6uLA4CWW_",
     "timestamp": 1725265803076
    },
    {
     "file_id": "1sPgY40GaWNRauZr9-Qd2kjl_BkbaMObY",
     "timestamp": 1725259032840
    },
    {
     "file_id": "1nQdKc-HBNUy2--fCYmKiSdpwvoe5JlIu",
     "timestamp": 1725225695889
    },
    {
     "file_id": "1Z5az7r3JmRRKnBgJl1o11k9trdXrAOZE",
     "timestamp": 1725221362564
    },
    {
     "file_id": "15g6nu9up4-OzYM1XsI7LuVHxcWI8Odau",
     "timestamp": 1725217051020
    },
    {
     "file_id": "1ruEekP0n1aCp5-ls_mucjRURFr7myqV8",
     "timestamp": 1725207342475
    },
    {
     "file_id": "1MTJALWTghbppB3bCuJh1pfv12M6XlB9J",
     "timestamp": 1725198430717
    },
    {
     "file_id": "1GSxAplWKhYoDWQ_X-AC8PPh3bSVYOjyo",
     "timestamp": 1725189103424
    },
    {
     "file_id": "1AsC73od7jaUussi7myP3GLw7-rOV1d-r",
     "timestamp": 1725181009919
    },
    {
     "file_id": "1xdFopMzBTpRZ1KgCGorB16iKW6WK47LC",
     "timestamp": 1725140514544
    },
    {
     "file_id": "1gVTkxuKracDsJnB4NMwEBQc_AW6CQFJY",
     "timestamp": 1725138517233
    },
    {
     "file_id": "1j1KscMTiYRWM-dn-AZmFZPBLlT8hKrpv",
     "timestamp": 1725136307556
    },
    {
     "file_id": "19DO-wbCXtTe1LmRPi_FKwiiBZAjM0EJD",
     "timestamp": 1725132946735
    },
    {
     "file_id": "1UK4cS8jMF-1dhTOZWqgWoKarOvjkoMy7",
     "timestamp": 1725130997654
    },
    {
     "file_id": "1d5y4nLoq7TqU05uL22ACltRJndwmTlTt",
     "timestamp": 1725128350882
    },
    {
     "file_id": "1AW3ozEqcfi5E6NHMCNcqCyORZBmNfZLf",
     "timestamp": 1725125706010
    },
    {
     "file_id": "1oScRsOYfpeds7G3Y3B1-vtE16t5XdNU5",
     "timestamp": 1725121668455
    },
    {
     "file_id": "1vAZMAM-McJZmSS7SXRZqfPlbOHe82SFY",
     "timestamp": 1725118256237
    },
    {
     "file_id": "1KkzoOwbYXAC5gt3l9FTYoLQUpcsF8pjk",
     "timestamp": 1725113865919
    },
    {
     "file_id": "1SS0CrlHJXdWkF9xPvJ_9PNqzPTYwokRD",
     "timestamp": 1725110216624
    },
    {
     "file_id": "1VQbtO1ZG2YtLSLS4Ue9YnVKGCGN2Fu_7",
     "timestamp": 1725105337355
    },
    {
     "file_id": "1wRp_bsTPjoRhirEifKQHZZ5kmX9G96QR",
     "timestamp": 1725102403056
    },
    {
     "file_id": "14R3CedFhGHpt65fkOMvzQ6vvbaE4zwWz",
     "timestamp": 1725100707310
    },
    {
     "file_id": "1OBoXOtFVlKYnD1ZnYukQNTrslQWOv7Ud",
     "timestamp": 1725096478771
    },
    {
     "file_id": "1Jj3AmkyVcPcLTJUBz5mL44zGTgU3gFEc",
     "timestamp": 1725093073306
    },
    {
     "file_id": "1lJ7Q967gUtx12fhCbxD6sIdC00CQzAe5",
     "timestamp": 1725091261368
    },
    {
     "file_id": "1yx15Hd8W8f6rKND9iTAAlDEWHCjcpI7U",
     "timestamp": 1725087186898
    },
    {
     "file_id": "1hTknR1LOOz3Vp2rAYcTTm9IXHRUYNOel",
     "timestamp": 1725055044523
    },
    {
     "file_id": "1r0UVGtDzsoVoV_HRkNmpZvxOlTliTXcQ",
     "timestamp": 1725051964791
    },
    {
     "file_id": "1y9t8qkVMlo3NwCeCHEq7yaFZ4BgbqVb7",
     "timestamp": 1725049015514
    },
    {
     "file_id": "1Y5O0FRW7zC5BpsUAfpTPGMVjKicaIByW",
     "timestamp": 1725047181093
    },
    {
     "file_id": "12eqVDvAuKrmRq83rCQAKEbCNKD3gRyPq",
     "timestamp": 1725045596239
    },
    {
     "file_id": "1oOGhhEasrioHjHixUyaa7epYxdOSJiRi",
     "timestamp": 1725043829564
    },
    {
     "file_id": "1GimixkYp08DFdBGRsG05UmS_4gUvTgwq",
     "timestamp": 1725041142236
    },
    {
     "file_id": "1_7SkHz8KFQMQg14sJwWUPOBv1J-Ltdx4",
     "timestamp": 1725031993097
    },
    {
     "file_id": "1ujBh70jSU00WR8nSzEQ8nPnBeOEYhfYQ",
     "timestamp": 1725027066563
    },
    {
     "file_id": "1_UWI1mPdlqSq7GfBY0kHeB_OamBdGMUv",
     "timestamp": 1725024618278
    },
    {
     "file_id": "1-h6M23xEsacA7tQuOH8esSzOLHusfDST",
     "timestamp": 1725022069799
    },
    {
     "file_id": "1GgGXiRIaf-BA-9b6vywiyv_gB5zcbaDK",
     "timestamp": 1725019241266
    },
    {
     "file_id": "1y8PSb46U7l6cGE4-ssC13q2f7weEnJ97",
     "timestamp": 1725014995027
    },
    {
     "file_id": "1OpA1nza4fHTegrdU71HXWOCvYF6v6y4N",
     "timestamp": 1725010476517
    },
    {
     "file_id": "10YMckhjom2-7R5ju-0ZTMM0yzfz1vMxt",
     "timestamp": 1725006654476
    },
    {
     "file_id": "1_Hz1p9NmR1bQ0MTm7qtQkY63ZIk7sswx",
     "timestamp": 1724968835627
    },
    {
     "file_id": "1CJH08WuWb4EcglkRkpTN7B-tOPSEgm_K",
     "timestamp": 1724962474903
    },
    {
     "file_id": "1o28jlCoUrwOAmJWjlDYyREDaMqeuD6Jw",
     "timestamp": 1724953928572
    },
    {
     "file_id": "1smuYUyUMghidvrbaCdXkEMZqjElrgVy0",
     "timestamp": 1724947058655
    },
    {
     "file_id": "1B-vz_NgikUHw30wX88eK6NPQWOdGUTG-",
     "timestamp": 1724938203438
    },
    {
     "file_id": "1FSeOt8aiJfuEK1Dspd4EbUnZFYCm5Y7c",
     "timestamp": 1724929339684
    },
    {
     "file_id": "1gDtMEYC3t8fipuhdh2QreuTyvpMbcydI",
     "timestamp": 1724922355634
    },
    {
     "file_id": "1TFYXyfHtlXxY0OmdcYWX4kjdJwSPYJEQ",
     "timestamp": 1724910594264
    },
    {
     "file_id": "13SCXOQa9UTRO0IAkJLfWh_c6rxadj1kE",
     "timestamp": 1724880770953
    },
    {
     "file_id": "17sSgtWrR66_mfXZXoxXaHfveE_-6itBB",
     "timestamp": 1724877054113
    },
    {
     "file_id": "1Vgm6KXHRNjtzuevD3M8DiA95RrjWO8GS",
     "timestamp": 1724872796985
    },
    {
     "file_id": "1mo1Td24TVmeKerZn0Oh0ErBvrtSPcns0",
     "timestamp": 1724865562262
    },
    {
     "file_id": "16BaO4WvE9MFzk-CW6vREN-gq8BAwbfXz",
     "timestamp": 1724843591733
    },
    {
     "file_id": "1FJ3ttV-L17_CWcLu3pIjjk1MbBAptNxH",
     "timestamp": 1724835896998
    },
    {
     "file_id": "1hffbEXd6kIoeb3co7ycCan_km4A5MMP6",
     "timestamp": 1724829843755
    },
    {
     "file_id": "1h_6wxN0tdnE6T2iF5eXCQDRLBdhJbiBQ",
     "timestamp": 1724825235970
    },
    {
     "file_id": "1JAHfx9VYTCefLKS-divTOVFG8dsqydpr",
     "timestamp": 1724820481951
    },
    {
     "file_id": "1G7o1UI1hp99V2R8QZYTroDE-Iq5bP07D",
     "timestamp": 1724789884808
    },
    {
     "file_id": "1CaUliU7fmYu6mhLktpdQVc859YOtQI_X",
     "timestamp": 1724787763412
    },
    {
     "file_id": "1ddU-9bZdgdV4ofT5SwsiWSJu4tVmH-OK",
     "timestamp": 1724784120712
    },
    {
     "file_id": "12caaiRIKOdo8IhOGvcfvyPuXIQP3tFbk",
     "timestamp": 1724772516592
    },
    {
     "file_id": "1Qrwas9mFC2KvDhiw6N5xOoKwe1JCGASx",
     "timestamp": 1724762976074
    },
    {
     "file_id": "1WnVsDuraqbbC249zCo82SuSeRrfOpOPO",
     "timestamp": 1724760821678
    },
    {
     "file_id": "17E2eUyn1HajWx8vpY-P9Z7CLQFOuXBjj",
     "timestamp": 1724758601487
    },
    {
     "file_id": "1scM0GUwutCjOSeSWTxQIMFSpnQscVRl1",
     "timestamp": 1724753614466
    },
    {
     "file_id": "1X_dh762CfCFnyyWS7U27qFxO33qvW5iJ",
     "timestamp": 1724744789976
    },
    {
     "file_id": "1M5vKbQND9-Xt-mDv-R8k1RCXeOgvqF6A",
     "timestamp": 1724696478152
    },
    {
     "file_id": "1CcCKjKSAKjnpSxd72kiwawz91Jyf7GrM",
     "timestamp": 1724692698034
    },
    {
     "file_id": "1IptfaM-9CPIib7-DU1aLuoqPEXEPZ_7v",
     "timestamp": 1724689790508
    },
    {
     "file_id": "13M6dEG_2oGUGifA8u36h0btOmGfguoFe",
     "timestamp": 1724678513651
    },
    {
     "file_id": "1NKkTvlcN069JkAZ4S4uQoyDvEF56_Ouu",
     "timestamp": 1724672590002
    },
    {
     "file_id": "17mG_3B-mhry1CshPWPxzwjdqpX6_ZSL0",
     "timestamp": 1724669667114
    },
    {
     "file_id": "1nlmxCUQJiyjjYjOZIffRV5hnjbsCThPN",
     "timestamp": 1724665678742
    },
    {
     "file_id": "1Q9LX0Va2nmvCPGhYN-UCfQYo-ow7neod",
     "timestamp": 1724655191886
    },
    {
     "file_id": "1Etf694umZ8x6wKH4umukkj40pepatXru",
     "timestamp": 1724621631975
    },
    {
     "file_id": "1iA56Ungz9H8tJWL0I3ZyH80-Hb2yCxGI",
     "timestamp": 1724614318101
    },
    {
     "file_id": "1Px8_KSVUAJOl9iAxl_-qTdb49Ts5J2LP",
     "timestamp": 1724610689978
    },
    {
     "file_id": "1ed_hQ1jJEqwCb3lnal5PyG8caXxQalls",
     "timestamp": 1724607234782
    },
    {
     "file_id": "14IRMZqy2Gdt0KTf-rCWh6DgIeclT_QCY",
     "timestamp": 1724601946084
    },
    {
     "file_id": "1QCQHxXk4vuXgKZqOVNLdDzAL0j1qjjXY",
     "timestamp": 1724591557839
    },
    {
     "file_id": "1B125TQO_TB8hUt7Eb_ySuxxu1q_KC7HE",
     "timestamp": 1724581927968
    },
    {
     "file_id": "172qcIXuFCSPFXoyAHje2FVWcQEsCTqsF",
     "timestamp": 1724568091324
    },
    {
     "file_id": "1uDwEz5wl_anlRyuTkDfH1-4C3ALF_Sdn",
     "timestamp": 1724536258924
    },
    {
     "file_id": "1E1P3njS56WO_PnpUmzOVxl0ZTC2DN95F",
     "timestamp": 1724531495867
    },
    {
     "file_id": "1zKvGOPeVJK7XReeG8Rd0OguNwArGjEW_",
     "timestamp": 1724528691850
    },
    {
     "file_id": "1CIvyc11PaOaEqKhtbtGHYdUCaZTVFQJB",
     "timestamp": 1724524931767
    },
    {
     "file_id": "1uxmvKEz_KGFoDXTA3Edn-LWa4uaHiK7J",
     "timestamp": 1724521095545
    },
    {
     "file_id": "1DDdX1l8e835q9KIZES672F3wQqWvrT-f",
     "timestamp": 1724516823053
    },
    {
     "file_id": "1Mash3g5t6SWFJTmZRae81uyLAFX89-7m",
     "timestamp": 1724508254035
    },
    {
     "file_id": "1WQQ8ytSf8wkohVCfW2FzdaPs_eM3lpLS",
     "timestamp": 1724503308429
    },
    {
     "file_id": "1u7v1H_ckML6b7NR1mnkadXEUYAyilDnL",
     "timestamp": 1724496164956
    },
    {
     "file_id": "1OMRBCWh9VH4JF_2mSAZIs3uiKjzn2esy",
     "timestamp": 1724488093757
    },
    {
     "file_id": "15Z6uyg2YFp3D3SEESXRhRvB89kdbwUnt",
     "timestamp": 1724455387597
    },
    {
     "file_id": "1bToQLr0AnKonoo8LJEI_1-ql4F3fUYf2",
     "timestamp": 1724453554858
    },
    {
     "file_id": "122rFBv9GIIv42P8nJstcdg9l5KOR5t35",
     "timestamp": 1724451112179
    },
    {
     "file_id": "1q64gSE5u-m_ibQBPb4i-smvi27AMBvsB",
     "timestamp": 1724449175901
    },
    {
     "file_id": "1V3qiGe3697au6eWgQL5MU3IuVDuHoHsc",
     "timestamp": 1724447355128
    },
    {
     "file_id": "1rb8beQ3qtw5smsNPKE1GfiTVLKVssAla",
     "timestamp": 1724442155003
    },
    {
     "file_id": "1wlVwNl5RzDvrTEupu9td-UcuaLIgNttr",
     "timestamp": 1724439041746
    },
    {
     "file_id": "12Gm8sS5NPpccwwVGrvJE_q0MJSV37Oxb",
     "timestamp": 1724436869626
    },
    {
     "file_id": "13lOogd1taYR182vXhomo-HlzZeYLciVH",
     "timestamp": 1724431868508
    },
    {
     "file_id": "1h352SCPBrDGddJ-pVaOUJIZgb_QkxhQu",
     "timestamp": 1724425075097
    },
    {
     "file_id": "1l5j1NwA1kkJuJOooo396TTlbPVYq-rw_",
     "timestamp": 1724417975813
    },
    {
     "file_id": "1DAWYJnYqSBo7aGEuyOKUA13Qbs-SP0_M",
     "timestamp": 1724413002304
    },
    {
     "file_id": "1sqYN6MkH3wEWCQjOkop_bOPCsCgCDbJd",
     "timestamp": 1724409954931
    },
    {
     "file_id": "1n0XtpBnphmlWOqfIJvsogBMkdbk2nwVU",
     "timestamp": 1724404992337
    },
    {
     "file_id": "1-8zvulwHT7xqau4AMcoeJST1bNFinf9R",
     "timestamp": 1724397374379
    },
    {
     "file_id": "17px6ZM-RA9ma7OLOukMCBnX17Hz0tdP2",
     "timestamp": 1724362034884
    },
    {
     "file_id": "1ReCILeXuy05E1a7yUs_80nPEODC9TF2E",
     "timestamp": 1724356257757
    },
    {
     "file_id": "1KH4MjAuCXaYXe4L_T9eCRaaPZyjyKGG5",
     "timestamp": 1724352401609
    },
    {
     "file_id": "1aULPq4l3nD9wqUGUFtlRbeGjIXDlV6Pi",
     "timestamp": 1724348223541
    },
    {
     "file_id": "1tzdRH7VpHoSsqMNQ7c7cLbEO4a5_huoF",
     "timestamp": 1724346513869
    },
    {
     "file_id": "1HG8PWx6xgedS54gaQvcXNV4RpK97XA10",
     "timestamp": 1724341389440
    },
    {
     "file_id": "1oFBrk2z8TrfigW_MD0NecrO4EMDnuIye",
     "timestamp": 1724339825788
    },
    {
     "file_id": "1majGuscKBlsYeLu0-kgQCElAVrEJxj7P",
     "timestamp": 1724333258727
    },
    {
     "file_id": "1rYy9w4tEMipjbzHc0zu7FygJKzOoDHYM",
     "timestamp": 1724330175231
    },
    {
     "file_id": "18sWV2rZFfdf6VD8dl0V5wTjoXJfRFAuI",
     "timestamp": 1724327295312
    },
    {
     "file_id": "1OP4Oel3Tr-t98j9RubwP8Ox4ijKiDhES",
     "timestamp": 1724319750289
    },
    {
     "file_id": "1tALpQIjxVibE8g56RdEwEh8ir1_WOyCX",
     "timestamp": 1724314365854
    },
    {
     "file_id": "1RjY52z8bKrOrpEtcMzJYCfwHv8p1Rsk0",
     "timestamp": 1724276925454
    },
    {
     "file_id": "1wfYrr8rN5h4Kil1QWRdkbeiprdiE4v3C",
     "timestamp": 1724274052323
    },
    {
     "file_id": "1sWB4vgiWXXdKjqFCq5qp8ehvZgDL57uF",
     "timestamp": 1724271456334
    },
    {
     "file_id": "1D-vDmJ4IjWvvWdMpdQGdFns3RvhFwr_h",
     "timestamp": 1724265496386
    },
    {
     "file_id": "1BiyWnnZMCk8pEUA8I8WhTK7U9bCC1IOb",
     "timestamp": 1724262800967
    },
    {
     "file_id": "1bxF6G2v3BZ2sCBsRNy2DAw4AHEUF6fhZ",
     "timestamp": 1724258056284
    },
    {
     "file_id": "1JpOzt9Kil3zd_2awU88TswQbeCjVr-vj",
     "timestamp": 1724252666601
    },
    {
     "file_id": "1zKH10S0wYREuxAU0QuSK6W6wWtvPe4Fo",
     "timestamp": 1724249947724
    },
    {
     "file_id": "17vQkFpEHDtkAS5KfG8W26sbTjyh10hio",
     "timestamp": 1724247876917
    },
    {
     "file_id": "1nGzgJO5IhcENU9-JAOcbd5Zfh3qiSU_3",
     "timestamp": 1724246205146
    },
    {
     "file_id": "1qKy9vSaAFvpfILcMbmhIIaNCTKSc3JtT",
     "timestamp": 1724241706214
    },
    {
     "file_id": "1l67AY2ruDt358_gKtorxiW2V28g9U83s",
     "timestamp": 1724237429695
    },
    {
     "file_id": "1zk089mpIVPEEK8x5TCw7bbEUq0neZ8A3",
     "timestamp": 1724234109116
    },
    {
     "file_id": "1V72DkT2UVVhwumRdCynVzcWjU0_iIqWK",
     "timestamp": 1724227929411
    },
    {
     "file_id": "1fucRAKgPm-fYIVafeJYWxsclxaKdQwWQ",
     "timestamp": 1724190470900
    },
    {
     "file_id": "1fhhfB-mvGjaIeCEhPZQCJZ2j4-X4DtwD",
     "timestamp": 1724185333088
    },
    {
     "file_id": "15a1qQ_VQh-TbaDgKg6V9bie0plsOTQ2n",
     "timestamp": 1724182413615
    },
    {
     "file_id": "1mfK0ArFfn57BELI9TmmB6fN4C5q40xmI",
     "timestamp": 1724180135587
    },
    {
     "file_id": "1O1o1L7VYYYggGJPnfLkNHMT6tdW7Igxr",
     "timestamp": 1724174288132
    },
    {
     "file_id": "1YpaAielUHghGWvQwgVLOOMkCInqn7Dp1",
     "timestamp": 1724168765613
    },
    {
     "file_id": "1J5cdvLjA95OQZVMDrxCsXC7iIEVbz01z",
     "timestamp": 1724163013586
    },
    {
     "file_id": "1VOOkVWe5v4WPY_WGLHBWwZZC6GoHRnwA",
     "timestamp": 1724159494395
    },
    {
     "file_id": "1MH9vo2ycQY1eTJGyYIMm8taGCXlGUcul",
     "timestamp": 1724157309517
    },
    {
     "file_id": "1rEtr1Rud6axZ6FQKPGx5V-Ow3G4RZQPT",
     "timestamp": 1724150119440
    },
    {
     "file_id": "1Dc93Qqw_Mhglhzm5tGjDRbhhMaISlfNh",
     "timestamp": 1724145298164
    },
    {
     "file_id": "1Y1Mhxa5bovlqzu_3vOPJqODbe6F4iI2B",
     "timestamp": 1724097944909
    },
    {
     "file_id": "1_bb9GlqDGbCuyubZDLQHyZaD8MaphjB0",
     "timestamp": 1724090382283
    },
    {
     "file_id": "1ibAoklRl4Vx0GrbNzJClYIK7ibqZ03r7",
     "timestamp": 1724086484827
    },
    {
     "file_id": "1akkrVALInI0keKRNIst4rLg5Xbw2kHkG",
     "timestamp": 1724081430841
    },
    {
     "file_id": "1GUFik7rUvW7P8iGeI9vtto-2yRVWi-cB",
     "timestamp": 1724076019311
    },
    {
     "file_id": "1fnb3Zm9a8BXldXcct-EQ_fD0LOglMkG9",
     "timestamp": 1724070647825
    },
    {
     "file_id": "1lYSQCmacLiucnARNxxUzhocoaQ4KUw8d",
     "timestamp": 1724061439066
    },
    {
     "file_id": "1woRb7Gszp7eLZ2LUA-q4Fzxpl8Npwh2y",
     "timestamp": 1724049960024
    },
    {
     "file_id": "1p5zKZJiOImQzOvu9GnQRtDY_tN79GaoL",
     "timestamp": 1724012407557
    },
    {
     "file_id": "1WGjZUe1j6V8NGHr_4O5eXEaJFQPpEiJS",
     "timestamp": 1724006308281
    },
    {
     "file_id": "1wWI7PgvG9MyuuplH4YXJe2cEQAZjJXCz",
     "timestamp": 1723999702497
    },
    {
     "file_id": "1eLvjXP0IwEIiH4Zh6-QkK7rvWbtm0Rhd",
     "timestamp": 1723995380430
    },
    {
     "file_id": "1LuUuwLu61BbupqMTpx09AQuE9hqzzE9g",
     "timestamp": 1723990518593
    },
    {
     "file_id": "1aO_3Egwt4SWO646HGA7nAfFzne89EAm3",
     "timestamp": 1723968940879
    },
    {
     "file_id": "1q8Pc9ewiOhHyNMu_vMM-EW9ywVKz7sRZ",
     "timestamp": 1723928105436
    },
    {
     "file_id": "1Wlxf2Mc_O7LNNJfixYBewqbvEVW3e3Rg",
     "timestamp": 1723886258403
    },
    {
     "file_id": "1096cRWyrX0UUw7dfCMW5elAvxkXhlN6q",
     "timestamp": 1723882374103
    },
    {
     "file_id": "12PYYl2X11GMxPFeEn_Ro7zpse18d_O1t",
     "timestamp": 1723842823073
    },
    {
     "file_id": "1n_h52SWhhs3yvtOKt5BSftGR3WfimkUV",
     "timestamp": 1723836713198
    },
    {
     "file_id": "190cQiYZpM9hEvyup5Gw__IqJeU6bG7fV",
     "timestamp": 1723833672059
    },
    {
     "file_id": "1m3vYyYnvhk1XjnoEUQTezVvOWNOODoFI",
     "timestamp": 1723826616057
    },
    {
     "file_id": "16FdOACypN0-ytKHsb6fJQ2EZMCZYRFd2",
     "timestamp": 1723822352961
    },
    {
     "file_id": "17iCfZkXTUBGsRNUM_AuvmVq579S5GaMF",
     "timestamp": 1723818073456
    },
    {
     "file_id": "1xzsQFT9fjWfHAClxFv0K2tw6KOi8sRnR",
     "timestamp": 1723810526609
    },
    {
     "file_id": "1Jv9IzOUGGfG7cCtZJQs4gcs9l_6XJnsj",
     "timestamp": 1723807617154
    },
    {
     "file_id": "1iD1ECZeAaSDSdBgii_jABiJfvLNmfmqd",
     "timestamp": 1723801444810
    },
    {
     "file_id": "11v6bPIFJZ5i65-vhd9yZjE9cu9w_gyq4",
     "timestamp": 1723794965554
    },
    {
     "file_id": "1L7FVkpJNg6RD8R3LQvxLMLllaR78M4R3",
     "timestamp": 1723754761516
    },
    {
     "file_id": "1dW9OqNi089lsbP3k2vGwAmzUd1xP3-rs",
     "timestamp": 1723750877075
    },
    {
     "file_id": "1Zp-XNJBE93j-KKJaySQ90N453PuJV4RO",
     "timestamp": 1723745508627
    },
    {
     "file_id": "16nSzySzMXxlq4Og1Z-FVSwkAeXbAAcXl",
     "timestamp": 1723741795392
    },
    {
     "file_id": "1ZChlJv2LIIgMNwFh0U-QvknaqRMDAcDh",
     "timestamp": 1723736536322
    },
    {
     "file_id": "1ptZ-IntQuXZciRfSdij2VxM58JohXg6O",
     "timestamp": 1723733587032
    },
    {
     "file_id": "1eN8SOxh37FwgL0_ExAUY5iv9Xg3J4rhA",
     "timestamp": 1723729033740
    },
    {
     "file_id": "1yr_UT77V1wXY5YJ8LOUAQ4odJqF8WGIL",
     "timestamp": 1723727241891
    },
    {
     "file_id": "1kUfLbPkwPAU5zpz65DtcpVep9eEfX318",
     "timestamp": 1723722760832
    },
    {
     "file_id": "17qdFuLsVEg6AXkZQ62tgecdNq5BKjc9v",
     "timestamp": 1723717428649
    },
    {
     "file_id": "1POk44vUT0ol4zIynnm8JpPxenmKOIWPI",
     "timestamp": 1723710954572
    },
    {
     "file_id": "1FXGYsqq6FNo4WlZ9wihwL5Dw0RsgKIIa",
     "timestamp": 1723673127553
    },
    {
     "file_id": "1RGspkZamawicHXe_kCkeSFr07_r7qhOs",
     "timestamp": 1723669161889
    },
    {
     "file_id": "1p0rN_Z6NRy3ylSuN3bAajE2fIk51KDOs",
     "timestamp": 1723667510505
    },
    {
     "file_id": "1D3FZoMRImjaz9PbvsRmn8i27I2tzaNF1",
     "timestamp": 1723665341537
    },
    {
     "file_id": "1N5WBkCgPn9JrTj52H3ndAT0vO2HR7jOY",
     "timestamp": 1723662143849
    },
    {
     "file_id": "12TjunzHmPcJxc77AnI_ftqupTFgGhfKU",
     "timestamp": 1723656533961
    },
    {
     "file_id": "1wTYgFn-QrCvKkBZ5bSHvfYjdtEAclhx-",
     "timestamp": 1723650173212
    },
    {
     "file_id": "1q95JrHTdN91h-xrho8joQsNL8vfTNg4L",
     "timestamp": 1723644985017
    },
    {
     "file_id": "1rqNNY4vhuRZNp00U1VBwzqcs8jpzvEhh",
     "timestamp": 1723639463520
    },
    {
     "file_id": "1hM84KceTIcWwqWNn1hVrd96tEE836Lp2",
     "timestamp": 1723637090064
    },
    {
     "file_id": "1A-jb0v76E86Jy561oqu9rMCvH_8VOXSd",
     "timestamp": 1723633356712
    },
    {
     "file_id": "15e5aWAMN2NMIylK_GAL7vmZSg8vPhet8",
     "timestamp": 1723630268885
    },
    {
     "file_id": "1pKfe8g9O59e5ofx68Z9EovzIlzvF-R-h",
     "timestamp": 1723627262897
    },
    {
     "file_id": "1XuoQNX5YdAwDHFT7o7QKKwUi5z2F9Bbg",
     "timestamp": 1723623471635
    },
    {
     "file_id": "1dcrW_8uLEMBvtaXd8Jr2Y0GCJ2FuhI0z",
     "timestamp": 1723621440338
    },
    {
     "file_id": "1-s4s9Co3sZ-tQv6kt6OTsor7kA0OlWzS",
     "timestamp": 1723580137120
    },
    {
     "file_id": "10C7CvolMd_MvHyxcp_1xYnZIWfSOOSBg",
     "timestamp": 1723573746682
    },
    {
     "file_id": "1oe1Lz6Kw2YyzNCXqpLUQOm9fJ7RmfdjZ",
     "timestamp": 1723568435166
    },
    {
     "file_id": "1-gh1172jGA6kFlRFutEQTyXgfKTpbT9L",
     "timestamp": 1723563991861
    },
    {
     "file_id": "1E1wQPSZifTmeF2b58B0TibLhK9B7RBdn",
     "timestamp": 1723558699242
    },
    {
     "file_id": "1trwsq7biKk_HptttxSm3vvuoaXquXmdf",
     "timestamp": 1723554943744
    },
    {
     "file_id": "1KgLgtWmlZPtR_HsLh-OxWbfPZdQ9iReH",
     "timestamp": 1723545862287
    },
    {
     "file_id": "1DN22Z0M0PJedyAzZz47ZzXVj6w1LysOd",
     "timestamp": 1723543680641
    },
    {
     "file_id": "1Blwf-b1O63JNcgK2kls3TU4RZz6Hzlz0",
     "timestamp": 1723539641065
    },
    {
     "file_id": "1ESqz-xw6Im4VDD8GvmxQfp_XwEFHdTTW",
     "timestamp": 1723537996190
    },
    {
     "file_id": "1gFfHGrUyZXXd2WgYR_bfq58JLRnv-o5V",
     "timestamp": 1723493696779
    },
    {
     "file_id": "1O5Lz4SBy7EUwVOyaVSUKuiJZJpPtYyBw",
     "timestamp": 1723486206077
    },
    {
     "file_id": "1YSA2m2GUseQZyJ0I-AIlUjyTtMQxoUob",
     "timestamp": 1723481247088
    },
    {
     "file_id": "1HgIarxgzUTFgw4MtieZIylLnlMfmiYCI",
     "timestamp": 1723476317614
    },
    {
     "file_id": "1QqzWKsEF2Jas5d3OYYtC9olj9ZiXYxu5",
     "timestamp": 1723470402550
    },
    {
     "file_id": "143ijwyanW1ndP1dIlOjjdV-KUYn2VDtY",
     "timestamp": 1723462986298
    },
    {
     "file_id": "1OYeNHi0ASf7qymxRcW2lNo-v1CNAkYTr",
     "timestamp": 1723459704740
    },
    {
     "file_id": "1d7bqI-g5MG7eei6J6frRnVVp4BbyJKfy",
     "timestamp": 1723458250632
    },
    {
     "file_id": "1EtuN7BRV907P1XLGdtWE2_2p-z7USwVJ",
     "timestamp": 1723451299390
    },
    {
     "file_id": "1nHvyjIbpVWr0fjhqoroSE3MXTjRHMy92",
     "timestamp": 1723409793417
    },
    {
     "file_id": "1cimzA2pnuZtJouAXlG4fYoW_Pxd3qL0i",
     "timestamp": 1723406815144
    },
    {
     "file_id": "1hOJD04dkZ7B9UZfY11OJ6XbCCM8cKTVp",
     "timestamp": 1723405653678
    },
    {
     "file_id": "1NXLZXS4yWmnr0ls6QWKr7BBT4F5jvAKF",
     "timestamp": 1723398504907
    },
    {
     "file_id": "1U_KqHbH89LJRS4pDDlaIEWYFV7OthPxa",
     "timestamp": 1723392291860
    },
    {
     "file_id": "17wymlX0bI4jpp7_0MzIWrTGVC7wFpMBW",
     "timestamp": 1723389791002
    },
    {
     "file_id": "1aeNsKTEThaQYRia74uJPcOgU7wKCwpF9",
     "timestamp": 1723379250425
    },
    {
     "file_id": "1CrJOMa1b_jsovqr38KU2ZrG2ftXiGj9O",
     "timestamp": 1723372385137
    },
    {
     "file_id": "1WQe_9wdV6UONnbbW-lGPaD2iU_cr66hL",
     "timestamp": 1723365121951
    },
    {
     "file_id": "1tn2q35tsm9iTlGlKavkhmY0d3vcAjni6",
     "timestamp": 1723326031449
    },
    {
     "file_id": "1OHzMsjVa287A75mbw4lOyLPDfDQXYqjQ",
     "timestamp": 1723317930309
    },
    {
     "file_id": "1KYFm3tiuNi-hQ6lmc-rRLgDpiuXajB5K",
     "timestamp": 1723313705691
    },
    {
     "file_id": "1i-FgQa6JD3STgl_eLsUx4kHTAUPt8OSI",
     "timestamp": 1723303303312
    },
    {
     "file_id": "1nP8mUc4TqzMGi28RL8y_DXNK3e8DfPwq",
     "timestamp": 1723296108785
    },
    {
     "file_id": "1Y_ex1dj3bcUr6_spKu1ZNgsPDd_nKyrM",
     "timestamp": 1723288605746
    },
    {
     "file_id": "1fmc0xvuatarYYAHOrDbDF7GadPgO2DMk",
     "timestamp": 1723279034688
    },
    {
     "file_id": "144IIJOtf5VvD2k9fKOabE8ZdEJc6RBd9",
     "timestamp": 1723233902999
    },
    {
     "file_id": "1bOICkNmvA93gQOpu7n0Z4yNA4tO5PgyB",
     "timestamp": 1723228909495
    },
    {
     "file_id": "1zpwKRJkL-HAWFDoV1V219cgSZTd07PNh",
     "timestamp": 1723224378961
    },
    {
     "file_id": "10gSBIrZQtvpFYPl9dKj9N6wBmlH7Y7EZ",
     "timestamp": 1723220176565
    },
    {
     "file_id": "1fGeC2buMSwaKuiz0Ixx7lyejIuz3fLOI",
     "timestamp": 1723214606637
    },
    {
     "file_id": "19ypHnFwbQ0GMr1gcfc33EfRL0i8FqTVK",
     "timestamp": 1723208307527
    },
    {
     "file_id": "1TbFLWVM8AULaG-OEo0HTLPSAVqIgGpra",
     "timestamp": 1723203030844
    },
    {
     "file_id": "1G9UxwloY7o85lNGlWFMIqkLqHdeNnDqr",
     "timestamp": 1723195136970
    },
    {
     "file_id": "1eBRlP17OqlY4X-6KxqzP90VwPnoPv9ZG",
     "timestamp": 1723144413590
    },
    {
     "file_id": "1IS2nJTUROSqi5dIOpWFLbC5xxbqqJtYE",
     "timestamp": 1723134670394
    },
    {
     "file_id": "1Az0loiU4wGGAkSmmgH4ZAD-RcBEW6MQ-",
     "timestamp": 1723120698608
    },
    {
     "file_id": "1zXiA3-w-M4H_A2eL_vcopSoppxJpfEL9",
     "timestamp": 1723106892810
    },
    {
     "file_id": "1WgmYzJTJtZTdYS3s7wS874_p1t5GvXrt",
     "timestamp": 1723058825010
    },
    {
     "file_id": "1jDoSheYGmF0GTHBVO9zCgsQdqOmuYQJ0",
     "timestamp": 1723050590435
    },
    {
     "file_id": "1WGP21pW3ks4tDEAKTm-T8GFqFj_3OuLL",
     "timestamp": 1723041366040
    },
    {
     "file_id": "1Z4T4zf3L3eceFww9pr6sYEg30Fc2Xp04",
     "timestamp": 1723029318336
    },
    {
     "file_id": "1WvgtkzeEjbDcVuA2F9z_W_AHa8z19NY_",
     "timestamp": 1723025244573
    },
    {
     "file_id": "1VXawUZQe-mjoqhZccJ-YagFSETI2XaHK",
     "timestamp": 1723020480236
    },
    {
     "file_id": "1apJEKws-Y45L24LVdx-D87ZGPAH3_mBm",
     "timestamp": 1723018477510
    },
    {
     "file_id": "1R4eGuATZCTFY_bUCkUiJ6TODraLVGjd1",
     "timestamp": 1722979110918
    },
    {
     "file_id": "1i-QZFTPK_XnwIY15uKvi9FBymQmMLOVi",
     "timestamp": 1722970601221
    },
    {
     "file_id": "1VdZzYn0WqdM-w5RmRNgdYNICp22TLq1e",
     "timestamp": 1722958635320
    },
    {
     "file_id": "1412PUENb-_k9lJIehdpLGl_53yrD47T3",
     "timestamp": 1722950918594
    },
    {
     "file_id": "1DOO_ANlUHCWCgmeilgud2hUSAmRyoeG2",
     "timestamp": 1722942787156
    },
    {
     "file_id": "1CsqZrOhvWOmEeLt9PCcbcDHz-zNcwNGF",
     "timestamp": 1722933511972
    },
    {
     "file_id": "14HEy6wc0K03n_W1MaHdxxM_kr91xHfjs",
     "timestamp": 1722927035639
    },
    {
     "file_id": "1MNVi93vE_fN2WYoBO4qXD65-NpsKJ4SU",
     "timestamp": 1722883983583
    },
    {
     "file_id": "1VmVPue11SpQLwMV-vvCLVzs7H37g-Wl9",
     "timestamp": 1722874950492
    },
    {
     "file_id": "1yMKImgs4VT0tXlcCEdIoLgsEc-65zYkB",
     "timestamp": 1722862415820
    },
    {
     "file_id": "1PxzwSkMZtisRJ8MiCrL_pbkjjWc0CqA-",
     "timestamp": 1722856228507
    },
    {
     "file_id": "1Ezd6-76HFkLnxBjCUy0g50GvBlDnSV7D",
     "timestamp": 1722843619302
    },
    {
     "file_id": "1pQaJuBjLEfO-u0xaVPYQbocZq1aP0Cfy",
     "timestamp": 1722800318699
    },
    {
     "file_id": "1c3UaHEdSgP53YEWwm6-fJQyALXJTpGuF",
     "timestamp": 1722795145738
    },
    {
     "file_id": "1iX2P6vq58oQO6jfrqwZgxmzWB1EHKsfX",
     "timestamp": 1722790498138
    },
    {
     "file_id": "1InS4AX0LlpZ0MH5HWlnENyKh-JcUzBJQ",
     "timestamp": 1722784078207
    },
    {
     "file_id": "1ZlFNj2TXMqpUfzFG3TDkGnNX-QwArL_X",
     "timestamp": 1722779711639
    },
    {
     "file_id": "1kxJeCOL1kwOyQXZxqx3gmlqLvxX4ZQXc",
     "timestamp": 1722775469362
    },
    {
     "file_id": "109OSbs5ZjNbxxOZtudOdp8q1czI_2qmW",
     "timestamp": 1722770684957
    },
    {
     "file_id": "1Zsd24I3NyAnnKeqtGiRRNIGud61fhQq-",
     "timestamp": 1722761069243
    },
    {
     "file_id": "10_lI9iveGY3NVrw8jdK5BlsU9fPxFvAe",
     "timestamp": 1722712292043
    },
    {
     "file_id": "1ePuZSbc4Hvju31m-xpcHfz_5_8VlAl5l",
     "timestamp": 1722708054070
    },
    {
     "file_id": "1WykhkdFgBsIgp7Lv6Z1NvnykP2MHWd3s",
     "timestamp": 1722704064546
    },
    {
     "file_id": "1odYhCTURFhKNheqWPGTsZhiDMEselsK1",
     "timestamp": 1722700045878
    },
    {
     "file_id": "1Qfq1Y64tz07zVUSUaT6DGZauiFF0r5d1",
     "timestamp": 1722698753811
    },
    {
     "file_id": "1ASNJrBMOKLUArrnlZvW9Ak8cF-unTYYZ",
     "timestamp": 1722678518148
    },
    {
     "file_id": "1FeC2V_OQ07p7RkaMDtzHpgpEUveZvkY5",
     "timestamp": 1722676475198
    },
    {
     "file_id": "1r5X4vofY0DH4NK_e0HTrktSTHpyXyVFz",
     "timestamp": 1722632669286
    },
    {
     "file_id": "1h86AV9hjLJKdS1bJHX0kmnR8q2sTSS4G",
     "timestamp": 1722630035976
    },
    {
     "file_id": "1Um4mS7D4GEAraZPtT1hCPttjOHjs4Ng7",
     "timestamp": 1722624776211
    },
    {
     "file_id": "1uaXAhQd7Y28FCgKgmTlrezpFIx9-0hQD",
     "timestamp": 1722620722726
    },
    {
     "file_id": "1kxoAzCZfjO8QL3JJOYJmGdBw_E8QVy5p",
     "timestamp": 1722614696974
    },
    {
     "file_id": "13g6xYFIIxRuOXaGKw6vRoMvYYX2XItVk",
     "timestamp": 1722611601489
    },
    {
     "file_id": "1PTVa9NUh8tiZj7Dp88I6AZE7hBubtRO7",
     "timestamp": 1722606092260
    },
    {
     "file_id": "1_jTkw66EWsZYoFWjmhVM173gL8rYBQjc",
     "timestamp": 1722601798129
    },
    {
     "file_id": "19JGGho6ZQSbPlYrEzbfqhiD4_Tj7dw8P",
     "timestamp": 1722597463052
    },
    {
     "file_id": "1KNqQZJGWQY4RHso5eBBC76V-ZcIsWbWB",
     "timestamp": 1722592940068
    },
    {
     "file_id": "10dLpexs0_SaIdJ2VvYCnMlfCrJYEujUs",
     "timestamp": 1722586683771
    },
    {
     "file_id": "1nvFuS24Px9y-rlPbNf8PhHCiGoCEUqHH",
     "timestamp": 1722543719521
    },
    {
     "file_id": "1R57fVLwAS1hP5LN7XC9KKohqIbBCLbf7",
     "timestamp": 1722539469166
    },
    {
     "file_id": "1iJvuPqi02y7W7DzpD8xaHtBE1rrX4Wh7",
     "timestamp": 1722535517755
    },
    {
     "file_id": "1zK-gjU4-CHTtRIzUieEsKnojUOpQM_bp",
     "timestamp": 1722527797836
    },
    {
     "file_id": "153ahW554Xc85zl1Xidm6piIz9dnRJ7uR",
     "timestamp": 1722519714293
    },
    {
     "file_id": "18LxzaHNaQF9t7ZHgLL9vQztkl445llvO",
     "timestamp": 1722518490217
    },
    {
     "file_id": "1Rb6nCTJo5eCOLDpV2lM6xYEUMZBqx2MZ",
     "timestamp": 1722511276505
    },
    {
     "file_id": "1IxiVM-BqfFqzQY8hNxDba5yqhu3tQz5s",
     "timestamp": 1722503339794
    },
    {
     "file_id": "1j5qBGRx-kGYzKxKhTxQ0DD6SInOcpsyz",
     "timestamp": 1722459275099
    },
    {
     "file_id": "1-5WeIW-l_LSjZ9RexD7tCzTXdHOwyk4X",
     "timestamp": 1722451158266
    },
    {
     "file_id": "1xHUF6VyA1UxrS1g7TQpF8TKKjXFZFx79",
     "timestamp": 1722444908261
    },
    {
     "file_id": "1Q4Vsf5Q9UZ93ugVEraqbDnuO6Oi186Uc",
     "timestamp": 1722440584595
    },
    {
     "file_id": "11A-bncWbPuymy3ytCoYvxQ1qsIJv6YCm",
     "timestamp": 1722434453436
    },
    {
     "file_id": "1Ppt5WDkyK1M3J5KuopuL5dhzjkmpKR4k",
     "timestamp": 1722429873681
    },
    {
     "file_id": "1kvv_Ni96sNvAbJMvdZgoj3VLvbsuzF-Q",
     "timestamp": 1722423456591
    },
    {
     "file_id": "16nn7cnwggZ0Jh6KUxP5Iea7qqZnALr__",
     "timestamp": 1722418312267
    },
    {
     "file_id": "1i1e5F8yeidiSKVQYOka92REYVBS36P1q",
     "timestamp": 1722414086351
    },
    {
     "file_id": "1XGb2phUAnyku4o11NfB5ZCoOYyVSeHV2",
     "timestamp": 1722409851934
    },
    {
     "file_id": "1tn7XurZasx-jy1ie0reg9DKsmKGO0SdH",
     "timestamp": 1722373784844
    },
    {
     "file_id": "1UBqYN8O7vuRMeG3BwEfHMbOIaw1pyKBP",
     "timestamp": 1722369284126
    },
    {
     "file_id": "1mDblT5NTwEEk563d77JMYRcuuvpAFS1K",
     "timestamp": 1722364649485
    },
    {
     "file_id": "1bdpENy2rkZxz09klehqRVouUOvmREFKG",
     "timestamp": 1722360225766
    },
    {
     "file_id": "1TTQdeGrePuGBAOZEaaCEsLpqhF63YFUL",
     "timestamp": 1722354360539
    },
    {
     "file_id": "1H027BvsABiiUg1B-fQjZ1mkx1M0CpGBX",
     "timestamp": 1722352897916
    },
    {
     "file_id": "1xYPcjvhPL1JPmyuL1Jh9CVmabR854OiP",
     "timestamp": 1722348964154
    },
    {
     "file_id": "1gwbTtTc9uHSjn2wRBwUHDpyJPV19-ISB",
     "timestamp": 1722344649113
    },
    {
     "file_id": "1QUznc2u131qMHQq8Md4VtGcEP8LyFP3V",
     "timestamp": 1722335861400
    },
    {
     "file_id": "1zvixs4nqwMHUlLzmK9zvlNdpkCT4e5Jl",
     "timestamp": 1722327127715
    },
    {
     "file_id": "1sQK8LjZ033qUm2HjwcBWLzU3gg1IC1As",
     "timestamp": 1722278618101
    },
    {
     "file_id": "13mQRypPdX0x8jdMW_qRuvurkqBsSMCHL",
     "timestamp": 1722272509323
    },
    {
     "file_id": "1qcYIR7btqU-GnqDt21Can9bP5rEvXWva",
     "timestamp": 1722263099865
    },
    {
     "file_id": "1s5GmypXDPPYsCjtTNsML6blccwv6wMuF",
     "timestamp": 1722239958609
    },
    {
     "file_id": "1q5h1CTwP0UuSuXwecIebKCDU89JfSZgX",
     "timestamp": 1722198827757
    },
    {
     "file_id": "1XbuRyLtPXl3YZlXtTkVkMPImFUGjwDIM",
     "timestamp": 1722192822314
    },
    {
     "file_id": "1xosrCUicgL41ke09sJh8q0hzppd7V93_",
     "timestamp": 1722185304068
    },
    {
     "file_id": "1Tjv3EFxtaSZl1_NGGhMStAEc7U_79x9Z",
     "timestamp": 1722178806219
    },
    {
     "file_id": "1DhUpXeMeFp4aiIhYaKLN-ZeIAz9zj8Bh",
     "timestamp": 1722173605843
    },
    {
     "file_id": "1Ye1yrVjuhOfBw_0Nkh2m_oh6-wfaYzvO",
     "timestamp": 1722172133472
    },
    {
     "file_id": "1vbkkoxc0_joVEtSSZN6Ka4sQdEucD3Ah",
     "timestamp": 1722167833660
    },
    {
     "file_id": "15Wxmuk_4t2lhFxx8IxKbF_YIDFZOTAUJ",
     "timestamp": 1722163371780
    },
    {
     "file_id": "131-KLtbdG1kgfZXtNatFS1nPmXShijoM",
     "timestamp": 1722158769710
    },
    {
     "file_id": "1oyhlpG06q8GzhkGJEWRhv7my_rFFk73H",
     "timestamp": 1722154312214
    },
    {
     "file_id": "1uPORPUlk63LwudDAySqK8-f8KqCr5q9U",
     "timestamp": 1722115614298
    },
    {
     "file_id": "1ieKMzazA5iwLVVN3SncelLncDqR88RgW",
     "timestamp": 1722008119332
    },
    {
     "file_id": "1Gd1ayQx6wNNbtRwBlHFT__SyMCFJQjkH",
     "timestamp": 1722001287358
    },
    {
     "file_id": "1dhCZ1xX-vdoxYb4YZNgq781iSo6jEkJj",
     "timestamp": 1721993032802
    },
    {
     "file_id": "19wdPG3ukkOxi1rJoa7zC1HfDK_hcr8eh",
     "timestamp": 1721983506059
    },
    {
     "file_id": "1NimI5cbnhIn9ORslr7M3mV4zXfl4f_eo",
     "timestamp": 1721978302507
    },
    {
     "file_id": "1IASWoW-V-caUrr-U61mdLeaCPst-URZb",
     "timestamp": 1721973489283
    },
    {
     "file_id": "1s7MZWTCFbTQA23BUie-EwKaO4dSjAnwJ",
     "timestamp": 1721941004912
    },
    {
     "file_id": "176S8O9ORZd_-SfCEGFpmeaskxOd7AC6_",
     "timestamp": 1721936696619
    },
    {
     "file_id": "1iO4FJqwZOIgl3GXDYLw-i8EIRdsAOuPn",
     "timestamp": 1721932380751
    },
    {
     "file_id": "1fpYWvoXqlhQT7RaUvUWbkVAr-8DTLO4v",
     "timestamp": 1721928109611
    },
    {
     "file_id": "18gQx0Cg2U5vWK_3ntAdzOkROfu7PDCOs",
     "timestamp": 1721922640186
    },
    {
     "file_id": "1DFZy3bz7Ku_zivj3Fl89sAaoB-h5x2VN",
     "timestamp": 1721917032988
    },
    {
     "file_id": "1ImAl5Ee4zA4lCLCI09OeFuOCuR7UUOCz",
     "timestamp": 1721912928057
    },
    {
     "file_id": "1-CPO-aZVlW-556t_Zrcwdqt0Nip46Pco",
     "timestamp": 1721908528754
    },
    {
     "file_id": "1VtK3rKsqByibWVUysOMQCzwJ3KYhUnx4",
     "timestamp": 1721901477018
    },
    {
     "file_id": "1a4b7cJQ9VP2L9cWvbyFYc-yLw_zdLTkS",
     "timestamp": 1721894252908
    },
    {
     "file_id": "1TFlIqkpMSnzLiXJTLeupnly62o5WGw_F",
     "timestamp": 1721885047495
    },
    {
     "file_id": "1L2dXnXng0cboPnPqEuv72G8AgG4SUIWc",
     "timestamp": 1721877481803
    },
    {
     "file_id": "1zCutFY6Fr2w88aLd7wuuwtkEI2tUjpF0",
     "timestamp": 1721849286411
    },
    {
     "file_id": "130cXB3efvX2Zkbv-C9sux771dkFkq4TA",
     "timestamp": 1721844798161
    },
    {
     "file_id": "1O51R3aWsfiNFLj7TPhrtbdcv6QSkrjUt",
     "timestamp": 1721838616392
    },
    {
     "file_id": "1b8gCnMxjKx350Whs9z0Spzy1jbmfbC0n",
     "timestamp": 1721830511040
    },
    {
     "file_id": "1xEjyS1e1FA0SPu_sByCKG0wwYoKnHu_H",
     "timestamp": 1721824411133
    },
    {
     "file_id": "1MrI3tyQ0h3xDT8nhsf5T3UQbQoIna1xG",
     "timestamp": 1721816366087
    },
    {
     "file_id": "1dTctL4uJlLuhVxRhi5FIRm4crlcX3lWS",
     "timestamp": 1721809956130
    },
    {
     "file_id": "1T2WNtEKLo_eIQQqMpt-xPvli77qrzZzW",
     "timestamp": 1721763450649
    },
    {
     "file_id": "1lByCX26ey5t_vrBz2C6-mQs4RGaWmTne",
     "timestamp": 1721757345173
    },
    {
     "file_id": "1P3XjsV3I_1XT7W-LZXWTto0IR5GYE5lD",
     "timestamp": 1721749311535
    },
    {
     "file_id": "1Zyhl2Pc77PyAgzJFJ_aa36TWwEAW51hk",
     "timestamp": 1721740187328
    },
    {
     "file_id": "12IcZmT7qTOtds1jFcg5sYqhQ51fQNxwN",
     "timestamp": 1721731954235
    },
    {
     "file_id": "1hLaE29Y-IYQlKknvlZaluFLn46MbIijx",
     "timestamp": 1721724730621
    },
    {
     "file_id": "1wryoezJuyHwWWY52SlyuT-R5LQ7DY1L-",
     "timestamp": 1721718153108
    },
    {
     "file_id": "1L4SDsOThNUWThGcLrMi56utvQPN4uJ5B",
     "timestamp": 1721683077080
    },
    {
     "file_id": "1NXM7q78W7Rzmhj4pBHj2pURFO4RVhbul",
     "timestamp": 1721678537095
    },
    {
     "file_id": "1K5vzrtvYWXzIV8nBpsxznXeCRjwCBKpd",
     "timestamp": 1721674888267
    },
    {
     "file_id": "1xHwaiLkYzl71jvH91rSP8AnAIjwJIcxE",
     "timestamp": 1721670218623
    },
    {
     "file_id": "1b9iRlREo2Wf70vOnEoXoyNTkGbNM2FDF",
     "timestamp": 1721665045093
    },
    {
     "file_id": "1qhqx0l9bRyAumChjL1ZmTUVfHamQeYTY",
     "timestamp": 1721658524671
    },
    {
     "file_id": "1YuHA05q6I2ghb6-olj6R97fNz-qDqA0y",
     "timestamp": 1721651363325
    },
    {
     "file_id": "1srhDAuFHsgF-MNQ2eN64uCuKU5UeY84e",
     "timestamp": 1721644196634
    },
    {
     "file_id": "1bKx6o3nrOvoY8PPfnG3ThvR4K-jizOaN",
     "timestamp": 1721636595402
    },
    {
     "file_id": "1fJMrW_kjXpdkR_R8RMQsLjQj51i89Fb0",
     "timestamp": 1721587953586
    },
    {
     "file_id": "1srUoJEyHimKSKVEJkoEBBKB_gD6yv9yK",
     "timestamp": 1721580725933
    },
    {
     "file_id": "1Zb_P2pyFluLwLAvUYax0PWT7X6AkQj9O",
     "timestamp": 1721573728726
    },
    {
     "file_id": "1cX0DVYNuNoGNDskCYTXSkP34QAaoh_DI",
     "timestamp": 1721566755222
    },
    {
     "file_id": "1tqOB_-2HQr40EHdyuJys2oTjllY8VbE6",
     "timestamp": 1721559877224
    },
    {
     "file_id": "1CgZpBgRLJtlpiOl3HBD3EPGf7abMbGsD",
     "timestamp": 1721552211457
    },
    {
     "file_id": "1DHOXSK9tAEoeuPRCc7Msf4QD51LC9-Gy",
     "timestamp": 1721547929413
    },
    {
     "file_id": "1M59uAK36LF2dnwGuIxxPOVVFeoCee7bK",
     "timestamp": 1721504630973
    },
    {
     "file_id": "1NRSbI-meE70wrnHQzkxDgU8cnxCTJLUj",
     "timestamp": 1721484235890
    },
    {
     "file_id": "1eDZKQb479ew9oFLzYD_aldVZyBv1hkBG",
     "timestamp": 1721478015580
    },
    {
     "file_id": "1_WxmbGngzqftX_uN5YO5bL_BrwoO9VYu",
     "timestamp": 1721472247250
    },
    {
     "file_id": "1tc0wekz6fVbcT0tdNY2X_uaHGnwQQFpc",
     "timestamp": 1721463380624
    },
    {
     "file_id": "1ZyqAZrPnb0vHmeqoiDDC35KLbqpOh3Ms",
     "timestamp": 1721412383507
    },
    {
     "file_id": "1sfrmttErl44E7egM8yWkyQEOrxo_Skuv",
     "timestamp": 1721400826825
    },
    {
     "file_id": "1iANPpJeUYL4Ieo3uKjV06W4LKciNl5Tx",
     "timestamp": 1721390734659
    },
    {
     "file_id": "19-whc6yfvElpgu9Rh_26gxG4vOrIrmUX",
     "timestamp": 1721376960631
    },
    {
     "file_id": "18QUM6HmJGPtaTB6dHiCR41GCyI-58w11",
     "timestamp": 1721327060120
    },
    {
     "file_id": "1HQZjUMEq7pIGI9juB4x5IH1lj3d9YI4I",
     "timestamp": 1721317116648
    },
    {
     "file_id": "1MqDQTY3IXGE6w2nxpcVcnXRUyFT0rgeU",
     "timestamp": 1721308883160
    },
    {
     "file_id": "10ivJnbdPSDWzWXlSJCfyOe4lZTJtYBAN",
     "timestamp": 1721305229042
    },
    {
     "file_id": "1e5qDnDzZi8_7Um975DcG8ibnNsGDsdLK",
     "timestamp": 1721292192976
    },
    {
     "file_id": "1Uo_RCa1U4tgIYbnepWMNed8L7fc2l8T6",
     "timestamp": 1721279434568
    },
    {
     "file_id": "19LvzuI-g8xO5CIOrq7IGlt80p2EBEIbY",
     "timestamp": 1721243398202
    },
    {
     "file_id": "19cCl6mk3qnD_t6jECFwk_ROu3mc2jRBl",
     "timestamp": 1721235061104
    },
    {
     "file_id": "1YGoqhUTNmL-rnRY15jct0s5sEtipX0qa",
     "timestamp": 1721230980419
    },
    {
     "file_id": "1xHUNUWSyvJszZ-2_WGh8Hs1rUajOGKXB",
     "timestamp": 1721224644077
    },
    {
     "file_id": "1WHXIm_gEkr_rU1BWWSOkOB3NwnZBxg9K",
     "timestamp": 1721218672900
    },
    {
     "file_id": "1tfgJk6BqadcnjymK5zVzJK1Ok9ljf6OE",
     "timestamp": 1721210744432
    },
    {
     "file_id": "1nRfmo-0tNDOSOjPvW2966oS72-KsnSnz",
     "timestamp": 1721204878858
    },
    {
     "file_id": "1r82J00FecoL9SwYFyLgMmQAtAPhrHi-z",
     "timestamp": 1721121854684
    },
    {
     "file_id": "1u9pyli3qkXMdDq85jfPq25BRGKu0LJzd",
     "timestamp": 1721112910388
    },
    {
     "file_id": "1bRougTpZM4iqnGxfGNBd92zqv6CFZ9Gb",
     "timestamp": 1721075330881
    },
    {
     "file_id": "1GzCSPUfx_B4h0p9jRRJe_J8e4bjplqr_",
     "timestamp": 1721066025735
    },
    {
     "file_id": "1iSNtKPnvPg_qaqpM2TsAVDl2i874nMvt",
     "timestamp": 1721055607560
    },
    {
     "file_id": "1X4tG-AQRRFJmrAoQxCe51l5jegCCdWkV",
     "timestamp": 1721039947566
    },
    {
     "file_id": "1KL1_M1lEw8xZFWz4HYy2FmfuufXEy0fb",
     "timestamp": 1721026670506
    },
    {
     "file_id": "1FDk_v5zvy_1zfpiaPneovKpcp6s0Fnh7",
     "timestamp": 1720983726775
    },
    {
     "file_id": "1-14640ndfgW46dCQGXzGXB_tkuXt31kM",
     "timestamp": 1720968109655
    },
    {
     "file_id": "1QZFjeLvOis7265SW9NTcY8Iwmx43Ot2z",
     "timestamp": 1720961601424
    },
    {
     "file_id": "1GbO3XC3LfhF6pXgQV3KpWwuNok3ZpxGN",
     "timestamp": 1720952519197
    },
    {
     "file_id": "1Er0dZqJLckIpmBD5y6OKzPD_yXI5s4bH",
     "timestamp": 1720906952836
    },
    {
     "file_id": "1qJMi_gFbZeo2oQEId-VhSPVSxt4M3SNm",
     "timestamp": 1720894150358
    },
    {
     "file_id": "1BNPTxso1FK06cyVcEHaERrmdUlPx5QjC",
     "timestamp": 1720883579075
    },
    {
     "file_id": "1CSAMgl7hmfbnacE_AkQi4_3lZvyWrrcr",
     "timestamp": 1720868446156
    },
    {
     "file_id": "1MYQk3ggnm4nsFF45ao0ct9MV4EIbfERI",
     "timestamp": 1720861455903
    },
    {
     "file_id": "1GZ_IU_Hl5C_9DaWS9GEmyluiiCm5xhiL",
     "timestamp": 1720811364829
    },
    {
     "file_id": "13itEVq932LFkmI7igMqmbkQmpYS4wFwJ",
     "timestamp": 1720798645509
    },
    {
     "file_id": "1cZRdxsFO9BVby3rVuWxHexcXsWIyF9Ox",
     "timestamp": 1720772670571
    },
    {
     "file_id": "19ihjef8kIdxWSAukKYp1ezf_CArseoHb",
     "timestamp": 1720710833662
    },
    {
     "file_id": "1ZexYfZMgSDLS8VYumgU7WKlTGmLfWFrM",
     "timestamp": 1720637145646
    },
    {
     "file_id": "https://github.com/NielsRogge/Transformers-Tutorials/blob/master/T5/Fine_tune_CodeT5_for_generating_docstrings_from_Ruby_code.ipynb",
     "timestamp": 1720598270477
    }
   ]
  },
  "kernelspec": {
   "display_name": "Python 3",
   "name": "python3"
  },
  "language_info": {
   "name": "python"
  }
 },
 "nbformat": 4,
 "nbformat_minor": 0
}
